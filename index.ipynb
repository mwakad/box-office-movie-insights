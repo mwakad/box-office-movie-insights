{
 "cells": [
  {
   "cell_type": "markdown",
   "metadata": {},
   "source": [
    "# Profitability Analysis: Insights for New Movie Studio"
   ]
  },
  {
   "cell_type": "markdown",
   "metadata": {},
   "source": [
    "**Group: 2 B**\n",
    "\n",
    "**Student Pace: DSF-FT12-Hybrid**\n",
    "\n",
    "**Instructor Name: Samuel Karu**"
   ]
  },
  {
   "cell_type": "markdown",
   "metadata": {},
   "source": [
    "## **1. Business Understanding**\n",
    "\n",
    "### Introduction\n",
    "\n",
    "#### **Objective**\n",
    "\n",
    "The goal of this project is to assist a new movie studio in making data-driven decisions regarding the types of films to produce. The movie industry has seen significant success from companies that create original video content, and our aim is to help this new studio maximize its profitability. By analyzing historical data from previous films, we aim to uncover patterns and insights that will inform the company's decision-making for its new movie production studio.\n",
    "\n",
    "#### **Business Question**\n",
    "\n",
    "The key business question is:\n",
    "- Which **predictor factors** can the _company_  leverage to optimize the **profitability** of its _new movie studio_?\n",
    "\n",
    "The scope of our project _narrows-down_ to **four predictor factors:**\n",
    "- **Genre**: Which movie genres tend to perform best at the box office?\n",
    "- **Production Budget**: Does a higher production budget lead to higher profitability?\n",
    "- **Release Season**: Are certain seasons (e.g., summer) more profitable for movie releases?\n",
    "- **Director and Actor Impact**: Do popular/ top-performing actors and directors contribute significantly to a film's financial success?\n"
   ]
  },
  {
   "cell_type": "markdown",
   "metadata": {},
   "source": [
    "### Workflow Summary\n",
    "\n",
    "1. **Data Loading**: Multiple datasets are loaded from CSV files and the im.db SQLite database.\n",
    "2. **Data Cleaning**: Missing values and duplicates are handled, and outliers removed using statistical methods like IQR.\n",
    "3. **Feature Engineering**: New features such as `movie_profit/loss`, `release_month`, and `season` are created to enhance the analysis.\n",
    "4. **Data Merging**: Datasets are merged to create a comprehensive `final_df` containing all relevant information.\n",
    "5. **Exploratory Data Analysis (EDA)**: Visualizations and statistical summaries are used to explore relationships between variables.\n",
    "6. **Hypothesis Testing**: ANOVA, Pearson correlation coefficient, and chi-square tests are conducted to validate hypotheses. Visualizations \n",
    "7. **Insights and Results**: Business recommendations are deduced based on quantitative findings.\n"
   ]
  },
  {
   "cell_type": "markdown",
   "metadata": {},
   "source": [
    "## **2. Data Understanding**"
   ]
  },
  {
   "cell_type": "code",
   "execution_count": 1,
   "metadata": {},
   "outputs": [],
   "source": [
    "# Import necessary libraries\n",
    "import pandas as pd\n",
    "import numpy as np\n",
    "import matplotlib.pyplot as plt\n",
    "import seaborn as sns\n",
    "import sqlite3"
   ]
  },
  {
   "cell_type": "markdown",
   "metadata": {},
   "source": [
    "### Load the .csv datasets\n",
    "\n",
    "**Box Office Mojo Dataset** (_bom.movie_gross.csv.gz_): Contains data on movie titles, domestic and foreign gross revenue, studio, and year of release.\n",
    "\n",
    "**Budgets Dataset** (_tn.movie_budgets.csv.gz_): Contains data on movie titles, production budgets, worldwide gross revenue, and release dates."
   ]
  },
  {
   "cell_type": "code",
   "execution_count": 2,
   "metadata": {},
   "outputs": [],
   "source": [
    "# Load BOM dataset and budgets dataset\n",
    "bom_df = pd.read_csv('./zipped-data/bom.movie_gross.csv')\n",
    "budgets_df = pd.read_csv('./zipped-data/tn.movie_budgets.csv')"
   ]
  },
  {
   "cell_type": "code",
   "execution_count": 3,
   "metadata": {},
   "outputs": [
    {
     "data": {
      "text/html": [
       "<div>\n",
       "<style scoped>\n",
       "    .dataframe tbody tr th:only-of-type {\n",
       "        vertical-align: middle;\n",
       "    }\n",
       "\n",
       "    .dataframe tbody tr th {\n",
       "        vertical-align: top;\n",
       "    }\n",
       "\n",
       "    .dataframe thead th {\n",
       "        text-align: right;\n",
       "    }\n",
       "</style>\n",
       "<table border=\"1\" class=\"dataframe\">\n",
       "  <thead>\n",
       "    <tr style=\"text-align: right;\">\n",
       "      <th></th>\n",
       "      <th>title</th>\n",
       "      <th>studio</th>\n",
       "      <th>domestic_gross</th>\n",
       "      <th>foreign_gross</th>\n",
       "      <th>year</th>\n",
       "    </tr>\n",
       "  </thead>\n",
       "  <tbody>\n",
       "    <tr>\n",
       "      <th>0</th>\n",
       "      <td>Toy Story 3</td>\n",
       "      <td>BV</td>\n",
       "      <td>415000000.0</td>\n",
       "      <td>652000000</td>\n",
       "      <td>2010</td>\n",
       "    </tr>\n",
       "    <tr>\n",
       "      <th>1</th>\n",
       "      <td>Alice in Wonderland (2010)</td>\n",
       "      <td>BV</td>\n",
       "      <td>334200000.0</td>\n",
       "      <td>691300000</td>\n",
       "      <td>2010</td>\n",
       "    </tr>\n",
       "    <tr>\n",
       "      <th>2</th>\n",
       "      <td>Harry Potter and the Deathly Hallows Part 1</td>\n",
       "      <td>WB</td>\n",
       "      <td>296000000.0</td>\n",
       "      <td>664300000</td>\n",
       "      <td>2010</td>\n",
       "    </tr>\n",
       "    <tr>\n",
       "      <th>3</th>\n",
       "      <td>Inception</td>\n",
       "      <td>WB</td>\n",
       "      <td>292600000.0</td>\n",
       "      <td>535700000</td>\n",
       "      <td>2010</td>\n",
       "    </tr>\n",
       "    <tr>\n",
       "      <th>4</th>\n",
       "      <td>Shrek Forever After</td>\n",
       "      <td>P/DW</td>\n",
       "      <td>238700000.0</td>\n",
       "      <td>513900000</td>\n",
       "      <td>2010</td>\n",
       "    </tr>\n",
       "  </tbody>\n",
       "</table>\n",
       "</div>"
      ],
      "text/plain": [
       "                                         title studio  domestic_gross  \\\n",
       "0                                  Toy Story 3     BV     415000000.0   \n",
       "1                   Alice in Wonderland (2010)     BV     334200000.0   \n",
       "2  Harry Potter and the Deathly Hallows Part 1     WB     296000000.0   \n",
       "3                                    Inception     WB     292600000.0   \n",
       "4                          Shrek Forever After   P/DW     238700000.0   \n",
       "\n",
       "  foreign_gross  year  \n",
       "0     652000000  2010  \n",
       "1     691300000  2010  \n",
       "2     664300000  2010  \n",
       "3     535700000  2010  \n",
       "4     513900000  2010  "
      ]
     },
     "execution_count": 3,
     "metadata": {},
     "output_type": "execute_result"
    }
   ],
   "source": [
    "# Review the first five rows of bom_df\n",
    "bom_df.head()"
   ]
  },
  {
   "cell_type": "code",
   "execution_count": 4,
   "metadata": {},
   "outputs": [
    {
     "data": {
      "text/html": [
       "<div>\n",
       "<style scoped>\n",
       "    .dataframe tbody tr th:only-of-type {\n",
       "        vertical-align: middle;\n",
       "    }\n",
       "\n",
       "    .dataframe tbody tr th {\n",
       "        vertical-align: top;\n",
       "    }\n",
       "\n",
       "    .dataframe thead th {\n",
       "        text-align: right;\n",
       "    }\n",
       "</style>\n",
       "<table border=\"1\" class=\"dataframe\">\n",
       "  <thead>\n",
       "    <tr style=\"text-align: right;\">\n",
       "      <th></th>\n",
       "      <th>id</th>\n",
       "      <th>release_date</th>\n",
       "      <th>movie</th>\n",
       "      <th>production_budget</th>\n",
       "      <th>domestic_gross</th>\n",
       "      <th>worldwide_gross</th>\n",
       "    </tr>\n",
       "  </thead>\n",
       "  <tbody>\n",
       "    <tr>\n",
       "      <th>0</th>\n",
       "      <td>1</td>\n",
       "      <td>Dec 18, 2009</td>\n",
       "      <td>Avatar</td>\n",
       "      <td>$425,000,000</td>\n",
       "      <td>$760,507,625</td>\n",
       "      <td>$2,776,345,279</td>\n",
       "    </tr>\n",
       "    <tr>\n",
       "      <th>1</th>\n",
       "      <td>2</td>\n",
       "      <td>May 20, 2011</td>\n",
       "      <td>Pirates of the Caribbean: On Stranger Tides</td>\n",
       "      <td>$410,600,000</td>\n",
       "      <td>$241,063,875</td>\n",
       "      <td>$1,045,663,875</td>\n",
       "    </tr>\n",
       "    <tr>\n",
       "      <th>2</th>\n",
       "      <td>3</td>\n",
       "      <td>Jun 7, 2019</td>\n",
       "      <td>Dark Phoenix</td>\n",
       "      <td>$350,000,000</td>\n",
       "      <td>$42,762,350</td>\n",
       "      <td>$149,762,350</td>\n",
       "    </tr>\n",
       "    <tr>\n",
       "      <th>3</th>\n",
       "      <td>4</td>\n",
       "      <td>May 1, 2015</td>\n",
       "      <td>Avengers: Age of Ultron</td>\n",
       "      <td>$330,600,000</td>\n",
       "      <td>$459,005,868</td>\n",
       "      <td>$1,403,013,963</td>\n",
       "    </tr>\n",
       "    <tr>\n",
       "      <th>4</th>\n",
       "      <td>5</td>\n",
       "      <td>Dec 15, 2017</td>\n",
       "      <td>Star Wars Ep. VIII: The Last Jedi</td>\n",
       "      <td>$317,000,000</td>\n",
       "      <td>$620,181,382</td>\n",
       "      <td>$1,316,721,747</td>\n",
       "    </tr>\n",
       "  </tbody>\n",
       "</table>\n",
       "</div>"
      ],
      "text/plain": [
       "   id  release_date                                        movie  \\\n",
       "0   1  Dec 18, 2009                                       Avatar   \n",
       "1   2  May 20, 2011  Pirates of the Caribbean: On Stranger Tides   \n",
       "2   3   Jun 7, 2019                                 Dark Phoenix   \n",
       "3   4   May 1, 2015                      Avengers: Age of Ultron   \n",
       "4   5  Dec 15, 2017            Star Wars Ep. VIII: The Last Jedi   \n",
       "\n",
       "  production_budget domestic_gross worldwide_gross  \n",
       "0      $425,000,000   $760,507,625  $2,776,345,279  \n",
       "1      $410,600,000   $241,063,875  $1,045,663,875  \n",
       "2      $350,000,000    $42,762,350    $149,762,350  \n",
       "3      $330,600,000   $459,005,868  $1,403,013,963  \n",
       "4      $317,000,000   $620,181,382  $1,316,721,747  "
      ]
     },
     "execution_count": 4,
     "metadata": {},
     "output_type": "execute_result"
    }
   ],
   "source": [
    "# Review the first five rows of budgets_df\n",
    "budgets_df.head()"
   ]
  },
  {
   "cell_type": "markdown",
   "metadata": {},
   "source": [
    "### Connect and load the im.db Database\n",
    "Connect im.db and querry the database to retrieve the names of its tables."
   ]
  },
  {
   "cell_type": "code",
   "execution_count": 5,
   "metadata": {},
   "outputs": [
    {
     "data": {
      "text/html": [
       "<div>\n",
       "<style scoped>\n",
       "    .dataframe tbody tr th:only-of-type {\n",
       "        vertical-align: middle;\n",
       "    }\n",
       "\n",
       "    .dataframe tbody tr th {\n",
       "        vertical-align: top;\n",
       "    }\n",
       "\n",
       "    .dataframe thead th {\n",
       "        text-align: right;\n",
       "    }\n",
       "</style>\n",
       "<table border=\"1\" class=\"dataframe\">\n",
       "  <thead>\n",
       "    <tr style=\"text-align: right;\">\n",
       "      <th></th>\n",
       "      <th>name</th>\n",
       "    </tr>\n",
       "  </thead>\n",
       "  <tbody>\n",
       "    <tr>\n",
       "      <th>0</th>\n",
       "      <td>movie_basics</td>\n",
       "    </tr>\n",
       "    <tr>\n",
       "      <th>1</th>\n",
       "      <td>directors</td>\n",
       "    </tr>\n",
       "    <tr>\n",
       "      <th>2</th>\n",
       "      <td>known_for</td>\n",
       "    </tr>\n",
       "    <tr>\n",
       "      <th>3</th>\n",
       "      <td>movie_akas</td>\n",
       "    </tr>\n",
       "    <tr>\n",
       "      <th>4</th>\n",
       "      <td>movie_ratings</td>\n",
       "    </tr>\n",
       "    <tr>\n",
       "      <th>5</th>\n",
       "      <td>persons</td>\n",
       "    </tr>\n",
       "    <tr>\n",
       "      <th>6</th>\n",
       "      <td>principals</td>\n",
       "    </tr>\n",
       "    <tr>\n",
       "      <th>7</th>\n",
       "      <td>writers</td>\n",
       "    </tr>\n",
       "  </tbody>\n",
       "</table>\n",
       "</div>"
      ],
      "text/plain": [
       "            name\n",
       "0   movie_basics\n",
       "1      directors\n",
       "2      known_for\n",
       "3     movie_akas\n",
       "4  movie_ratings\n",
       "5        persons\n",
       "6     principals\n",
       "7        writers"
      ]
     },
     "execution_count": 5,
     "metadata": {},
     "output_type": "execute_result"
    }
   ],
   "source": [
    "# Load the imdb database\n",
    "conn = sqlite3.connect('./zipped-data/im.db')\n",
    "pd.read_sql(\"SELECT name FROM sqlite_master WHERE type=='table'\",conn)"
   ]
  },
  {
   "cell_type": "markdown",
   "metadata": {},
   "source": [
    "#### Load the movie_basics Table\n",
    "\n",
    "Select relevant columns from the movie_basics table per the scope of our project. These include: `movie_id`, `primary_title`, `runtime_minutes`, and `genres`."
   ]
  },
  {
   "cell_type": "code",
   "execution_count": 6,
   "metadata": {},
   "outputs": [
    {
     "data": {
      "text/html": [
       "<div>\n",
       "<style scoped>\n",
       "    .dataframe tbody tr th:only-of-type {\n",
       "        vertical-align: middle;\n",
       "    }\n",
       "\n",
       "    .dataframe tbody tr th {\n",
       "        vertical-align: top;\n",
       "    }\n",
       "\n",
       "    .dataframe thead th {\n",
       "        text-align: right;\n",
       "    }\n",
       "</style>\n",
       "<table border=\"1\" class=\"dataframe\">\n",
       "  <thead>\n",
       "    <tr style=\"text-align: right;\">\n",
       "      <th></th>\n",
       "      <th>movie_id</th>\n",
       "      <th>primary_title</th>\n",
       "      <th>runtime_minutes</th>\n",
       "      <th>genres</th>\n",
       "    </tr>\n",
       "  </thead>\n",
       "  <tbody>\n",
       "    <tr>\n",
       "      <th>0</th>\n",
       "      <td>tt0063540</td>\n",
       "      <td>Sunghursh</td>\n",
       "      <td>175.0</td>\n",
       "      <td>Action,Crime,Drama</td>\n",
       "    </tr>\n",
       "    <tr>\n",
       "      <th>1</th>\n",
       "      <td>tt0066787</td>\n",
       "      <td>One Day Before the Rainy Season</td>\n",
       "      <td>114.0</td>\n",
       "      <td>Biography,Drama</td>\n",
       "    </tr>\n",
       "    <tr>\n",
       "      <th>2</th>\n",
       "      <td>tt0069049</td>\n",
       "      <td>The Other Side of the Wind</td>\n",
       "      <td>122.0</td>\n",
       "      <td>Drama</td>\n",
       "    </tr>\n",
       "    <tr>\n",
       "      <th>3</th>\n",
       "      <td>tt0069204</td>\n",
       "      <td>Sabse Bada Sukh</td>\n",
       "      <td>NaN</td>\n",
       "      <td>Comedy,Drama</td>\n",
       "    </tr>\n",
       "    <tr>\n",
       "      <th>4</th>\n",
       "      <td>tt0100275</td>\n",
       "      <td>The Wandering Soap Opera</td>\n",
       "      <td>80.0</td>\n",
       "      <td>Comedy,Drama,Fantasy</td>\n",
       "    </tr>\n",
       "  </tbody>\n",
       "</table>\n",
       "</div>"
      ],
      "text/plain": [
       "    movie_id                    primary_title  runtime_minutes  \\\n",
       "0  tt0063540                        Sunghursh            175.0   \n",
       "1  tt0066787  One Day Before the Rainy Season            114.0   \n",
       "2  tt0069049       The Other Side of the Wind            122.0   \n",
       "3  tt0069204                  Sabse Bada Sukh              NaN   \n",
       "4  tt0100275         The Wandering Soap Opera             80.0   \n",
       "\n",
       "                 genres  \n",
       "0    Action,Crime,Drama  \n",
       "1       Biography,Drama  \n",
       "2                 Drama  \n",
       "3          Comedy,Drama  \n",
       "4  Comedy,Drama,Fantasy  "
      ]
     },
     "execution_count": 6,
     "metadata": {},
     "output_type": "execute_result"
    }
   ],
   "source": [
    "# Load the movie_basics dataset from the SQLite database\n",
    "query = \"\"\"\n",
    "SELECT \n",
    "    movie_id, \n",
    "    primary_title, \n",
    "    runtime_minutes, \n",
    "    genres\n",
    "FROM movie_basics\n",
    "\"\"\"\n",
    "movie_basics = pd.read_sql_query(query, conn)\n",
    "movie_basics.head()"
   ]
  },
  {
   "cell_type": "markdown",
   "metadata": {},
   "source": [
    " #### Load the movie_ratings Table\n",
    "\n",
    "Select relevant columns from the movie_ratings table per the scope of our project. These include: `movie_id`, `averagerating`, and `numvotes`."
   ]
  },
  {
   "cell_type": "code",
   "execution_count": 7,
   "metadata": {},
   "outputs": [
    {
     "data": {
      "text/html": [
       "<div>\n",
       "<style scoped>\n",
       "    .dataframe tbody tr th:only-of-type {\n",
       "        vertical-align: middle;\n",
       "    }\n",
       "\n",
       "    .dataframe tbody tr th {\n",
       "        vertical-align: top;\n",
       "    }\n",
       "\n",
       "    .dataframe thead th {\n",
       "        text-align: right;\n",
       "    }\n",
       "</style>\n",
       "<table border=\"1\" class=\"dataframe\">\n",
       "  <thead>\n",
       "    <tr style=\"text-align: right;\">\n",
       "      <th></th>\n",
       "      <th>movie_id</th>\n",
       "      <th>averagerating</th>\n",
       "      <th>numvotes</th>\n",
       "    </tr>\n",
       "  </thead>\n",
       "  <tbody>\n",
       "    <tr>\n",
       "      <th>0</th>\n",
       "      <td>tt10356526</td>\n",
       "      <td>8.3</td>\n",
       "      <td>31</td>\n",
       "    </tr>\n",
       "    <tr>\n",
       "      <th>1</th>\n",
       "      <td>tt10384606</td>\n",
       "      <td>8.9</td>\n",
       "      <td>559</td>\n",
       "    </tr>\n",
       "    <tr>\n",
       "      <th>2</th>\n",
       "      <td>tt1042974</td>\n",
       "      <td>6.4</td>\n",
       "      <td>20</td>\n",
       "    </tr>\n",
       "    <tr>\n",
       "      <th>3</th>\n",
       "      <td>tt1043726</td>\n",
       "      <td>4.2</td>\n",
       "      <td>50352</td>\n",
       "    </tr>\n",
       "    <tr>\n",
       "      <th>4</th>\n",
       "      <td>tt1060240</td>\n",
       "      <td>6.5</td>\n",
       "      <td>21</td>\n",
       "    </tr>\n",
       "  </tbody>\n",
       "</table>\n",
       "</div>"
      ],
      "text/plain": [
       "     movie_id  averagerating  numvotes\n",
       "0  tt10356526            8.3        31\n",
       "1  tt10384606            8.9       559\n",
       "2   tt1042974            6.4        20\n",
       "3   tt1043726            4.2     50352\n",
       "4   tt1060240            6.5        21"
      ]
     },
     "execution_count": 7,
     "metadata": {},
     "output_type": "execute_result"
    }
   ],
   "source": [
    "query = \"\"\"\n",
    "SELECT \n",
    "    movie_id, \n",
    "    averagerating, \n",
    "    numvotes\n",
    "FROM movie_ratings\n",
    "\"\"\"\n",
    "movie_ratings = pd.read_sql_query(query, conn)\n",
    "movie_ratings.head()"
   ]
  },
  {
   "cell_type": "markdown",
   "metadata": {},
   "source": [
    "#### Load the persons Table\n",
    "\n",
    "Select relevant columns from the persons table per the scope of our project. These include: `person_id`, and `primary_name`."
   ]
  },
  {
   "cell_type": "code",
   "execution_count": 8,
   "metadata": {},
   "outputs": [
    {
     "data": {
      "text/html": [
       "<div>\n",
       "<style scoped>\n",
       "    .dataframe tbody tr th:only-of-type {\n",
       "        vertical-align: middle;\n",
       "    }\n",
       "\n",
       "    .dataframe tbody tr th {\n",
       "        vertical-align: top;\n",
       "    }\n",
       "\n",
       "    .dataframe thead th {\n",
       "        text-align: right;\n",
       "    }\n",
       "</style>\n",
       "<table border=\"1\" class=\"dataframe\">\n",
       "  <thead>\n",
       "    <tr style=\"text-align: right;\">\n",
       "      <th></th>\n",
       "      <th>person_id</th>\n",
       "      <th>primary_name</th>\n",
       "    </tr>\n",
       "  </thead>\n",
       "  <tbody>\n",
       "    <tr>\n",
       "      <th>0</th>\n",
       "      <td>nm0061671</td>\n",
       "      <td>Mary Ellen Bauder</td>\n",
       "    </tr>\n",
       "    <tr>\n",
       "      <th>1</th>\n",
       "      <td>nm0061865</td>\n",
       "      <td>Joseph Bauer</td>\n",
       "    </tr>\n",
       "    <tr>\n",
       "      <th>2</th>\n",
       "      <td>nm0062070</td>\n",
       "      <td>Bruce Baum</td>\n",
       "    </tr>\n",
       "    <tr>\n",
       "      <th>3</th>\n",
       "      <td>nm0062195</td>\n",
       "      <td>Axel Baumann</td>\n",
       "    </tr>\n",
       "    <tr>\n",
       "      <th>4</th>\n",
       "      <td>nm0062798</td>\n",
       "      <td>Pete Baxter</td>\n",
       "    </tr>\n",
       "  </tbody>\n",
       "</table>\n",
       "</div>"
      ],
      "text/plain": [
       "   person_id       primary_name\n",
       "0  nm0061671  Mary Ellen Bauder\n",
       "1  nm0061865       Joseph Bauer\n",
       "2  nm0062070         Bruce Baum\n",
       "3  nm0062195       Axel Baumann\n",
       "4  nm0062798        Pete Baxter"
      ]
     },
     "execution_count": 8,
     "metadata": {},
     "output_type": "execute_result"
    }
   ],
   "source": [
    "query = \"\"\"\n",
    "SELECT \n",
    "    person_id, \n",
    "    primary_name\n",
    "FROM persons\n",
    "\"\"\"\n",
    "persons = pd.read_sql_query(query, conn)\n",
    "persons.head()"
   ]
  },
  {
   "cell_type": "markdown",
   "metadata": {},
   "source": [
    "#### Load the principals Table\n",
    "\n",
    "Select relevant columns from the principals table per the scope of our project. These include: `movie_id`, `person_id`, and `job`."
   ]
  },
  {
   "cell_type": "code",
   "execution_count": 9,
   "metadata": {},
   "outputs": [
    {
     "data": {
      "text/html": [
       "<div>\n",
       "<style scoped>\n",
       "    .dataframe tbody tr th:only-of-type {\n",
       "        vertical-align: middle;\n",
       "    }\n",
       "\n",
       "    .dataframe tbody tr th {\n",
       "        vertical-align: top;\n",
       "    }\n",
       "\n",
       "    .dataframe thead th {\n",
       "        text-align: right;\n",
       "    }\n",
       "</style>\n",
       "<table border=\"1\" class=\"dataframe\">\n",
       "  <thead>\n",
       "    <tr style=\"text-align: right;\">\n",
       "      <th></th>\n",
       "      <th>movie_id</th>\n",
       "      <th>person_id</th>\n",
       "      <th>job</th>\n",
       "    </tr>\n",
       "  </thead>\n",
       "  <tbody>\n",
       "    <tr>\n",
       "      <th>0</th>\n",
       "      <td>tt0111414</td>\n",
       "      <td>nm0246005</td>\n",
       "      <td>None</td>\n",
       "    </tr>\n",
       "    <tr>\n",
       "      <th>1</th>\n",
       "      <td>tt0111414</td>\n",
       "      <td>nm0398271</td>\n",
       "      <td>None</td>\n",
       "    </tr>\n",
       "    <tr>\n",
       "      <th>2</th>\n",
       "      <td>tt0111414</td>\n",
       "      <td>nm3739909</td>\n",
       "      <td>producer</td>\n",
       "    </tr>\n",
       "    <tr>\n",
       "      <th>3</th>\n",
       "      <td>tt0323808</td>\n",
       "      <td>nm0059247</td>\n",
       "      <td>None</td>\n",
       "    </tr>\n",
       "    <tr>\n",
       "      <th>4</th>\n",
       "      <td>tt0323808</td>\n",
       "      <td>nm3579312</td>\n",
       "      <td>None</td>\n",
       "    </tr>\n",
       "  </tbody>\n",
       "</table>\n",
       "</div>"
      ],
      "text/plain": [
       "    movie_id  person_id       job\n",
       "0  tt0111414  nm0246005      None\n",
       "1  tt0111414  nm0398271      None\n",
       "2  tt0111414  nm3739909  producer\n",
       "3  tt0323808  nm0059247      None\n",
       "4  tt0323808  nm3579312      None"
      ]
     },
     "execution_count": 9,
     "metadata": {},
     "output_type": "execute_result"
    }
   ],
   "source": [
    "query = \"\"\"\n",
    "SELECT \n",
    "    movie_id, \n",
    "    person_id, \n",
    "    job\n",
    "FROM principals\n",
    "\"\"\"\n",
    "principals = pd.read_sql_query(query, conn)\n",
    "principals.head()"
   ]
  },
  {
   "cell_type": "markdown",
   "metadata": {},
   "source": [
    "#### Load the Directors Data\n",
    "We queried and loaded the directors' information by joining the directors and persons tables from the im.db database.\n",
    "We selected the `movie_id`, `person_id`, and `primary_name` (aliased as director_name) for individuals whose category was specified as \"director.\""
   ]
  },
  {
   "cell_type": "code",
   "execution_count": 10,
   "metadata": {},
   "outputs": [
    {
     "data": {
      "text/html": [
       "<div>\n",
       "<style scoped>\n",
       "    .dataframe tbody tr th:only-of-type {\n",
       "        vertical-align: middle;\n",
       "    }\n",
       "\n",
       "    .dataframe tbody tr th {\n",
       "        vertical-align: top;\n",
       "    }\n",
       "\n",
       "    .dataframe thead th {\n",
       "        text-align: right;\n",
       "    }\n",
       "</style>\n",
       "<table border=\"1\" class=\"dataframe\">\n",
       "  <thead>\n",
       "    <tr style=\"text-align: right;\">\n",
       "      <th></th>\n",
       "      <th>movie_id</th>\n",
       "      <th>person_id</th>\n",
       "      <th>director_name</th>\n",
       "    </tr>\n",
       "  </thead>\n",
       "  <tbody>\n",
       "    <tr>\n",
       "      <th>0</th>\n",
       "      <td>tt0285252</td>\n",
       "      <td>nm0899854</td>\n",
       "      <td>Tony Vitale</td>\n",
       "    </tr>\n",
       "    <tr>\n",
       "      <th>1</th>\n",
       "      <td>tt0462036</td>\n",
       "      <td>nm1940585</td>\n",
       "      <td>Bill Haley</td>\n",
       "    </tr>\n",
       "    <tr>\n",
       "      <th>2</th>\n",
       "      <td>tt0835418</td>\n",
       "      <td>nm0151540</td>\n",
       "      <td>Jay Chandrasekhar</td>\n",
       "    </tr>\n",
       "    <tr>\n",
       "      <th>3</th>\n",
       "      <td>tt0835418</td>\n",
       "      <td>nm0151540</td>\n",
       "      <td>Jay Chandrasekhar</td>\n",
       "    </tr>\n",
       "    <tr>\n",
       "      <th>4</th>\n",
       "      <td>tt0878654</td>\n",
       "      <td>nm0089502</td>\n",
       "      <td>Albert Pyun</td>\n",
       "    </tr>\n",
       "  </tbody>\n",
       "</table>\n",
       "</div>"
      ],
      "text/plain": [
       "    movie_id  person_id      director_name\n",
       "0  tt0285252  nm0899854        Tony Vitale\n",
       "1  tt0462036  nm1940585         Bill Haley\n",
       "2  tt0835418  nm0151540  Jay Chandrasekhar\n",
       "3  tt0835418  nm0151540  Jay Chandrasekhar\n",
       "4  tt0878654  nm0089502        Albert Pyun"
      ]
     },
     "execution_count": 10,
     "metadata": {},
     "output_type": "execute_result"
    }
   ],
   "source": [
    "directors = pd.read_sql(\"\"\"\n",
    "SELECT \n",
    "    movie_id, person_id, primary_name AS director_name\n",
    "FROM directors\n",
    "INNER JOIN persons\n",
    "USING(person_id)\n",
    "\"\"\",conn)\n",
    "directors.head()"
   ]
  },
  {
   "cell_type": "markdown",
   "metadata": {},
   "source": [
    "#### Load the Actors Data\n",
    "We queried and loaded the actors' information by joining the principals and persons tables from the im.db database.\n",
    "We selected the `movie_id`, `person_id`, and `primary_name` (aliased as actor_name) for individuals whose category was specified as \"actor.\""
   ]
  },
  {
   "cell_type": "code",
   "execution_count": 11,
   "metadata": {},
   "outputs": [
    {
     "data": {
      "text/html": [
       "<div>\n",
       "<style scoped>\n",
       "    .dataframe tbody tr th:only-of-type {\n",
       "        vertical-align: middle;\n",
       "    }\n",
       "\n",
       "    .dataframe tbody tr th {\n",
       "        vertical-align: top;\n",
       "    }\n",
       "\n",
       "    .dataframe thead th {\n",
       "        text-align: right;\n",
       "    }\n",
       "</style>\n",
       "<table border=\"1\" class=\"dataframe\">\n",
       "  <thead>\n",
       "    <tr style=\"text-align: right;\">\n",
       "      <th></th>\n",
       "      <th>movie_id</th>\n",
       "      <th>person_id</th>\n",
       "      <th>actor_name</th>\n",
       "    </tr>\n",
       "  </thead>\n",
       "  <tbody>\n",
       "    <tr>\n",
       "      <th>0</th>\n",
       "      <td>tt0111414</td>\n",
       "      <td>nm0246005</td>\n",
       "      <td>Tommy Dysart</td>\n",
       "    </tr>\n",
       "    <tr>\n",
       "      <th>1</th>\n",
       "      <td>tt0323808</td>\n",
       "      <td>nm2694680</td>\n",
       "      <td>Henry Garrett</td>\n",
       "    </tr>\n",
       "    <tr>\n",
       "      <th>2</th>\n",
       "      <td>tt0323808</td>\n",
       "      <td>nm0574615</td>\n",
       "      <td>Graham McTavish</td>\n",
       "    </tr>\n",
       "    <tr>\n",
       "      <th>3</th>\n",
       "      <td>tt0417610</td>\n",
       "      <td>nm0532721</td>\n",
       "      <td>Luis Machín</td>\n",
       "    </tr>\n",
       "    <tr>\n",
       "      <th>4</th>\n",
       "      <td>tt0417610</td>\n",
       "      <td>nm0069209</td>\n",
       "      <td>Carlos Belloso</td>\n",
       "    </tr>\n",
       "  </tbody>\n",
       "</table>\n",
       "</div>"
      ],
      "text/plain": [
       "    movie_id  person_id       actor_name\n",
       "0  tt0111414  nm0246005     Tommy Dysart\n",
       "1  tt0323808  nm2694680    Henry Garrett\n",
       "2  tt0323808  nm0574615  Graham McTavish\n",
       "3  tt0417610  nm0532721      Luis Machín\n",
       "4  tt0417610  nm0069209   Carlos Belloso"
      ]
     },
     "execution_count": 11,
     "metadata": {},
     "output_type": "execute_result"
    }
   ],
   "source": [
    "actors = pd.read_sql(\"\"\"\n",
    "SELECT \n",
    "    movie_id, person_id, primary_name AS actor_name\n",
    "FROM principals\n",
    "INNER JOIN persons\n",
    "USING(person_id)\n",
    "WHERE category = 'actor' \n",
    "\"\"\",conn)\n",
    "actors.head()"
   ]
  },
  {
   "cell_type": "markdown",
   "metadata": {},
   "source": [
    "## 3. Data Preparation"
   ]
  },
  {
   "cell_type": "markdown",
   "metadata": {},
   "source": [
    "In this phase, we clean and merge the datasets to create a comprehensive dataframe for analysis."
   ]
  },
  {
   "cell_type": "markdown",
   "metadata": {},
   "source": [
    "### **Data Cleaning**\n",
    "\n",
    "Clean the monetary columns by removing dollar signs (`$`) and commas, then convert the values into numeric data types.  \n",
    "* For the `budgets_df` dataset; clean the `production_budget`, `domestic_gross`, & `worldwide_gross` columns and convert them to the numeric dtype.\n",
    "* For the `movie_ratings` dataset; convert the `averagerating` and `numvotes` columns to the numeric dtype.\n",
    "* For the `bom_df` dataset, convert the `domestic_gross` and `foreign_gross` columns to the numeric dtype."
   ]
  },
  {
   "cell_type": "code",
   "execution_count": 12,
   "metadata": {},
   "outputs": [],
   "source": [
    "# Remove $ and commas, then convert to numeric\n",
    "money_cols = ['production_budget', 'domestic_gross', 'worldwide_gross']\n",
    "\n",
    "for col in money_cols:\n",
    "    budgets_df[col] = budgets_df[col].replace({r'\\$': '', ',': ''}, regex=True)\n",
    "    budgets_df[col] = pd.to_numeric(budgets_df[col], errors='coerce')\n",
    "\n",
    "movie_ratings['averagerating'] = pd.to_numeric(movie_ratings['averagerating'], errors='coerce')\n",
    "movie_ratings['numvotes'] = pd.to_numeric(movie_ratings['numvotes'], errors='coerce')\n",
    "\n",
    "# Convert to numeric, setting errors='coerce' will turn invalid values into NaN\n",
    "bom_df['domestic_gross'] = pd.to_numeric(bom_df['domestic_gross'], errors='coerce')\n",
    "bom_df['foreign_gross'] = pd.to_numeric(bom_df['foreign_gross'], errors='coerce')\n",
    "\n",
    "# Convert 'release_date' to datetime format\n",
    "budgets_df['release_date'] = pd.to_datetime(budgets_df['release_date'], errors='coerce')"
   ]
  },
  {
   "cell_type": "markdown",
   "metadata": {},
   "source": [
    "\n",
    "#### **Check for Missing Values and Duplicates**\n",
    "\n",
    "Define the _check_duplicates_missing()_ function to check duplicate entries and missing values in a DataFrame."
   ]
  },
  {
   "cell_type": "code",
   "execution_count": 13,
   "metadata": {},
   "outputs": [],
   "source": [
    "# Define a function to check missing values and duplicates\n",
    "def check_duplicates_missing(df):\n",
    "    print('Duplicated:')\n",
    "    print(df.duplicated().value_counts())\n",
    "    print('\\nMissing values:')\n",
    "    print(df.isna().sum())\n",
    "    return df"
   ]
  },
  {
   "cell_type": "markdown",
   "metadata": {},
   "source": [
    "Call the _check_duplicates_missing()_ function to check duplicate entries and missing values for each DataFrame."
   ]
  },
  {
   "cell_type": "code",
   "execution_count": 14,
   "metadata": {},
   "outputs": [
    {
     "name": "stdout",
     "output_type": "stream",
     "text": [
      "BOM DataFrame:\n",
      "Duplicated:\n",
      "False    3387\n",
      "dtype: int64\n",
      "\n",
      "Missing values:\n",
      "title                0\n",
      "studio               5\n",
      "domestic_gross      28\n",
      "foreign_gross     1355\n",
      "year                 0\n",
      "dtype: int64\n",
      "\n",
      "Movie Basics DataFrame:\n",
      "Duplicated:\n",
      "False    146144\n",
      "dtype: int64\n",
      "\n",
      "Missing values:\n",
      "movie_id               0\n",
      "primary_title          0\n",
      "runtime_minutes    31739\n",
      "genres              5408\n",
      "dtype: int64\n",
      "\n",
      "Movie Ratings DataFrame:\n",
      "Duplicated:\n",
      "False    73856\n",
      "dtype: int64\n",
      "\n",
      "Missing values:\n",
      "movie_id         0\n",
      "averagerating    0\n",
      "numvotes         0\n",
      "dtype: int64\n",
      "\n",
      "Actors DataFrame:\n",
      "Duplicated:\n",
      "False    256543\n",
      "True         18\n",
      "dtype: int64\n",
      "\n",
      "Missing values:\n",
      "movie_id      0\n",
      "person_id     0\n",
      "actor_name    0\n",
      "dtype: int64\n",
      "\n",
      "directors:\n",
      "Duplicated:\n",
      "False    163533\n",
      "True     127638\n",
      "dtype: int64\n",
      "\n",
      "Missing values:\n",
      "movie_id         0\n",
      "person_id        0\n",
      "director_name    0\n",
      "dtype: int64\n",
      "\n",
      "Budgets DataFrame:\n",
      "Duplicated:\n",
      "False    5782\n",
      "dtype: int64\n",
      "\n",
      "Missing values:\n",
      "id                   0\n",
      "release_date         0\n",
      "movie                0\n",
      "production_budget    0\n",
      "domestic_gross       0\n",
      "worldwide_gross      0\n",
      "dtype: int64\n"
     ]
    },
    {
     "data": {
      "text/html": [
       "<div>\n",
       "<style scoped>\n",
       "    .dataframe tbody tr th:only-of-type {\n",
       "        vertical-align: middle;\n",
       "    }\n",
       "\n",
       "    .dataframe tbody tr th {\n",
       "        vertical-align: top;\n",
       "    }\n",
       "\n",
       "    .dataframe thead th {\n",
       "        text-align: right;\n",
       "    }\n",
       "</style>\n",
       "<table border=\"1\" class=\"dataframe\">\n",
       "  <thead>\n",
       "    <tr style=\"text-align: right;\">\n",
       "      <th></th>\n",
       "      <th>id</th>\n",
       "      <th>release_date</th>\n",
       "      <th>movie</th>\n",
       "      <th>production_budget</th>\n",
       "      <th>domestic_gross</th>\n",
       "      <th>worldwide_gross</th>\n",
       "    </tr>\n",
       "  </thead>\n",
       "  <tbody>\n",
       "    <tr>\n",
       "      <th>0</th>\n",
       "      <td>1</td>\n",
       "      <td>2009-12-18</td>\n",
       "      <td>Avatar</td>\n",
       "      <td>425000000</td>\n",
       "      <td>760507625</td>\n",
       "      <td>2776345279</td>\n",
       "    </tr>\n",
       "    <tr>\n",
       "      <th>1</th>\n",
       "      <td>2</td>\n",
       "      <td>2011-05-20</td>\n",
       "      <td>Pirates of the Caribbean: On Stranger Tides</td>\n",
       "      <td>410600000</td>\n",
       "      <td>241063875</td>\n",
       "      <td>1045663875</td>\n",
       "    </tr>\n",
       "    <tr>\n",
       "      <th>2</th>\n",
       "      <td>3</td>\n",
       "      <td>2019-06-07</td>\n",
       "      <td>Dark Phoenix</td>\n",
       "      <td>350000000</td>\n",
       "      <td>42762350</td>\n",
       "      <td>149762350</td>\n",
       "    </tr>\n",
       "    <tr>\n",
       "      <th>3</th>\n",
       "      <td>4</td>\n",
       "      <td>2015-05-01</td>\n",
       "      <td>Avengers: Age of Ultron</td>\n",
       "      <td>330600000</td>\n",
       "      <td>459005868</td>\n",
       "      <td>1403013963</td>\n",
       "    </tr>\n",
       "    <tr>\n",
       "      <th>4</th>\n",
       "      <td>5</td>\n",
       "      <td>2017-12-15</td>\n",
       "      <td>Star Wars Ep. VIII: The Last Jedi</td>\n",
       "      <td>317000000</td>\n",
       "      <td>620181382</td>\n",
       "      <td>1316721747</td>\n",
       "    </tr>\n",
       "    <tr>\n",
       "      <th>...</th>\n",
       "      <td>...</td>\n",
       "      <td>...</td>\n",
       "      <td>...</td>\n",
       "      <td>...</td>\n",
       "      <td>...</td>\n",
       "      <td>...</td>\n",
       "    </tr>\n",
       "    <tr>\n",
       "      <th>5777</th>\n",
       "      <td>78</td>\n",
       "      <td>2018-12-31</td>\n",
       "      <td>Red 11</td>\n",
       "      <td>7000</td>\n",
       "      <td>0</td>\n",
       "      <td>0</td>\n",
       "    </tr>\n",
       "    <tr>\n",
       "      <th>5778</th>\n",
       "      <td>79</td>\n",
       "      <td>1999-04-02</td>\n",
       "      <td>Following</td>\n",
       "      <td>6000</td>\n",
       "      <td>48482</td>\n",
       "      <td>240495</td>\n",
       "    </tr>\n",
       "    <tr>\n",
       "      <th>5779</th>\n",
       "      <td>80</td>\n",
       "      <td>2005-07-13</td>\n",
       "      <td>Return to the Land of Wonders</td>\n",
       "      <td>5000</td>\n",
       "      <td>1338</td>\n",
       "      <td>1338</td>\n",
       "    </tr>\n",
       "    <tr>\n",
       "      <th>5780</th>\n",
       "      <td>81</td>\n",
       "      <td>2015-09-29</td>\n",
       "      <td>A Plague So Pleasant</td>\n",
       "      <td>1400</td>\n",
       "      <td>0</td>\n",
       "      <td>0</td>\n",
       "    </tr>\n",
       "    <tr>\n",
       "      <th>5781</th>\n",
       "      <td>82</td>\n",
       "      <td>2005-08-05</td>\n",
       "      <td>My Date With Drew</td>\n",
       "      <td>1100</td>\n",
       "      <td>181041</td>\n",
       "      <td>181041</td>\n",
       "    </tr>\n",
       "  </tbody>\n",
       "</table>\n",
       "<p>5782 rows × 6 columns</p>\n",
       "</div>"
      ],
      "text/plain": [
       "      id release_date                                        movie  \\\n",
       "0      1   2009-12-18                                       Avatar   \n",
       "1      2   2011-05-20  Pirates of the Caribbean: On Stranger Tides   \n",
       "2      3   2019-06-07                                 Dark Phoenix   \n",
       "3      4   2015-05-01                      Avengers: Age of Ultron   \n",
       "4      5   2017-12-15            Star Wars Ep. VIII: The Last Jedi   \n",
       "...   ..          ...                                          ...   \n",
       "5777  78   2018-12-31                                       Red 11   \n",
       "5778  79   1999-04-02                                    Following   \n",
       "5779  80   2005-07-13                Return to the Land of Wonders   \n",
       "5780  81   2015-09-29                         A Plague So Pleasant   \n",
       "5781  82   2005-08-05                            My Date With Drew   \n",
       "\n",
       "      production_budget  domestic_gross  worldwide_gross  \n",
       "0             425000000       760507625       2776345279  \n",
       "1             410600000       241063875       1045663875  \n",
       "2             350000000        42762350        149762350  \n",
       "3             330600000       459005868       1403013963  \n",
       "4             317000000       620181382       1316721747  \n",
       "...                 ...             ...              ...  \n",
       "5777               7000               0                0  \n",
       "5778               6000           48482           240495  \n",
       "5779               5000            1338             1338  \n",
       "5780               1400               0                0  \n",
       "5781               1100          181041           181041  \n",
       "\n",
       "[5782 rows x 6 columns]"
      ]
     },
     "execution_count": 14,
     "metadata": {},
     "output_type": "execute_result"
    }
   ],
   "source": [
    "# Check Missing Values and Duplicates\n",
    "\n",
    "# Check on bom_df\n",
    "print(\"BOM DataFrame:\")\n",
    "check_duplicates_missing(bom_df)\n",
    "\n",
    "# Check on movie_basics\n",
    "print(\"\\nMovie Basics DataFrame:\")\n",
    "check_duplicates_missing(movie_basics)\n",
    "\n",
    "# Check on movie_ratings\n",
    "print(\"\\nMovie Ratings DataFrame:\")\n",
    "check_duplicates_missing(movie_ratings)\n",
    "\n",
    "# Check on principals\n",
    "print(\"\\nActors DataFrame:\")   \n",
    "check_duplicates_missing(actors)\n",
    "\n",
    "# Check on persons\n",
    "print(\"\\ndirectors:\")\n",
    "check_duplicates_missing(directors)\n",
    "\n",
    "print(\"\\nBudgets DataFrame:\") \n",
    "check_duplicates_missing(budgets_df)"
   ]
  },
  {
   "cell_type": "markdown",
   "metadata": {},
   "source": [
    "#### **Handle Missing Values and Duplicates**\n",
    "\n",
    "Define the _filling_missing()_ function to handle missing values in each dataframe per the following criteria:\n",
    "\n",
    "1. **Remove Duplicate Rows:** To ensure each record is unique.\n",
    "\n",
    "2. **Dropping Sparse Columns:** Remove any column with more than 70% missing values (sparsity makes a column unreliable for data analysis).\n",
    "\n",
    "3. **Imputing Numeric Columns**  \n",
    "   - For each numeric column with missing data, computes its respective skewness.  \n",
    "   - If the distribution is fairly symmetric (|skewness| < 0.5), missing values are imputed with the mean.  \n",
    "   - Otherwise, missing values are imputed with the median (to minimize the effect of outliers).\n",
    "\n",
    "4. **Imputing Categorical Columns**  \n",
    "   - For each categorical column with missing data, missing values are imputed with the most frequent category (mode).  \n",
    "   - If a categorical column doesn't have a mode, the placeholder `\"Unknown\"` is imputed."
   ]
  },
  {
   "cell_type": "code",
   "execution_count": 15,
   "metadata": {},
   "outputs": [],
   "source": [
    "def filling_missing(df):\n",
    "    # Drop duplicate rows\n",
    "    df = df.drop_duplicates()\n",
    "\n",
    "    # Drop columns with more than 70% missing values \n",
    "    df = df.dropna(thresh=0.7 * len(df), axis=1)\n",
    "\n",
    "    # Impute missing values in numeric columns\n",
    "    for col in df.select_dtypes(include=['number']).columns:\n",
    "        if df[col].isna().sum() > 0:\n",
    "            skewness = df[col].skew()\n",
    "            fill_value = df[col].mean() if abs(skewness) < 0.5 else df[col].median()\n",
    "            df[col] = df[col].fillna(fill_value)  \n",
    "\n",
    "    # Impute missing values in categorical columns\n",
    "    for col in df.select_dtypes(exclude=['number']).columns:\n",
    "        if df[col].isna().sum() > 0:\n",
    "            most_frequent = df[col].mode()[0] if not df[col].mode().empty else \"Unknown\"\n",
    "            df[col] = df[col].fillna(most_frequent)  \n",
    "\n",
    "    return df"
   ]
  },
  {
   "cell_type": "code",
   "execution_count": 16,
   "metadata": {},
   "outputs": [],
   "source": [
    "# Call the filling_missing function for each DataFrame to handle missing values\n",
    "\n",
    "bom_df = filling_missing(bom_df)\n",
    "movie_basics = filling_missing(movie_basics)\n",
    "acors = filling_missing(actors)\n",
    "directors = filling_missing(directors)\n",
    "budgets_df = filling_missing(budgets_df)"
   ]
  },
  {
   "cell_type": "markdown",
   "metadata": {},
   "source": [
    "#### **Validate Data Quality After Cleaning**\n",
    "\n",
    "Verify that each cleaned dataframe neither has duplicate entries nor missing values:\n",
    "\n",
    "- **BOM DataFrame**: Confirm there are no duplicate box office records and no missing financial entries.  \n",
    "- **Movie Basics DataFrame**: Ensure all movie metadata (titles, runtimes, genres) are complete and unique.  \n",
    "- **Persons DataFrame**: Validate that each person (director, actor) appeares once and there are no missing identifiers or names.  \n",
    "- **Budgets DataFrame**: Veryfy that production budgets and gross figures are fully populated without duplicate entries.  \n"
   ]
  },
  {
   "cell_type": "code",
   "execution_count": 17,
   "metadata": {},
   "outputs": [
    {
     "name": "stdout",
     "output_type": "stream",
     "text": [
      "BOM DataFrame:\n",
      "Duplicated:\n",
      "False    3387\n",
      "dtype: int64\n",
      "\n",
      "Missing values:\n",
      "title             0\n",
      "studio            0\n",
      "domestic_gross    0\n",
      "year              0\n",
      "dtype: int64\n",
      "\n",
      "Movie Basics DataFrame:\n",
      "Duplicated:\n",
      "False    146144\n",
      "dtype: int64\n",
      "\n",
      "Missing values:\n",
      "movie_id           0\n",
      "primary_title      0\n",
      "runtime_minutes    0\n",
      "genres             0\n",
      "dtype: int64\n",
      "\n",
      "Persons DataFrame:\n",
      "Duplicated:\n",
      "False    606648\n",
      "dtype: int64\n",
      "\n",
      "Missing values:\n",
      "person_id       0\n",
      "primary_name    0\n",
      "dtype: int64\n",
      "\n",
      "Budgets DataFrame:\n",
      "Duplicated:\n",
      "False    5782\n",
      "dtype: int64\n",
      "\n",
      "Missing values:\n",
      "id                   0\n",
      "release_date         0\n",
      "movie                0\n",
      "production_budget    0\n",
      "domestic_gross       0\n",
      "worldwide_gross      0\n",
      "dtype: int64\n"
     ]
    },
    {
     "data": {
      "text/html": [
       "<div>\n",
       "<style scoped>\n",
       "    .dataframe tbody tr th:only-of-type {\n",
       "        vertical-align: middle;\n",
       "    }\n",
       "\n",
       "    .dataframe tbody tr th {\n",
       "        vertical-align: top;\n",
       "    }\n",
       "\n",
       "    .dataframe thead th {\n",
       "        text-align: right;\n",
       "    }\n",
       "</style>\n",
       "<table border=\"1\" class=\"dataframe\">\n",
       "  <thead>\n",
       "    <tr style=\"text-align: right;\">\n",
       "      <th></th>\n",
       "      <th>id</th>\n",
       "      <th>release_date</th>\n",
       "      <th>movie</th>\n",
       "      <th>production_budget</th>\n",
       "      <th>domestic_gross</th>\n",
       "      <th>worldwide_gross</th>\n",
       "    </tr>\n",
       "  </thead>\n",
       "  <tbody>\n",
       "    <tr>\n",
       "      <th>0</th>\n",
       "      <td>1</td>\n",
       "      <td>2009-12-18</td>\n",
       "      <td>Avatar</td>\n",
       "      <td>425000000</td>\n",
       "      <td>760507625</td>\n",
       "      <td>2776345279</td>\n",
       "    </tr>\n",
       "    <tr>\n",
       "      <th>1</th>\n",
       "      <td>2</td>\n",
       "      <td>2011-05-20</td>\n",
       "      <td>Pirates of the Caribbean: On Stranger Tides</td>\n",
       "      <td>410600000</td>\n",
       "      <td>241063875</td>\n",
       "      <td>1045663875</td>\n",
       "    </tr>\n",
       "    <tr>\n",
       "      <th>2</th>\n",
       "      <td>3</td>\n",
       "      <td>2019-06-07</td>\n",
       "      <td>Dark Phoenix</td>\n",
       "      <td>350000000</td>\n",
       "      <td>42762350</td>\n",
       "      <td>149762350</td>\n",
       "    </tr>\n",
       "    <tr>\n",
       "      <th>3</th>\n",
       "      <td>4</td>\n",
       "      <td>2015-05-01</td>\n",
       "      <td>Avengers: Age of Ultron</td>\n",
       "      <td>330600000</td>\n",
       "      <td>459005868</td>\n",
       "      <td>1403013963</td>\n",
       "    </tr>\n",
       "    <tr>\n",
       "      <th>4</th>\n",
       "      <td>5</td>\n",
       "      <td>2017-12-15</td>\n",
       "      <td>Star Wars Ep. VIII: The Last Jedi</td>\n",
       "      <td>317000000</td>\n",
       "      <td>620181382</td>\n",
       "      <td>1316721747</td>\n",
       "    </tr>\n",
       "    <tr>\n",
       "      <th>...</th>\n",
       "      <td>...</td>\n",
       "      <td>...</td>\n",
       "      <td>...</td>\n",
       "      <td>...</td>\n",
       "      <td>...</td>\n",
       "      <td>...</td>\n",
       "    </tr>\n",
       "    <tr>\n",
       "      <th>5777</th>\n",
       "      <td>78</td>\n",
       "      <td>2018-12-31</td>\n",
       "      <td>Red 11</td>\n",
       "      <td>7000</td>\n",
       "      <td>0</td>\n",
       "      <td>0</td>\n",
       "    </tr>\n",
       "    <tr>\n",
       "      <th>5778</th>\n",
       "      <td>79</td>\n",
       "      <td>1999-04-02</td>\n",
       "      <td>Following</td>\n",
       "      <td>6000</td>\n",
       "      <td>48482</td>\n",
       "      <td>240495</td>\n",
       "    </tr>\n",
       "    <tr>\n",
       "      <th>5779</th>\n",
       "      <td>80</td>\n",
       "      <td>2005-07-13</td>\n",
       "      <td>Return to the Land of Wonders</td>\n",
       "      <td>5000</td>\n",
       "      <td>1338</td>\n",
       "      <td>1338</td>\n",
       "    </tr>\n",
       "    <tr>\n",
       "      <th>5780</th>\n",
       "      <td>81</td>\n",
       "      <td>2015-09-29</td>\n",
       "      <td>A Plague So Pleasant</td>\n",
       "      <td>1400</td>\n",
       "      <td>0</td>\n",
       "      <td>0</td>\n",
       "    </tr>\n",
       "    <tr>\n",
       "      <th>5781</th>\n",
       "      <td>82</td>\n",
       "      <td>2005-08-05</td>\n",
       "      <td>My Date With Drew</td>\n",
       "      <td>1100</td>\n",
       "      <td>181041</td>\n",
       "      <td>181041</td>\n",
       "    </tr>\n",
       "  </tbody>\n",
       "</table>\n",
       "<p>5782 rows × 6 columns</p>\n",
       "</div>"
      ],
      "text/plain": [
       "      id release_date                                        movie  \\\n",
       "0      1   2009-12-18                                       Avatar   \n",
       "1      2   2011-05-20  Pirates of the Caribbean: On Stranger Tides   \n",
       "2      3   2019-06-07                                 Dark Phoenix   \n",
       "3      4   2015-05-01                      Avengers: Age of Ultron   \n",
       "4      5   2017-12-15            Star Wars Ep. VIII: The Last Jedi   \n",
       "...   ..          ...                                          ...   \n",
       "5777  78   2018-12-31                                       Red 11   \n",
       "5778  79   1999-04-02                                    Following   \n",
       "5779  80   2005-07-13                Return to the Land of Wonders   \n",
       "5780  81   2015-09-29                         A Plague So Pleasant   \n",
       "5781  82   2005-08-05                            My Date With Drew   \n",
       "\n",
       "      production_budget  domestic_gross  worldwide_gross  \n",
       "0             425000000       760507625       2776345279  \n",
       "1             410600000       241063875       1045663875  \n",
       "2             350000000        42762350        149762350  \n",
       "3             330600000       459005868       1403013963  \n",
       "4             317000000       620181382       1316721747  \n",
       "...                 ...             ...              ...  \n",
       "5777               7000               0                0  \n",
       "5778               6000           48482           240495  \n",
       "5779               5000            1338             1338  \n",
       "5780               1400               0                0  \n",
       "5781               1100          181041           181041  \n",
       "\n",
       "[5782 rows x 6 columns]"
      ]
     },
     "execution_count": 17,
     "metadata": {},
     "output_type": "execute_result"
    }
   ],
   "source": [
    "# Check for Missing Values and Duplicates after Cleaning\n",
    "\n",
    "# Run the check on bom_df\n",
    "print(\"BOM DataFrame:\")\n",
    "check_duplicates_missing(bom_df)\n",
    "\n",
    "# Run the check on movie_basics\n",
    "print(\"\\nMovie Basics DataFrame:\")\n",
    "check_duplicates_missing(movie_basics)\n",
    "\n",
    "# Run the check on persons\n",
    "print(\"\\nPersons DataFrame:\")\n",
    "check_duplicates_missing(persons)\n",
    "\n",
    "# Run the check on budgets_df\n",
    "print(\"\\nBudgets DataFrame:\")   \n",
    "check_duplicates_missing(budgets_df)"
   ]
  },
  {
   "cell_type": "code",
   "execution_count": 18,
   "metadata": {},
   "outputs": [
    {
     "name": "stdout",
     "output_type": "stream",
     "text": [
      "BOM DataFrame:\n",
      "DataFrame Info:\n",
      "<class 'pandas.core.frame.DataFrame'>\n",
      "Int64Index: 3387 entries, 0 to 3386\n",
      "Data columns (total 4 columns):\n",
      " #   Column          Non-Null Count  Dtype  \n",
      "---  ------          --------------  -----  \n",
      " 0   title           3387 non-null   object \n",
      " 1   studio          3387 non-null   object \n",
      " 2   domestic_gross  3387 non-null   float64\n",
      " 3   year            3387 non-null   int64  \n",
      "dtypes: float64(1), int64(1), object(2)\n",
      "memory usage: 132.3+ KB\n",
      "None\n",
      "\n",
      "Movie Basics DataFrame:\n",
      "DataFrame Info:\n",
      "<class 'pandas.core.frame.DataFrame'>\n",
      "Int64Index: 146144 entries, 0 to 146143\n",
      "Data columns (total 4 columns):\n",
      " #   Column           Non-Null Count   Dtype  \n",
      "---  ------           --------------   -----  \n",
      " 0   movie_id         146144 non-null  object \n",
      " 1   primary_title    146144 non-null  object \n",
      " 2   runtime_minutes  146144 non-null  float64\n",
      " 3   genres           146144 non-null  object \n",
      "dtypes: float64(1), object(3)\n",
      "memory usage: 5.6+ MB\n",
      "None\n",
      "\n",
      "Movie Ratings DataFrame:\n",
      "DataFrame Info:\n",
      "<class 'pandas.core.frame.DataFrame'>\n",
      "RangeIndex: 73856 entries, 0 to 73855\n",
      "Data columns (total 3 columns):\n",
      " #   Column         Non-Null Count  Dtype  \n",
      "---  ------         --------------  -----  \n",
      " 0   movie_id       73856 non-null  object \n",
      " 1   averagerating  73856 non-null  float64\n",
      " 2   numvotes       73856 non-null  int64  \n",
      "dtypes: float64(1), int64(1), object(1)\n",
      "memory usage: 1.7+ MB\n",
      "None\n",
      "\n",
      "Actors DataFrame:\n",
      "DataFrame Info:\n",
      "<class 'pandas.core.frame.DataFrame'>\n",
      "RangeIndex: 256561 entries, 0 to 256560\n",
      "Data columns (total 3 columns):\n",
      " #   Column      Non-Null Count   Dtype \n",
      "---  ------      --------------   ----- \n",
      " 0   movie_id    256561 non-null  object\n",
      " 1   person_id   256561 non-null  object\n",
      " 2   actor_name  256561 non-null  object\n",
      "dtypes: object(3)\n",
      "memory usage: 5.9+ MB\n",
      "None\n",
      "\n",
      "Directors DataFrame:\n",
      "DataFrame Info:\n",
      "<class 'pandas.core.frame.DataFrame'>\n",
      "Int64Index: 163533 entries, 0 to 291170\n",
      "Data columns (total 3 columns):\n",
      " #   Column         Non-Null Count   Dtype \n",
      "---  ------         --------------   ----- \n",
      " 0   movie_id       163533 non-null  object\n",
      " 1   person_id      163533 non-null  object\n",
      " 2   director_name  163533 non-null  object\n",
      "dtypes: object(3)\n",
      "memory usage: 5.0+ MB\n",
      "None\n",
      "\n",
      "Budgets DataFrame:\n",
      "DataFrame Info:\n",
      "<class 'pandas.core.frame.DataFrame'>\n",
      "Int64Index: 5782 entries, 0 to 5781\n",
      "Data columns (total 6 columns):\n",
      " #   Column             Non-Null Count  Dtype         \n",
      "---  ------             --------------  -----         \n",
      " 0   id                 5782 non-null   int64         \n",
      " 1   release_date       5782 non-null   datetime64[ns]\n",
      " 2   movie              5782 non-null   object        \n",
      " 3   production_budget  5782 non-null   int64         \n",
      " 4   domestic_gross     5782 non-null   int64         \n",
      " 5   worldwide_gross    5782 non-null   int64         \n",
      "dtypes: datetime64[ns](1), int64(4), object(1)\n",
      "memory usage: 316.2+ KB\n",
      "None\n"
     ]
    },
    {
     "data": {
      "text/html": [
       "<div>\n",
       "<style scoped>\n",
       "    .dataframe tbody tr th:only-of-type {\n",
       "        vertical-align: middle;\n",
       "    }\n",
       "\n",
       "    .dataframe tbody tr th {\n",
       "        vertical-align: top;\n",
       "    }\n",
       "\n",
       "    .dataframe thead th {\n",
       "        text-align: right;\n",
       "    }\n",
       "</style>\n",
       "<table border=\"1\" class=\"dataframe\">\n",
       "  <thead>\n",
       "    <tr style=\"text-align: right;\">\n",
       "      <th></th>\n",
       "      <th>id</th>\n",
       "      <th>release_date</th>\n",
       "      <th>movie</th>\n",
       "      <th>production_budget</th>\n",
       "      <th>domestic_gross</th>\n",
       "      <th>worldwide_gross</th>\n",
       "    </tr>\n",
       "  </thead>\n",
       "  <tbody>\n",
       "    <tr>\n",
       "      <th>0</th>\n",
       "      <td>1</td>\n",
       "      <td>2009-12-18</td>\n",
       "      <td>Avatar</td>\n",
       "      <td>425000000</td>\n",
       "      <td>760507625</td>\n",
       "      <td>2776345279</td>\n",
       "    </tr>\n",
       "    <tr>\n",
       "      <th>1</th>\n",
       "      <td>2</td>\n",
       "      <td>2011-05-20</td>\n",
       "      <td>Pirates of the Caribbean: On Stranger Tides</td>\n",
       "      <td>410600000</td>\n",
       "      <td>241063875</td>\n",
       "      <td>1045663875</td>\n",
       "    </tr>\n",
       "    <tr>\n",
       "      <th>2</th>\n",
       "      <td>3</td>\n",
       "      <td>2019-06-07</td>\n",
       "      <td>Dark Phoenix</td>\n",
       "      <td>350000000</td>\n",
       "      <td>42762350</td>\n",
       "      <td>149762350</td>\n",
       "    </tr>\n",
       "    <tr>\n",
       "      <th>3</th>\n",
       "      <td>4</td>\n",
       "      <td>2015-05-01</td>\n",
       "      <td>Avengers: Age of Ultron</td>\n",
       "      <td>330600000</td>\n",
       "      <td>459005868</td>\n",
       "      <td>1403013963</td>\n",
       "    </tr>\n",
       "    <tr>\n",
       "      <th>4</th>\n",
       "      <td>5</td>\n",
       "      <td>2017-12-15</td>\n",
       "      <td>Star Wars Ep. VIII: The Last Jedi</td>\n",
       "      <td>317000000</td>\n",
       "      <td>620181382</td>\n",
       "      <td>1316721747</td>\n",
       "    </tr>\n",
       "    <tr>\n",
       "      <th>...</th>\n",
       "      <td>...</td>\n",
       "      <td>...</td>\n",
       "      <td>...</td>\n",
       "      <td>...</td>\n",
       "      <td>...</td>\n",
       "      <td>...</td>\n",
       "    </tr>\n",
       "    <tr>\n",
       "      <th>5777</th>\n",
       "      <td>78</td>\n",
       "      <td>2018-12-31</td>\n",
       "      <td>Red 11</td>\n",
       "      <td>7000</td>\n",
       "      <td>0</td>\n",
       "      <td>0</td>\n",
       "    </tr>\n",
       "    <tr>\n",
       "      <th>5778</th>\n",
       "      <td>79</td>\n",
       "      <td>1999-04-02</td>\n",
       "      <td>Following</td>\n",
       "      <td>6000</td>\n",
       "      <td>48482</td>\n",
       "      <td>240495</td>\n",
       "    </tr>\n",
       "    <tr>\n",
       "      <th>5779</th>\n",
       "      <td>80</td>\n",
       "      <td>2005-07-13</td>\n",
       "      <td>Return to the Land of Wonders</td>\n",
       "      <td>5000</td>\n",
       "      <td>1338</td>\n",
       "      <td>1338</td>\n",
       "    </tr>\n",
       "    <tr>\n",
       "      <th>5780</th>\n",
       "      <td>81</td>\n",
       "      <td>2015-09-29</td>\n",
       "      <td>A Plague So Pleasant</td>\n",
       "      <td>1400</td>\n",
       "      <td>0</td>\n",
       "      <td>0</td>\n",
       "    </tr>\n",
       "    <tr>\n",
       "      <th>5781</th>\n",
       "      <td>82</td>\n",
       "      <td>2005-08-05</td>\n",
       "      <td>My Date With Drew</td>\n",
       "      <td>1100</td>\n",
       "      <td>181041</td>\n",
       "      <td>181041</td>\n",
       "    </tr>\n",
       "  </tbody>\n",
       "</table>\n",
       "<p>5782 rows × 6 columns</p>\n",
       "</div>"
      ],
      "text/plain": [
       "      id release_date                                        movie  \\\n",
       "0      1   2009-12-18                                       Avatar   \n",
       "1      2   2011-05-20  Pirates of the Caribbean: On Stranger Tides   \n",
       "2      3   2019-06-07                                 Dark Phoenix   \n",
       "3      4   2015-05-01                      Avengers: Age of Ultron   \n",
       "4      5   2017-12-15            Star Wars Ep. VIII: The Last Jedi   \n",
       "...   ..          ...                                          ...   \n",
       "5777  78   2018-12-31                                       Red 11   \n",
       "5778  79   1999-04-02                                    Following   \n",
       "5779  80   2005-07-13                Return to the Land of Wonders   \n",
       "5780  81   2015-09-29                         A Plague So Pleasant   \n",
       "5781  82   2005-08-05                            My Date With Drew   \n",
       "\n",
       "      production_budget  domestic_gross  worldwide_gross  \n",
       "0             425000000       760507625       2776345279  \n",
       "1             410600000       241063875       1045663875  \n",
       "2             350000000        42762350        149762350  \n",
       "3             330600000       459005868       1403013963  \n",
       "4             317000000       620181382       1316721747  \n",
       "...                 ...             ...              ...  \n",
       "5777               7000               0                0  \n",
       "5778               6000           48482           240495  \n",
       "5779               5000            1338             1338  \n",
       "5780               1400               0                0  \n",
       "5781               1100          181041           181041  \n",
       "\n",
       "[5782 rows x 6 columns]"
      ]
     },
     "execution_count": 18,
     "metadata": {},
     "output_type": "execute_result"
    }
   ],
   "source": [
    "# Define the function dsetinfo() to check column attributes\n",
    "def dsetinfo(df):\n",
    "    print(\"DataFrame Info:\")\n",
    "    print(df.info())\n",
    "    return df\n",
    "\n",
    "# Check the info of each DataFrame\n",
    "print(\"BOM DataFrame:\")\n",
    "dsetinfo(bom_df)\n",
    "\n",
    "print(\"\\nMovie Basics DataFrame:\")\n",
    "dsetinfo(movie_basics)\n",
    "\n",
    "print(\"\\nMovie Ratings DataFrame:\")\n",
    "dsetinfo(movie_ratings)\n",
    "\n",
    "print(\"\\nActors DataFrame:\")\n",
    "dsetinfo(actors)\n",
    "\n",
    "print(\"\\nDirectors DataFrame:\")\n",
    "dsetinfo(directors)\n",
    "\n",
    "print(\"\\nBudgets DataFrame:\")\n",
    "dsetinfo(budgets_df)"
   ]
  },
  {
   "cell_type": "markdown",
   "metadata": {},
   "source": [
    "### **Remove Outliers Using the IQR Method**\n",
    "\n",
    "Define the _remove_outliers(df, cols)_ function to filter extreme values in specified numeric columns per the following criteria:\n",
    "\n",
    "1. **Compute the Interquartile Range (IQR)**  \n",
    "   For each column:\n",
    "   - Calculate the 1st quartile (Q1) and 3rd quartile (Q3).\n",
    "   - Compute IQR = Q3 – Q1.\n",
    "   \n",
    "\n",
    "2. **Determine Boundaries**  \n",
    "   - Lower bound = Q1 − 1.5 × IQR  \n",
    "   - Upper bound = Q3 + 1.5 × IQR\n",
    "\n",
    "\n",
    "3. **Filter Rows**  \n",
    "   - Retain rows whose specified columns' value falls-in between the lower and upper bounds."
   ]
  },
  {
   "cell_type": "code",
   "execution_count": 19,
   "metadata": {},
   "outputs": [],
   "source": [
    "# Define a function to remove outliers using IQR\n",
    "def remove_outliers(df, cols):\n",
    "    for col in cols:\n",
    "        Q1 = df[col].quantile(0.25)\n",
    "        Q3 = df[col].quantile(0.75)\n",
    "        IQR = Q3 - Q1\n",
    "        lower_bound = Q1 - 1.5 * IQR\n",
    "        upper_bound = Q3 + 1.5 * IQR\n",
    "\n",
    "    \n",
    "        df = df[(df[col] >= lower_bound) & (df[col] <= upper_bound)]\n",
    "    \n",
    "    return df"
   ]
  },
  {
   "cell_type": "markdown",
   "metadata": {},
   "source": [
    "Call the _remove_outliers()_ function to remove outliers for the following columns in the four DataFrames\n",
    "\n",
    "- **Box Office Data (`bom_df`)**: Filter outliers in both `domestic_gross` and `foreign_gross`.  \n",
    "- **Movie Basics (`movie_basics`)**: Remove extreme values in `runtime_minutes`.  \n",
    "- **Movie Ratings (`movie_ratings`)**: Exclude outlier in `averagerating` and `numvotes`.  \n",
    "- **Budgets Data (`budgets_df`)**: Filter outliers in `production_budget`, `domestic_gross`, and `worldwide_gross`.  "
   ]
  },
  {
   "cell_type": "code",
   "execution_count": 20,
   "metadata": {},
   "outputs": [],
   "source": [
    "# Call the remove_outliers function \n",
    "bom_df = remove_outliers(bom_df, ['domestic_gross'])\n",
    "movie_basics = remove_outliers(movie_basics, ['runtime_minutes'])\n",
    "movie_ratings = remove_outliers(movie_ratings, ['averagerating', 'numvotes'])\n",
    "budgets_df = remove_outliers(budgets_df, ['production_budget', 'domestic_gross', 'worldwide_gross'])"
   ]
  },
  {
   "cell_type": "markdown",
   "metadata": {},
   "source": [
    "### **Merging Datasets**\n",
    "\n",
    "All cleaned and enriched tables are merged to form a single comprehensive dataframe (`final_df`) for analysis:\n",
    "\n",
    "1. **Box Office & Movie Basics**  \n",
    "   – Left‐joined `bom_df` (box office gross) with `movie_basics` on movie titles.  \n",
    "2. **Budgets**  \n",
    "   – Left‐joined the resulting dataframe with `budgets_df`, matching on title.  \n",
    "3. **Ratings**  \n",
    "   – Left‐joined the combined dataframe with `movie_ratings` on `movie_id`.  \n",
    "4. **Directors & Actors**  \n",
    "   – Left‐joined directors’ names and actors’ names from the IMDb tables (via `movie_id`).  \n",
    "5. **Deduplication**  \n",
    "   – Removed any duplicate rows based on `movie_id` to ensure each film appeared only once."
   ]
  },
  {
   "cell_type": "code",
   "execution_count": 21,
   "metadata": {},
   "outputs": [],
   "source": [
    "# If not already done, extract year from release_date\n",
    "budgets_df['year'] = budgets_df['release_date'].dt.year"
   ]
  },
  {
   "cell_type": "code",
   "execution_count": 22,
   "metadata": {},
   "outputs": [
    {
     "name": "stdout",
     "output_type": "stream",
     "text": [
      "<class 'pandas.core.frame.DataFrame'>\n",
      "Int64Index: 10196 entries, 0 to 10195\n",
      "Data columns (total 15 columns):\n",
      " #   Column             Non-Null Count  Dtype         \n",
      "---  ------             --------------  -----         \n",
      " 0   id                 10196 non-null  int64         \n",
      " 1   release_date       10196 non-null  datetime64[ns]\n",
      " 2   title              10196 non-null  object        \n",
      " 3   production_budget  10196 non-null  int64         \n",
      " 4   domestic_gross     10196 non-null  int64         \n",
      " 5   worldwide_gross    10196 non-null  int64         \n",
      " 6   year               10196 non-null  int64         \n",
      " 7   studio             2467 non-null   object        \n",
      " 8   movie_id           7283 non-null   object        \n",
      " 9   genres             7283 non-null   object        \n",
      " 10  primary_title      7283 non-null   object        \n",
      " 11  averagerating      2233 non-null   float64       \n",
      " 12  numvotes           2233 non-null   float64       \n",
      " 13  director_name      7173 non-null   object        \n",
      " 14  actor_name         6778 non-null   object        \n",
      "dtypes: datetime64[ns](1), float64(2), int64(5), object(7)\n",
      "memory usage: 1.2+ MB\n"
     ]
    },
    {
     "data": {
      "text/plain": [
       "(None,)"
      ]
     },
     "execution_count": 22,
     "metadata": {},
     "output_type": "execute_result"
    }
   ],
   "source": [
    "# Rename budget's 'movie' column to match with 'title' for clarity\n",
    "budgets_df = budgets_df.rename(columns={'movie': 'title'})\n",
    "\n",
    "# Merge Budgets with BOM on title and year (both datasets have them)\n",
    "merged_df = pd.merge(\n",
    "    budgets_df, \n",
    "    bom_df[['title', 'studio', 'year']], \n",
    "    on=['title', 'year'], \n",
    "    how='left'\n",
    ")\n",
    "\n",
    "# Merge with Movie Basics using fuzzy match or external title->movie_id map\n",
    "\n",
    "title_to_id = movie_basics[['movie_id','genres', 'primary_title']]\n",
    "merged_df = pd.merge(\n",
    "    merged_df, \n",
    "    title_to_id, \n",
    "    left_on='title', \n",
    "    right_on='primary_title', \n",
    "    how='left'\n",
    ")\n",
    "\n",
    "# Add ratings\n",
    "merged_df = pd.merge(\n",
    "    merged_df, \n",
    "    movie_ratings, \n",
    "    on='movie_id', \n",
    "    how='left'\n",
    ")\n",
    "\n",
    "# add directors/actors\n",
    "merged_df = pd.merge(\n",
    "    merged_df, \n",
    "    directors[['movie_id', 'director_name']], \n",
    "    on='movie_id', \n",
    "    how='left'\n",
    ")\n",
    "\n",
    "merged_df = pd.merge(\n",
    "    merged_df, \n",
    "    actors[['movie_id', 'actor_name']], \n",
    "    on='movie_id', \n",
    "    how='left'\n",
    ")\n",
    "\n",
    "\n",
    "# Final check\n",
    "merged_df.info(), "
   ]
  },
  {
   "cell_type": "code",
   "execution_count": 23,
   "metadata": {},
   "outputs": [],
   "source": [
    "# Drop exact duplicates\n",
    "# final_df = merged_df.drop_duplicates()\n",
    "# Or keep only the first actor/director per movie (for simplicity)\n",
    "final_df = merged_df.drop_duplicates(subset=['movie_id'])    "
   ]
  },
  {
   "cell_type": "code",
   "execution_count": 24,
   "metadata": {},
   "outputs": [
    {
     "name": "stdout",
     "output_type": "stream",
     "text": [
      "<class 'pandas.core.frame.DataFrame'>\n",
      "Int64Index: 2686 entries, 0 to 10191\n",
      "Data columns (total 15 columns):\n",
      " #   Column             Non-Null Count  Dtype         \n",
      "---  ------             --------------  -----         \n",
      " 0   id                 2686 non-null   int64         \n",
      " 1   release_date       2686 non-null   datetime64[ns]\n",
      " 2   title              2686 non-null   object        \n",
      " 3   production_budget  2686 non-null   int64         \n",
      " 4   domestic_gross     2686 non-null   int64         \n",
      " 5   worldwide_gross    2686 non-null   int64         \n",
      " 6   year               2686 non-null   int64         \n",
      " 7   studio             894 non-null    object        \n",
      " 8   movie_id           2685 non-null   object        \n",
      " 9   genres             2685 non-null   object        \n",
      " 10  primary_title      2685 non-null   object        \n",
      " 11  averagerating      787 non-null    float64       \n",
      " 12  numvotes           787 non-null    float64       \n",
      " 13  director_name      2625 non-null   object        \n",
      " 14  actor_name         2286 non-null   object        \n",
      "dtypes: datetime64[ns](1), float64(2), int64(5), object(7)\n",
      "memory usage: 335.8+ KB\n"
     ]
    }
   ],
   "source": [
    "final_df.info()"
   ]
  },
  {
   "cell_type": "markdown",
   "metadata": {},
   "source": [
    "#### **Impute Remaining Missing Data and Final Validation**\n",
    "\n",
    "Call the _filling_missing()_ function and pass in the merged dataframe (`final_df`) to remove any remaining duplicates, drop sparse columns, and impute missing values in both numeric and categorical fields according to the previously defined criteria."
   ]
  },
  {
   "cell_type": "code",
   "execution_count": 25,
   "metadata": {},
   "outputs": [],
   "source": [
    "# Impute Missing values by calling the filling_missing() function\n",
    "final_df=filling_missing(final_df)"
   ]
  },
  {
   "cell_type": "markdown",
   "metadata": {},
   "source": [
    "#### **Column Renaming and Cleanup**\n",
    "\n",
    "We improved clarity and reduced clutter by:\n",
    "\n",
    "1. **Renaming Columns**  \n",
    "   - Renamed `domestic_gross_x` to `domestic_gross` to standardize naming.\n",
    "\n",
    "2. **Dropping Unnecessary Columns**  \n",
    "   - Removed intermediate and redundant fields that were no longer needed for analysis:\n",
    "     - `primary_title`, `original_title`, `movie`, `id`  \n",
    "     - `person_id_x`, `person_id_y`  \n",
    "     - `domestic_gross_y`  \n"
   ]
  },
  {
   "cell_type": "code",
   "execution_count": 26,
   "metadata": {},
   "outputs": [],
   "source": [
    "# Rename for clarity\n",
    "final_df = final_df.drop(columns=['primary_title', 'id'], errors='ignore')"
   ]
  },
  {
   "cell_type": "markdown",
   "metadata": {},
   "source": [
    "### **Feature Engineering**\n",
    "\n",
    "To enrich the dataset with actionable attributes, we created the following derived features:\n",
    "\n",
    "\n",
    "- **Profit/Loss**  \n",
    "  Computed by subtracting `production_budget` from `worldwide_gross`, stored in `movie_profit/loss` to measure financial success.\n",
    "\n",
    "\n",
    "- **Release Month**  \n",
    "  Extracted from `release_date` as the month name (`release_month`) to enable time-based segmentation.\n",
    "\n",
    "- **Season**  \n",
    "  Mapped each `release_month` to one of four seasons (`season`)—Winter, Spring, Summer, Fall—for seasonal trend analysis."
   ]
  },
  {
   "cell_type": "code",
   "execution_count": 27,
   "metadata": {},
   "outputs": [],
   "source": [
    "# Define a function to map month to season\n",
    "final_df['release_month'] = final_df['release_date'].dt.month_name()\n",
    "def month_to_season(month):\n",
    "    if month in ['December', 'January', 'February']:\n",
    "        return 'Winter'\n",
    "    elif month in ['March', 'April', 'May']:\n",
    "        return 'Spring'\n",
    "    elif month in ['June', 'July', 'August']:\n",
    "        return 'Summer'\n",
    "    elif month in ['September', 'October', 'November']:\n",
    "        return 'Fall'\n",
    "    else:\n",
    "        return 'Unknown'\n",
    "\n",
    "# Apply it\n",
    "final_df['season'] = final_df['release_month'].apply(month_to_season)\n",
    "\n",
    "final_df['movie_profit/loss'] = final_df['worldwide_gross'] - final_df['production_budget']"
   ]
  },
  {
   "cell_type": "code",
   "execution_count": 28,
   "metadata": {},
   "outputs": [
    {
     "name": "stdout",
     "output_type": "stream",
     "text": [
      "<class 'pandas.core.frame.DataFrame'>\n",
      "Int64Index: 2686 entries, 0 to 10191\n",
      "Data columns (total 13 columns):\n",
      " #   Column             Non-Null Count  Dtype         \n",
      "---  ------             --------------  -----         \n",
      " 0   release_date       2686 non-null   datetime64[ns]\n",
      " 1   title              2686 non-null   object        \n",
      " 2   production_budget  2686 non-null   int64         \n",
      " 3   domestic_gross     2686 non-null   int64         \n",
      " 4   worldwide_gross    2686 non-null   int64         \n",
      " 5   year               2686 non-null   int64         \n",
      " 6   movie_id           2686 non-null   object        \n",
      " 7   genres             2686 non-null   object        \n",
      " 8   director_name      2686 non-null   object        \n",
      " 9   actor_name         2686 non-null   object        \n",
      " 10  release_month      2686 non-null   object        \n",
      " 11  season             2686 non-null   object        \n",
      " 12  movie_profit/loss  2686 non-null   int64         \n",
      "dtypes: datetime64[ns](1), int64(5), object(7)\n",
      "memory usage: 293.8+ KB\n"
     ]
    }
   ],
   "source": [
    "# Inspect columns of final_df \n",
    "final_df.info()"
   ]
  },
  {
   "cell_type": "code",
   "execution_count": 29,
   "metadata": {},
   "outputs": [],
   "source": [
    "#Export the DataFrame used for analysis to a CSV file (For use in plotting Tableau visualizations)\n",
    "final_df.to_csv(\"zipped-data/movie_data.csv\", index=False)"
   ]
  },
  {
   "cell_type": "markdown",
   "metadata": {},
   "source": [
    "## 4. Visualizations and Hypothesis Testing"
   ]
  },
  {
   "cell_type": "markdown",
   "metadata": {},
   "source": [
    "This phase encompasses exploratory analyses and hypothesis testing to reveal underlying relationships between the target variable (**a movie's profitability**) and potential predictor variables. The significance level (**alpha**) for all the conducted statistical tests is set at **0.05**."
   ]
  },
  {
   "cell_type": "markdown",
   "metadata": {},
   "source": [
    "### 4.1 Genre Effect on Profitability"
   ]
  },
  {
   "cell_type": "markdown",
   "metadata": {},
   "source": [
    "#### 4.1.1 Visualize Top-performing Genres "
   ]
  },
  {
   "cell_type": "code",
   "execution_count": 30,
   "metadata": {},
   "outputs": [
    {
     "data": {
      "image/png": "[encoded data removed]",
      "text/plain": [
       "<Figure size 864x432 with 1 Axes>"
      ]
     },
     "metadata": {
      "needs_background": "light"
     },
     "output_type": "display_data"
    }
   ],
   "source": [
    "# Explode the dataframe so each genre gets its own row\n",
    "exploded_df = final_df.explode('genres')\n",
    "\n",
    "# Group by genre and calculate total profit\n",
    "top_10_genres = exploded_df.groupby('genres')['movie_profit/loss'].sum().sort_values(ascending=False).head(10)\n",
    "\n",
    "# Plot a barplot using the Seaborn library \n",
    "plt.figure(figsize=(12, 6))\n",
    "sns.barplot(x=top_10_genres.values, y=top_10_genres.index, palette='coolwarm')\n",
    "plt.title('Top 10 Genres by Total Profit', fontsize=16)\n",
    "plt.xlabel('Total Profit ($)', fontsize=14)\n",
    "plt.ylabel('Genre', fontsize=14)\n",
    "plt.tight_layout()\n",
    "\n",
    "# Save plot to images folder\n",
    "plt.savefig(\"./images/average-profit-by-genre.png\", dpi=300, facecolor='white')\n",
    "plt.show()"
   ]
  },
  {
   "cell_type": "markdown",
   "metadata": {},
   "source": [
    "#### 4.1.2 Hypothesis Testing\n",
    "- **H₀**: Movie genre has no effect on profitability.  \n",
    "- **H₁**: Movie genre affects profitability.  \n",
    "- **Test**: One-way ANOVA."
   ]
  },
  {
   "cell_type": "code",
   "execution_count": 31,
   "metadata": {},
   "outputs": [
    {
     "name": "stdout",
     "output_type": "stream",
     "text": [
      "f-statistic: 1.3661346210888703\n",
      "p-value: 6.471994402133455e-05\n"
     ]
    }
   ],
   "source": [
    "# Explode the `genres` column' values:\n",
    "exploded_df = final_df.explode('genres')\n",
    "from scipy import stats\n",
    "\n",
    "# Groupby `genres` and `movie_profits/loss`\n",
    "grouped_genres = exploded_df.groupby('genres')['movie_profit/loss'].apply(list)\n",
    "\n",
    "# Perform One-way ANOVA test \n",
    "from scipy import stats\n",
    "\n",
    "f_stat, p_value = stats.f_oneway(*grouped_genres)\n",
    "\n",
    "# Print f-statistic and p-value\n",
    "print(f\"f-statistic: {f_stat}\")\n",
    "print(f\"p-value: {p_value}\")"
   ]
  },
  {
   "cell_type": "markdown",
   "metadata": {},
   "source": [
    "Since the p-value is less than 0.05; we reject the Null Hypothesis. The test confirms there exists a statistically signficant relationship between genre and a movie's profitability. "
   ]
  },
  {
   "cell_type": "markdown",
   "metadata": {},
   "source": [
    "### 4.2 Seasonal Impact on Profitability"
   ]
  },
  {
   "cell_type": "markdown",
   "metadata": {},
   "source": [
    "#### 4.2.1 Visualize Average Movie Profitability Based on Season"
   ]
  },
  {
   "cell_type": "code",
   "execution_count": 32,
   "metadata": {},
   "outputs": [
    {
     "data": {
      "image/png": "[encoded data removed]",
      "text/plain": [
       "<Figure size 576x360 with 1 Axes>"
      ]
     },
     "metadata": {
      "needs_background": "light"
     },
     "output_type": "display_data"
    }
   ],
   "source": [
    "# average profit by season\n",
    "season_profit = final_df.groupby('season')['movie_profit/loss'].mean().reset_index()\n",
    "\n",
    "# Sort seasons in logical order (optional but cleaner)\n",
    "season_order = ['Spring', 'Summer', 'Fall', 'Winter']\n",
    "season_profit['season'] = pd.Categorical(season_profit['season'], categories=season_order, ordered=True)\n",
    "season_profit = season_profit.sort_values('season')\n",
    "\n",
    "# Plot a barplot using the Seaborn library\n",
    "plt.figure(figsize=(8, 5))\n",
    "sns.barplot(data=season_profit, x='season', y='movie_profit/loss', palette='coolwarm')\n",
    "plt.title('Average Movie Profit by Season', fontsize=16)\n",
    "plt.xlabel('Season', fontsize=14)\n",
    "plt.ylabel('Average Profit ($)', fontsize=14)\n",
    "plt.grid(axis='y', linestyle='--', alpha=0.7)\n",
    "plt.tight_layout()\n",
    "\n",
    "# Save plot to images folder\n",
    "plt.savefig(\"./images/average-movie-profit-by-season.png\", dpi=300, facecolor='white')\n",
    "plt.show()"
   ]
  },
  {
   "cell_type": "markdown",
   "metadata": {},
   "source": [
    "#### 4.2.2 Hypothesis Testing\n",
    "- **H₀**: Release season has no effect on profitability.  \n",
    "- **H₁**: Release season affects profitability.  \n",
    "- **Test**: One-way ANOVA."
   ]
  },
  {
   "cell_type": "code",
   "execution_count": 33,
   "metadata": {},
   "outputs": [
    {
     "name": "stdout",
     "output_type": "stream",
     "text": [
      "f-statistic: 0.9970834690490168\n",
      "p-value: 0.39314777470513895\n"
     ]
    }
   ],
   "source": [
    "from scipy import stats\n",
    "\n",
    "# Groupby `seasons` and `movie_profits/loss`\n",
    "grouped_seasons = final_df.groupby('season')['movie_profit/loss'].apply(list)\n",
    "\n",
    "# Perform One-way ANOVA test\n",
    "f_stat, p_value = stats.f_oneway(*grouped_seasons)\n",
    "\n",
    "# Print f-statistic and p-value\n",
    "print(f\"f-statistic: {f_stat}\")\n",
    "print(f\"p-value: {p_value}\")"
   ]
  },
  {
   "cell_type": "markdown",
   "metadata": {},
   "source": [
    "Since the p-value is greater than 0.05; we fail to reject the Null Hypothesis. Additionally, the f-statistic (0.997) is close to 1 which suggests that the variability between the group averages is similar to the variability within the groups. Hence, we don't have enough evidence to conclude that there exists a statistically significant difference in the average profits of movies released in different seasons. Although the visualization reveals that the average profit achieved by movies released in Summer is higher compared to other seasons, the difference is deemed statistically insignificant at a significance level of 0.05.  "
   ]
  },
  {
   "cell_type": "markdown",
   "metadata": {},
   "source": [
    "### 4.3 Budget Impact on Profitability"
   ]
  },
  {
   "cell_type": "markdown",
   "metadata": {},
   "source": [
    "#### 4.3.1 Visualize Relationship Between Production Budget and Profitability"
   ]
  },
  {
   "cell_type": "code",
   "execution_count": 34,
   "metadata": {},
   "outputs": [
    {
     "data": {
      "image/png": "[encoded data removed]",
      "text/plain": [
       "<Figure size 720x432 with 1 Axes>"
      ]
     },
     "metadata": {
      "needs_background": "light"
     },
     "output_type": "display_data"
    }
   ],
   "source": [
    "# Plot a regplot using the Seaborn library\n",
    "plt.figure(figsize=(10, 6))\n",
    "sns.regplot(data=final_df, x='production_budget',y='movie_profit/loss',scatter_kws={'alpha':0.5},line_kws={'color':'red'})\n",
    "plt.title('Production Budget vs Movie Profit/Loss (with Trend Line)', fontsize=16)\n",
    "plt.xlabel('Production Budget ($)', fontsize=14)\n",
    "plt.ylabel('Movie Profit/Loss ($)', fontsize=14)\n",
    "plt.grid(True)\n",
    "plt.tight_layout()\n",
    "\n",
    "# Save plot to images folder\n",
    "plt.savefig(\"./images/production-budget-vs-profit-loss.png\", dpi=300, facecolor='white')\n",
    "plt.show()"
   ]
  },
  {
   "cell_type": "markdown",
   "metadata": {},
   "source": [
    "#### 4.3.2 Hypothesis Testing\n",
    "- **H₀**: Production budget has no correlation with profitability.  \n",
    "- **H₁**: Production budget is correlated with profitability.  \n",
    "- **Test**: Pearson correlation."
   ]
  },
  {
   "cell_type": "code",
   "execution_count": 35,
   "metadata": {},
   "outputs": [
    {
     "name": "stdout",
     "output_type": "stream",
     "text": [
      "correlation coefficient: 0.029035105287411395\n",
      "p-value: 0.13247621978981639\n"
     ]
    }
   ],
   "source": [
    "from scipy import stats\n",
    "\n",
    "# Get the two continuous variables\n",
    "budget = final_df['production_budget']\n",
    "profit = final_df['movie_profit/loss']\n",
    "\n",
    "# Perform Pearson correlation test\n",
    "correlation_coefficient, p_value = stats.pearsonr(budget, profit)\n",
    "\n",
    "# Print Pearson correlation coefficient and p-value\n",
    "print(f\"correlation coefficient: {correlation_coefficient}\")\n",
    "print(f\"p-value: {p_value}\")"
   ]
  },
  {
   "cell_type": "markdown",
   "metadata": {},
   "source": [
    "Since the p-value (0.133) is greater than 0.05; we fail to reject Null Hypothesis. However, the correlation coefficient (0.029) indicates a very weak positive linear relationship between production budget and a movie's profitability. "
   ]
  },
  {
   "cell_type": "markdown",
   "metadata": {},
   "source": [
    "### 4.4 Star Power Effect "
   ]
  },
  {
   "cell_type": "markdown",
   "metadata": {},
   "source": [
    "#### 4.4.1 Visualize Top Performing Directors and Actors \n",
    "To highlight the best performing talent in the film production industry; we visualized top-10 directors and top-10 actors based on `movie_profit/loss`"
   ]
  },
  {
   "cell_type": "code",
   "execution_count": 36,
   "metadata": {},
   "outputs": [
    {
     "data": {
      "image/png": "[encoded data removed]",
      "text/plain": [
       "<Figure size 720x432 with 1 Axes>"
      ]
     },
     "metadata": {
      "needs_background": "light"
     },
     "output_type": "display_data"
    }
   ],
   "source": [
    "# Visualize top-10 best performing directors based on profits\n",
    "top_directors = (final_df.groupby('director_name')['movie_profit/loss'].sum().sort_values(ascending=False).head(10))\n",
    "\n",
    "# Plot a barplot using the Seaborn library\n",
    "plt.figure(figsize=(10,6))\n",
    "sns.barplot(x=top_directors.values, y=top_directors.index, palette='viridis')\n",
    "plt.title('Top 10 Directors by Total Profit', fontsize=16)\n",
    "plt.xlabel('Total Profit ($)', fontsize=14)\n",
    "plt.ylabel('Director', fontsize=14)\n",
    "plt.tight_layout()\n",
    "\n",
    "# Save plot to images folder\n",
    "plt.savefig(\"./images/top10-directors-by-total-profit.png\", dpi=300, facecolor='white')\n",
    "plt.show()\n"
   ]
  },
  {
   "cell_type": "code",
   "execution_count": 37,
   "metadata": {},
   "outputs": [
    {
     "data": {
      "image/png": "[encoded data removed]",
      "text/plain": [
       "<Figure size 720x432 with 1 Axes>"
      ]
     },
     "metadata": {
      "needs_background": "light"
     },
     "output_type": "display_data"
    }
   ],
   "source": [
    "# Visualize top-10 best performing actors based on profits\n",
    "top_actors = (final_df.groupby(['actor_name'])['movie_profit/loss'].sum().sort_values(ascending=False).head(10))\n",
    "top_actors_df = top_actors.reset_index()\n",
    "top_actors_df.columns = ['actor', 'count']\n",
    "\n",
    "# Plot a barplot using the Seaborn library\n",
    "plt.figure(figsize=(10,6))\n",
    "sns.barplot(x='count', y='actor', data=top_actors_df, palette='magma')\n",
    "plt.title('Top 10 Actors by Total Profit', fontsize=16)\n",
    "plt.xlabel('Total Profit ($)', fontsize=14)\n",
    "plt.ylabel('Actor', fontsize=14)\n",
    "plt.tight_layout()\n",
    "\n",
    "# Save plot to images folder\n",
    "plt.savefig(\"./images/top10-actors-by-total-profit.png\", dpi=300, facecolor='white')\n",
    "plt.show()"
   ]
  },
  {
   "cell_type": "markdown",
   "metadata": {},
   "source": [
    "#### 4.4.2 Hypothesis Testing\n",
    "- **H₀**: The involvement of top talent and a movie's profitability are independent.  \n",
    "- **H₁**: The involvement of top talent and a movie's profitability are dependent.  \n",
    "- **Test**: Chi-square test of independence."
   ]
  },
  {
   "cell_type": "code",
   "execution_count": 38,
   "metadata": {},
   "outputs": [
    {
     "name": "stdout",
     "output_type": "stream",
     "text": [
      "Chi-square statistic: 8.130269058295964\n",
      "p-value: 0.004353228656008156\n"
     ]
    }
   ],
   "source": [
    "# Find actors with highest average profits\n",
    "top_actors = final_df.groupby('actor_name')['movie_profit/loss'].mean().sort_values(ascending=False).head(10).index.tolist()\n",
    "\n",
    "# Create a new column: whether the actor is a top actor\n",
    "final_df['top_actor'] = final_df['actor_name'].isin(top_actors)\n",
    "\n",
    "from scipy.stats import chi2_contingency\n",
    "\n",
    "# Create a 'high_profit' column (1 if profit > median, 0 if not)\n",
    "median_profit = final_df['movie_profit/loss'].median()\n",
    "final_df['high_profit'] = (final_df['movie_profit/loss'] > median_profit).astype(int)\n",
    "\n",
    "# Create a contingency table\n",
    "contingency_table = pd.crosstab(final_df['top_actor'], final_df['high_profit'])\n",
    "\n",
    "# Run chi-square test\n",
    "chi2, p_value, dof, expected = chi2_contingency(contingency_table)\n",
    "\n",
    "# Print Chi-square statistic and p-value\n",
    "print(f\"Chi-square statistic: {chi2}\")\n",
    "print(f\"p-value: {p_value}\")"
   ]
  },
  {
   "cell_type": "markdown",
   "metadata": {},
   "source": [
    "Since the p-value is lesser than 0.05; we reject the Null Hypothesis. Hence, a movie's profitability has a statisitically significant dependence on the involvement of top-talent. Additionally, the large Chi-square statistic (8.13) indicates a strong association between the involvement of top talent and a movie's profitability. "
   ]
  },
  {
   "cell_type": "markdown",
   "metadata": {},
   "source": [
    "## 5. Business Recommendations "
   ]
  },
  {
   "cell_type": "markdown",
   "metadata": {},
   "source": [
    "Based on our analysis of profitability drivers, we recommend the following strategies for the new movie studio:\n",
    "\n",
    "1. **Focus on High‐Returning Genres**  \n",
    "   - Prioritize the production of top-performing movie genres: **Drama, Documentary, Comedy, Horror, Mystery, Thriller, and Romance**.  \n",
    "   \n",
    "   \n",
    "2. **Leverage Star Power Selectively**  \n",
    "   - Cast **top-performing actors** and **directors** but negotiate contract deals to control against excessive budget overshoots. \n",
    "   \n",
    "   - Strike an effective balance in casting top-performing actors and emerging talent.\n",
    "\n",
    "   \n",
    "3. **Optimize Release Timing**  \n",
    "   - Schedule major releases in **Summer** to optimize Box-Office grossing.  "
   ]
  },
  {
   "cell_type": "markdown",
   "metadata": {},
   "source": [
    "## 6. Next Steps"
   ]
  },
  {
   "cell_type": "markdown",
   "metadata": {},
   "source": [
    "* Conduct case studies on top-performing studio based on highest grossing movies in Box Office revenue.\n",
    "* Initialize and diversify professional networks with top performing actors (captured in the top 10 Actors by Total Profit plot) and directors (captured in the top 10 Directors by Total Profit plot).\n",
    "* Launch talent search operations to identify actors with substantial acting potential.\n",
    "* Conduct extensive research on latest technologies (hardware and software) in film production."
   ]
  }
 ],
 "metadata": {
  "kernelspec": {
   "display_name": "Python (learn-env)",
   "language": "python",
   "name": "learn-env"
  },
  "language_info": {
   "codemirror_mode": {
    "name": "ipython",
    "version": 3
   },
   "file_extension": ".py",
   "mimetype": "text/x-python",
   "name": "python",
   "nbconvert_exporter": "python",
   "pygments_lexer": "ipython3",
   "version": "3.8.5"
  }
 },
 "nbformat": 4,
 "nbformat_minor": 4
}
