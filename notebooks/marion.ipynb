{
 "cells": [
  {
   "cell_type": "markdown",
   "metadata": {},
   "source": [
    "Student Name: Marion Osong\n",
    "\n",
    "Student Pace: DSF-FT12-Hybrid\n",
    "\n",
    "Instructor Name: Samuel Karu"
   ]
  },
  {
   "cell_type": "markdown",
   "metadata": {},
   "source": [
    "## **🎬MOVIE COMPANY PROJECT.** ##\n",
    "\n",
    "### *Box office perfomance analysis for new Movie studio.* ###\n",
    "\n",
    "## 🎬Introduction ##\n",
    "\n",
    "\n",
    "\n",
    "## 🎯Problem statement ##\n",
    "\"Our company aims to establish a new movie studio but lacks experience in film production. To guide the development of a successful film portfolio, we need to analyze historical box office data to identify patterns and factors that contribute to a film's financial success. This analysis will provide actionable insights to inform strategic decisions on genre selection, casting, budgeting, and marketing, ensuring the creation of films with high potential for profitability.\"\n",
    "## Objectives ##\n",
    "### *1. Undestanding and analyze historical Box Office Data.* ####\n",
    "The Boxoffice Company is a leading global provider of media, technology, and data solutions for the film industry.They partner with top studios, search platforms, and over 300 exhibition partners to connect with moviegoers through tools for ticketing, marketing, and business intelligence.\n",
    "- **Goal:** \n",
    "To identify patterns that inform future project selections.\n",
    "To also understand the genres that have historically performed well.\n",
    "      \n",
    "### *2. Understanding the dataset.* ###\n",
    "- **Tasks**\n",
    "   - Understand the technical terms used in the dataset.\n",
    "   - Review the shape and type of the data, understand the numerical and categorical columns. \n",
    "   - Handle missing values (drop or replace). \n",
    "   - Identify and remove duplicates. \n",
    "   - Drop unnecessary columns and add new ones as needed<p>\n",
    "\n",
    "### *3. Business objectives.* ###\n",
    "- **Tasks**\n",
    "- Analyze cost structures of successful films to identify areas for cost optimization.\n",
    "\n",
    "- Develop models to predict the return on investment for different types of films.\n",
    "\n",
    "### *4. statistics.* ###\n",
    "- **Trend Analysis**\n",
    "-"
   ]
  },
  {
   "cell_type": "markdown",
   "metadata": {},
   "source": [
    "### **🔍DATA LOADING.** ###\n",
    "\n",
    "This step is crucial for ensuring that data is accessible, consistent, and ready for subsequent analysis or modeling"
   ]
  },
  {
   "cell_type": "code",
   "execution_count": 176,
   "metadata": {},
   "outputs": [],
   "source": [
    "# import the necessary libraries for data analysis and visualization.\n",
    "import pandas as pd \n",
    "import numpy as np\n",
    "import matplotlib.pyplot as plt\n",
    "import seaborn as sns\n",
    "import sqlite3\n",
    "import seaborn as sns\n",
    "%matplotlib inline"
   ]
  },
  {
   "cell_type": "code",
   "execution_count": 177,
   "metadata": {},
   "outputs": [
    {
     "data": {
      "application/vnd.microsoft.datawrangler.viewer.v0+json": {
       "columns": [
        {
         "name": "index",
         "rawType": "int64",
         "type": "integer"
        },
        {
         "name": "title",
         "rawType": "object",
         "type": "string"
        },
        {
         "name": "studio",
         "rawType": "object",
         "type": "string"
        },
        {
         "name": "domestic_gross",
         "rawType": "float64",
         "type": "float"
        },
        {
         "name": "foreign_gross",
         "rawType": "object",
         "type": "string"
        },
        {
         "name": "year",
         "rawType": "int64",
         "type": "integer"
        }
       ],
       "conversionMethod": "pd.DataFrame",
       "ref": "a548d550-1e6a-486c-942a-52c6b058af1d",
       "rows": [
        [
         "0",
         "Toy Story 3",
         "BV",
         "415000000.0",
         "652000000",
         "2010"
        ],
        [
         "1",
         "Alice in Wonderland (2010)",
         "BV",
         "334200000.0",
         "691300000",
         "2010"
        ],
        [
         "2",
         "Harry Potter and the Deathly Hallows Part 1",
         "WB",
         "296000000.0",
         "664300000",
         "2010"
        ],
        [
         "3",
         "Inception",
         "WB",
         "292600000.0",
         "535700000",
         "2010"
        ],
        [
         "4",
         "Shrek Forever After",
         "P/DW",
         "238700000.0",
         "513900000",
         "2010"
        ]
       ],
       "shape": {
        "columns": 5,
        "rows": 5
       }
      },
      "text/html": [
       "<div>\n",
       "<style scoped>\n",
       "    .dataframe tbody tr th:only-of-type {\n",
       "        vertical-align: middle;\n",
       "    }\n",
       "\n",
       "    .dataframe tbody tr th {\n",
       "        vertical-align: top;\n",
       "    }\n",
       "\n",
       "    .dataframe thead th {\n",
       "        text-align: right;\n",
       "    }\n",
       "</style>\n",
       "<table border=\"1\" class=\"dataframe\">\n",
       "  <thead>\n",
       "    <tr style=\"text-align: right;\">\n",
       "      <th></th>\n",
       "      <th>title</th>\n",
       "      <th>studio</th>\n",
       "      <th>domestic_gross</th>\n",
       "      <th>foreign_gross</th>\n",
       "      <th>year</th>\n",
       "    </tr>\n",
       "  </thead>\n",
       "  <tbody>\n",
       "    <tr>\n",
       "      <th>0</th>\n",
       "      <td>Toy Story 3</td>\n",
       "      <td>BV</td>\n",
       "      <td>415000000.0</td>\n",
       "      <td>652000000</td>\n",
       "      <td>2010</td>\n",
       "    </tr>\n",
       "    <tr>\n",
       "      <th>1</th>\n",
       "      <td>Alice in Wonderland (2010)</td>\n",
       "      <td>BV</td>\n",
       "      <td>334200000.0</td>\n",
       "      <td>691300000</td>\n",
       "      <td>2010</td>\n",
       "    </tr>\n",
       "    <tr>\n",
       "      <th>2</th>\n",
       "      <td>Harry Potter and the Deathly Hallows Part 1</td>\n",
       "      <td>WB</td>\n",
       "      <td>296000000.0</td>\n",
       "      <td>664300000</td>\n",
       "      <td>2010</td>\n",
       "    </tr>\n",
       "    <tr>\n",
       "      <th>3</th>\n",
       "      <td>Inception</td>\n",
       "      <td>WB</td>\n",
       "      <td>292600000.0</td>\n",
       "      <td>535700000</td>\n",
       "      <td>2010</td>\n",
       "    </tr>\n",
       "    <tr>\n",
       "      <th>4</th>\n",
       "      <td>Shrek Forever After</td>\n",
       "      <td>P/DW</td>\n",
       "      <td>238700000.0</td>\n",
       "      <td>513900000</td>\n",
       "      <td>2010</td>\n",
       "    </tr>\n",
       "  </tbody>\n",
       "</table>\n",
       "</div>"
      ],
      "text/plain": [
       "                                         title studio  domestic_gross  \\\n",
       "0                                  Toy Story 3     BV     415000000.0   \n",
       "1                   Alice in Wonderland (2010)     BV     334200000.0   \n",
       "2  Harry Potter and the Deathly Hallows Part 1     WB     296000000.0   \n",
       "3                                    Inception     WB     292600000.0   \n",
       "4                          Shrek Forever After   P/DW     238700000.0   \n",
       "\n",
       "  foreign_gross  year  \n",
       "0     652000000  2010  \n",
       "1     691300000  2010  \n",
       "2     664300000  2010  \n",
       "3     535700000  2010  \n",
       "4     513900000  2010  "
      ]
     },
     "execution_count": 177,
     "metadata": {},
     "output_type": "execute_result"
    }
   ],
   "source": [
    "# load the dataset and display the first 5 rows.\n",
    "df = pd.read_csv('../zipped-data/bom.movie_gross.csv/bom.movie_gross.csv')\n",
    "df.head()"
   ]
  },
  {
   "cell_type": "code",
   "execution_count": 178,
   "metadata": {},
   "outputs": [
    {
     "name": "stdout",
     "output_type": "stream",
     "text": [
      "<class 'pandas.core.frame.DataFrame'>\n",
      "RangeIndex: 3387 entries, 0 to 3386\n",
      "Data columns (total 5 columns):\n",
      " #   Column          Non-Null Count  Dtype  \n",
      "---  ------          --------------  -----  \n",
      " 0   title           3387 non-null   object \n",
      " 1   studio          3382 non-null   object \n",
      " 2   domestic_gross  3359 non-null   float64\n",
      " 3   foreign_gross   2037 non-null   object \n",
      " 4   year            3387 non-null   int64  \n",
      "dtypes: float64(1), int64(1), object(3)\n",
      "memory usage: 132.4+ KB\n"
     ]
    }
   ],
   "source": [
    "# understanding the dataframe and its structure. (Get column attributes and data types.)\n",
    "df.info() "
   ]
  },
  {
   "cell_type": "code",
   "execution_count": 179,
   "metadata": {},
   "outputs": [
    {
     "data": {
      "text/plain": [
       "Index(['title', 'studio', 'domestic_gross', 'foreign_gross', 'year'], dtype='object')"
      ]
     },
     "execution_count": 179,
     "metadata": {},
     "output_type": "execute_result"
    }
   ],
   "source": [
    "df.columns"
   ]
  },
  {
   "cell_type": "code",
   "execution_count": 180,
   "metadata": {},
   "outputs": [
    {
     "data": {
      "text/plain": [
       "(3387, 5)"
      ]
     },
     "execution_count": 180,
     "metadata": {},
     "output_type": "execute_result"
    }
   ],
   "source": [
    "df.shape"
   ]
  },
  {
   "cell_type": "code",
   "execution_count": 181,
   "metadata": {},
   "outputs": [
    {
     "data": {
      "application/vnd.microsoft.datawrangler.viewer.v0+json": {
       "columns": [
        {
         "name": "index",
         "rawType": "object",
         "type": "string"
        },
        {
         "name": "title",
         "rawType": "object",
         "type": "string"
        },
        {
         "name": "studio",
         "rawType": "object",
         "type": "string"
        },
        {
         "name": "domestic_gross",
         "rawType": "float64",
         "type": "float"
        },
        {
         "name": "foreign_gross",
         "rawType": "object",
         "type": "string"
        },
        {
         "name": "year",
         "rawType": "float64",
         "type": "float"
        }
       ],
       "conversionMethod": "pd.DataFrame",
       "ref": "5b9e5514-68a8-47b7-ad71-ea744da46dd1",
       "rows": [
        [
         "count",
         "3387",
         "3382",
         "3359.0",
         "2037",
         "3387.0"
        ],
        [
         "unique",
         "3386",
         "257",
         null,
         "1204",
         null
        ],
        [
         "top",
         "Bluebeard",
         "IFC",
         null,
         "1200000",
         null
        ],
        [
         "freq",
         "2",
         "166",
         null,
         "23",
         null
        ],
        [
         "mean",
         null,
         null,
         "28745845.06698422",
         null,
         "2013.9580749926188"
        ],
        [
         "std",
         null,
         null,
         "66982498.23736456",
         null,
         "2.4781410973889657"
        ],
        [
         "min",
         null,
         null,
         "100.0",
         null,
         "2010.0"
        ],
        [
         "25%",
         null,
         null,
         "120000.0",
         null,
         "2012.0"
        ],
        [
         "50%",
         null,
         null,
         "1400000.0",
         null,
         "2014.0"
        ],
        [
         "75%",
         null,
         null,
         "27900000.0",
         null,
         "2016.0"
        ],
        [
         "max",
         null,
         null,
         "936700000.0",
         null,
         "2018.0"
        ]
       ],
       "shape": {
        "columns": 5,
        "rows": 11
       }
      },
      "text/html": [
       "<div>\n",
       "<style scoped>\n",
       "    .dataframe tbody tr th:only-of-type {\n",
       "        vertical-align: middle;\n",
       "    }\n",
       "\n",
       "    .dataframe tbody tr th {\n",
       "        vertical-align: top;\n",
       "    }\n",
       "\n",
       "    .dataframe thead th {\n",
       "        text-align: right;\n",
       "    }\n",
       "</style>\n",
       "<table border=\"1\" class=\"dataframe\">\n",
       "  <thead>\n",
       "    <tr style=\"text-align: right;\">\n",
       "      <th></th>\n",
       "      <th>title</th>\n",
       "      <th>studio</th>\n",
       "      <th>domestic_gross</th>\n",
       "      <th>foreign_gross</th>\n",
       "      <th>year</th>\n",
       "    </tr>\n",
       "  </thead>\n",
       "  <tbody>\n",
       "    <tr>\n",
       "      <th>count</th>\n",
       "      <td>3387</td>\n",
       "      <td>3382</td>\n",
       "      <td>3.359000e+03</td>\n",
       "      <td>2037</td>\n",
       "      <td>3387.000000</td>\n",
       "    </tr>\n",
       "    <tr>\n",
       "      <th>unique</th>\n",
       "      <td>3386</td>\n",
       "      <td>257</td>\n",
       "      <td>NaN</td>\n",
       "      <td>1204</td>\n",
       "      <td>NaN</td>\n",
       "    </tr>\n",
       "    <tr>\n",
       "      <th>top</th>\n",
       "      <td>Bluebeard</td>\n",
       "      <td>IFC</td>\n",
       "      <td>NaN</td>\n",
       "      <td>1200000</td>\n",
       "      <td>NaN</td>\n",
       "    </tr>\n",
       "    <tr>\n",
       "      <th>freq</th>\n",
       "      <td>2</td>\n",
       "      <td>166</td>\n",
       "      <td>NaN</td>\n",
       "      <td>23</td>\n",
       "      <td>NaN</td>\n",
       "    </tr>\n",
       "    <tr>\n",
       "      <th>mean</th>\n",
       "      <td>NaN</td>\n",
       "      <td>NaN</td>\n",
       "      <td>2.874585e+07</td>\n",
       "      <td>NaN</td>\n",
       "      <td>2013.958075</td>\n",
       "    </tr>\n",
       "    <tr>\n",
       "      <th>std</th>\n",
       "      <td>NaN</td>\n",
       "      <td>NaN</td>\n",
       "      <td>6.698250e+07</td>\n",
       "      <td>NaN</td>\n",
       "      <td>2.478141</td>\n",
       "    </tr>\n",
       "    <tr>\n",
       "      <th>min</th>\n",
       "      <td>NaN</td>\n",
       "      <td>NaN</td>\n",
       "      <td>1.000000e+02</td>\n",
       "      <td>NaN</td>\n",
       "      <td>2010.000000</td>\n",
       "    </tr>\n",
       "    <tr>\n",
       "      <th>25%</th>\n",
       "      <td>NaN</td>\n",
       "      <td>NaN</td>\n",
       "      <td>1.200000e+05</td>\n",
       "      <td>NaN</td>\n",
       "      <td>2012.000000</td>\n",
       "    </tr>\n",
       "    <tr>\n",
       "      <th>50%</th>\n",
       "      <td>NaN</td>\n",
       "      <td>NaN</td>\n",
       "      <td>1.400000e+06</td>\n",
       "      <td>NaN</td>\n",
       "      <td>2014.000000</td>\n",
       "    </tr>\n",
       "    <tr>\n",
       "      <th>75%</th>\n",
       "      <td>NaN</td>\n",
       "      <td>NaN</td>\n",
       "      <td>2.790000e+07</td>\n",
       "      <td>NaN</td>\n",
       "      <td>2016.000000</td>\n",
       "    </tr>\n",
       "    <tr>\n",
       "      <th>max</th>\n",
       "      <td>NaN</td>\n",
       "      <td>NaN</td>\n",
       "      <td>9.367000e+08</td>\n",
       "      <td>NaN</td>\n",
       "      <td>2018.000000</td>\n",
       "    </tr>\n",
       "  </tbody>\n",
       "</table>\n",
       "</div>"
      ],
      "text/plain": [
       "            title studio  domestic_gross foreign_gross         year\n",
       "count        3387   3382    3.359000e+03          2037  3387.000000\n",
       "unique       3386    257             NaN          1204          NaN\n",
       "top     Bluebeard    IFC             NaN       1200000          NaN\n",
       "freq            2    166             NaN            23          NaN\n",
       "mean          NaN    NaN    2.874585e+07           NaN  2013.958075\n",
       "std           NaN    NaN    6.698250e+07           NaN     2.478141\n",
       "min           NaN    NaN    1.000000e+02           NaN  2010.000000\n",
       "25%           NaN    NaN    1.200000e+05           NaN  2012.000000\n",
       "50%           NaN    NaN    1.400000e+06           NaN  2014.000000\n",
       "75%           NaN    NaN    2.790000e+07           NaN  2016.000000\n",
       "max           NaN    NaN    9.367000e+08           NaN  2018.000000"
      ]
     },
     "execution_count": 181,
     "metadata": {},
     "output_type": "execute_result"
    }
   ],
   "source": [
    "df.describe(include='all')"
   ]
  },
  {
   "cell_type": "code",
   "execution_count": 182,
   "metadata": {},
   "outputs": [
    {
     "data": {
      "text/plain": [
       "title                0\n",
       "studio               5\n",
       "domestic_gross      28\n",
       "foreign_gross     1350\n",
       "year                 0\n",
       "dtype: int64"
      ]
     },
     "execution_count": 182,
     "metadata": {},
     "output_type": "execute_result"
    }
   ],
   "source": [
    "# Total number of null values in the dataset.\n",
    "df.isnull().sum()"
   ]
  },
  {
   "cell_type": "code",
   "execution_count": 183,
   "metadata": {},
   "outputs": [
    {
     "data": {
      "text/plain": [
       "0"
      ]
     },
     "execution_count": 183,
     "metadata": {},
     "output_type": "execute_result"
    }
   ],
   "source": [
    "# Total number of duplicates in the dataset.\n",
    "df.duplicated().sum()"
   ]
  },
  {
   "cell_type": "code",
   "execution_count": 184,
   "metadata": {},
   "outputs": [
    {
     "data": {
      "application/vnd.microsoft.datawrangler.viewer.v0+json": {
       "columns": [
        {
         "name": "index",
         "rawType": "object",
         "type": "string"
        },
        {
         "name": "title",
         "rawType": "object",
         "type": "string"
        },
        {
         "name": "studio",
         "rawType": "object",
         "type": "string"
        },
        {
         "name": "foreign_gross",
         "rawType": "object",
         "type": "string"
        }
       ],
       "conversionMethod": "pd.DataFrame",
       "ref": "075d0810-716d-47a0-a78a-1257852a17be",
       "rows": [
        [
         "count",
         "3387",
         "3382",
         "2037"
        ],
        [
         "unique",
         "3386",
         "257",
         "1204"
        ],
        [
         "top",
         "Bluebeard",
         "IFC",
         "1200000"
        ],
        [
         "freq",
         "2",
         "166",
         "23"
        ]
       ],
       "shape": {
        "columns": 3,
        "rows": 4
       }
      },
      "text/html": [
       "<div>\n",
       "<style scoped>\n",
       "    .dataframe tbody tr th:only-of-type {\n",
       "        vertical-align: middle;\n",
       "    }\n",
       "\n",
       "    .dataframe tbody tr th {\n",
       "        vertical-align: top;\n",
       "    }\n",
       "\n",
       "    .dataframe thead th {\n",
       "        text-align: right;\n",
       "    }\n",
       "</style>\n",
       "<table border=\"1\" class=\"dataframe\">\n",
       "  <thead>\n",
       "    <tr style=\"text-align: right;\">\n",
       "      <th></th>\n",
       "      <th>title</th>\n",
       "      <th>studio</th>\n",
       "      <th>foreign_gross</th>\n",
       "    </tr>\n",
       "  </thead>\n",
       "  <tbody>\n",
       "    <tr>\n",
       "      <th>count</th>\n",
       "      <td>3387</td>\n",
       "      <td>3382</td>\n",
       "      <td>2037</td>\n",
       "    </tr>\n",
       "    <tr>\n",
       "      <th>unique</th>\n",
       "      <td>3386</td>\n",
       "      <td>257</td>\n",
       "      <td>1204</td>\n",
       "    </tr>\n",
       "    <tr>\n",
       "      <th>top</th>\n",
       "      <td>Bluebeard</td>\n",
       "      <td>IFC</td>\n",
       "      <td>1200000</td>\n",
       "    </tr>\n",
       "    <tr>\n",
       "      <th>freq</th>\n",
       "      <td>2</td>\n",
       "      <td>166</td>\n",
       "      <td>23</td>\n",
       "    </tr>\n",
       "  </tbody>\n",
       "</table>\n",
       "</div>"
      ],
      "text/plain": [
       "            title studio foreign_gross\n",
       "count        3387   3382          2037\n",
       "unique       3386    257          1204\n",
       "top     Bluebeard    IFC       1200000\n",
       "freq            2    166            23"
      ]
     },
     "execution_count": 184,
     "metadata": {},
     "output_type": "execute_result"
    }
   ],
   "source": [
    "# Total number of the categorical data in the dataset.\n",
    "df.describe(include='object')"
   ]
  },
  {
   "cell_type": "code",
   "execution_count": 185,
   "metadata": {},
   "outputs": [
    {
     "data": {
      "application/vnd.microsoft.datawrangler.viewer.v0+json": {
       "columns": [
        {
         "name": "index",
         "rawType": "object",
         "type": "string"
        },
        {
         "name": "domestic_gross",
         "rawType": "float64",
         "type": "float"
        },
        {
         "name": "year",
         "rawType": "float64",
         "type": "float"
        }
       ],
       "conversionMethod": "pd.DataFrame",
       "ref": "4fdc2e67-225d-4a5a-a055-46e6c5b9ecff",
       "rows": [
        [
         "count",
         "3359.0",
         "3387.0"
        ],
        [
         "mean",
         "28745845.06698422",
         "2013.9580749926188"
        ],
        [
         "std",
         "66982498.23736456",
         "2.4781410973889657"
        ],
        [
         "min",
         "100.0",
         "2010.0"
        ],
        [
         "25%",
         "120000.0",
         "2012.0"
        ],
        [
         "50%",
         "1400000.0",
         "2014.0"
        ],
        [
         "75%",
         "27900000.0",
         "2016.0"
        ],
        [
         "max",
         "936700000.0",
         "2018.0"
        ]
       ],
       "shape": {
        "columns": 2,
        "rows": 8
       }
      },
      "text/html": [
       "<div>\n",
       "<style scoped>\n",
       "    .dataframe tbody tr th:only-of-type {\n",
       "        vertical-align: middle;\n",
       "    }\n",
       "\n",
       "    .dataframe tbody tr th {\n",
       "        vertical-align: top;\n",
       "    }\n",
       "\n",
       "    .dataframe thead th {\n",
       "        text-align: right;\n",
       "    }\n",
       "</style>\n",
       "<table border=\"1\" class=\"dataframe\">\n",
       "  <thead>\n",
       "    <tr style=\"text-align: right;\">\n",
       "      <th></th>\n",
       "      <th>domestic_gross</th>\n",
       "      <th>year</th>\n",
       "    </tr>\n",
       "  </thead>\n",
       "  <tbody>\n",
       "    <tr>\n",
       "      <th>count</th>\n",
       "      <td>3.359000e+03</td>\n",
       "      <td>3387.000000</td>\n",
       "    </tr>\n",
       "    <tr>\n",
       "      <th>mean</th>\n",
       "      <td>2.874585e+07</td>\n",
       "      <td>2013.958075</td>\n",
       "    </tr>\n",
       "    <tr>\n",
       "      <th>std</th>\n",
       "      <td>6.698250e+07</td>\n",
       "      <td>2.478141</td>\n",
       "    </tr>\n",
       "    <tr>\n",
       "      <th>min</th>\n",
       "      <td>1.000000e+02</td>\n",
       "      <td>2010.000000</td>\n",
       "    </tr>\n",
       "    <tr>\n",
       "      <th>25%</th>\n",
       "      <td>1.200000e+05</td>\n",
       "      <td>2012.000000</td>\n",
       "    </tr>\n",
       "    <tr>\n",
       "      <th>50%</th>\n",
       "      <td>1.400000e+06</td>\n",
       "      <td>2014.000000</td>\n",
       "    </tr>\n",
       "    <tr>\n",
       "      <th>75%</th>\n",
       "      <td>2.790000e+07</td>\n",
       "      <td>2016.000000</td>\n",
       "    </tr>\n",
       "    <tr>\n",
       "      <th>max</th>\n",
       "      <td>9.367000e+08</td>\n",
       "      <td>2018.000000</td>\n",
       "    </tr>\n",
       "  </tbody>\n",
       "</table>\n",
       "</div>"
      ],
      "text/plain": [
       "       domestic_gross         year\n",
       "count    3.359000e+03  3387.000000\n",
       "mean     2.874585e+07  2013.958075\n",
       "std      6.698250e+07     2.478141\n",
       "min      1.000000e+02  2010.000000\n",
       "25%      1.200000e+05  2012.000000\n",
       "50%      1.400000e+06  2014.000000\n",
       "75%      2.790000e+07  2016.000000\n",
       "max      9.367000e+08  2018.000000"
      ]
     },
     "execution_count": 185,
     "metadata": {},
     "output_type": "execute_result"
    }
   ],
   "source": [
    "# Total number of numerical data in the dataset.\n",
    "df.describe(include='number')"
   ]
  },
  {
   "cell_type": "markdown",
   "metadata": {},
   "source": [
    "### *📝Summary of the dataset.* ###\n",
    "- The dataset has a total number of 5 colums and 3387 rows in total.\n",
    "- Each row represents movie name.\n",
    "- The dataset has a number of missing values:\n",
    "    - The studio column has 5 missing values.\n",
    "    - The domestic_gross column has 28 missing values.\n",
    "    - foreign_gross: The foreign box office gross revenue\n",
    "    - The domestic_gross column has 28 missing values.\n",
    "- The columns consist of:\n",
    "    - title: The title of the movie.\n",
    "    - studio: The studio that produced the movie (with some missing values).\n",
    "    - domestic_gross: The domestic box office gross revenue (with some missing values).\n",
    "    - foreign_gross: The foreign box office gross revenue (The column the most missing values).\n",
    "    - year: The year the movie was released.\n",
    "\n",
    "\n"
   ]
  },
  {
   "cell_type": "code",
   "execution_count": 186,
   "metadata": {},
   "outputs": [],
   "source": [
    "# loading the sqlite3 library to create a connection to the database.\n",
    "conn = sqlite3.connect(r'C:\\Users\\ADMIN\\Documents\\box-office-movie-insights\\zipped-data\\im.db\\im.db')\n",
    "cursor = conn.cursor()"
   ]
  },
  {
   "cell_type": "code",
   "execution_count": 187,
   "metadata": {},
   "outputs": [
    {
     "data": {
      "application/vnd.microsoft.datawrangler.viewer.v0+json": {
       "columns": [
        {
         "name": "index",
         "rawType": "int64",
         "type": "integer"
        },
        {
         "name": "movie_id",
         "rawType": "object",
         "type": "string"
        },
        {
         "name": "primary_title",
         "rawType": "object",
         "type": "string"
        },
        {
         "name": "original_title",
         "rawType": "object",
         "type": "string"
        },
        {
         "name": "start_year",
         "rawType": "int64",
         "type": "integer"
        },
        {
         "name": "runtime_minutes",
         "rawType": "float64",
         "type": "float"
        },
        {
         "name": "genres",
         "rawType": "object",
         "type": "string"
        }
       ],
       "conversionMethod": "pd.DataFrame",
       "ref": "ea1cd82e-b7cb-4b10-8c3e-fe8849aa0c09",
       "rows": [
        [
         "0",
         "tt0063540",
         "Sunghursh",
         "Sunghursh",
         "2013",
         "175.0",
         "Action,Crime,Drama"
        ],
        [
         "1",
         "tt0066787",
         "One Day Before the Rainy Season",
         "Ashad Ka Ek Din",
         "2019",
         "114.0",
         "Biography,Drama"
        ],
        [
         "2",
         "tt0069049",
         "The Other Side of the Wind",
         "The Other Side of the Wind",
         "2018",
         "122.0",
         "Drama"
        ],
        [
         "3",
         "tt0069204",
         "Sabse Bada Sukh",
         "Sabse Bada Sukh",
         "2018",
         null,
         "Comedy,Drama"
        ],
        [
         "4",
         "tt0100275",
         "The Wandering Soap Opera",
         "La Telenovela Errante",
         "2017",
         "80.0",
         "Comedy,Drama,Fantasy"
        ]
       ],
       "shape": {
        "columns": 6,
        "rows": 5
       }
      },
      "text/html": [
       "<div>\n",
       "<style scoped>\n",
       "    .dataframe tbody tr th:only-of-type {\n",
       "        vertical-align: middle;\n",
       "    }\n",
       "\n",
       "    .dataframe tbody tr th {\n",
       "        vertical-align: top;\n",
       "    }\n",
       "\n",
       "    .dataframe thead th {\n",
       "        text-align: right;\n",
       "    }\n",
       "</style>\n",
       "<table border=\"1\" class=\"dataframe\">\n",
       "  <thead>\n",
       "    <tr style=\"text-align: right;\">\n",
       "      <th></th>\n",
       "      <th>movie_id</th>\n",
       "      <th>primary_title</th>\n",
       "      <th>original_title</th>\n",
       "      <th>start_year</th>\n",
       "      <th>runtime_minutes</th>\n",
       "      <th>genres</th>\n",
       "    </tr>\n",
       "  </thead>\n",
       "  <tbody>\n",
       "    <tr>\n",
       "      <th>0</th>\n",
       "      <td>tt0063540</td>\n",
       "      <td>Sunghursh</td>\n",
       "      <td>Sunghursh</td>\n",
       "      <td>2013</td>\n",
       "      <td>175.0</td>\n",
       "      <td>Action,Crime,Drama</td>\n",
       "    </tr>\n",
       "    <tr>\n",
       "      <th>1</th>\n",
       "      <td>tt0066787</td>\n",
       "      <td>One Day Before the Rainy Season</td>\n",
       "      <td>Ashad Ka Ek Din</td>\n",
       "      <td>2019</td>\n",
       "      <td>114.0</td>\n",
       "      <td>Biography,Drama</td>\n",
       "    </tr>\n",
       "    <tr>\n",
       "      <th>2</th>\n",
       "      <td>tt0069049</td>\n",
       "      <td>The Other Side of the Wind</td>\n",
       "      <td>The Other Side of the Wind</td>\n",
       "      <td>2018</td>\n",
       "      <td>122.0</td>\n",
       "      <td>Drama</td>\n",
       "    </tr>\n",
       "    <tr>\n",
       "      <th>3</th>\n",
       "      <td>tt0069204</td>\n",
       "      <td>Sabse Bada Sukh</td>\n",
       "      <td>Sabse Bada Sukh</td>\n",
       "      <td>2018</td>\n",
       "      <td>NaN</td>\n",
       "      <td>Comedy,Drama</td>\n",
       "    </tr>\n",
       "    <tr>\n",
       "      <th>4</th>\n",
       "      <td>tt0100275</td>\n",
       "      <td>The Wandering Soap Opera</td>\n",
       "      <td>La Telenovela Errante</td>\n",
       "      <td>2017</td>\n",
       "      <td>80.0</td>\n",
       "      <td>Comedy,Drama,Fantasy</td>\n",
       "    </tr>\n",
       "  </tbody>\n",
       "</table>\n",
       "</div>"
      ],
      "text/plain": [
       "    movie_id                    primary_title              original_title  \\\n",
       "0  tt0063540                        Sunghursh                   Sunghursh   \n",
       "1  tt0066787  One Day Before the Rainy Season             Ashad Ka Ek Din   \n",
       "2  tt0069049       The Other Side of the Wind  The Other Side of the Wind   \n",
       "3  tt0069204                  Sabse Bada Sukh             Sabse Bada Sukh   \n",
       "4  tt0100275         The Wandering Soap Opera       La Telenovela Errante   \n",
       "\n",
       "   start_year  runtime_minutes                genres  \n",
       "0        2013            175.0    Action,Crime,Drama  \n",
       "1        2019            114.0       Biography,Drama  \n",
       "2        2018            122.0                 Drama  \n",
       "3        2018              NaN          Comedy,Drama  \n",
       "4        2017             80.0  Comedy,Drama,Fantasy  "
      ]
     },
     "execution_count": 187,
     "metadata": {},
     "output_type": "execute_result"
    }
   ],
   "source": [
    "imdb_basics = pd.read_sql(\"SELECT * FROM movie_basics\", conn)\n",
    "imdb_basics.head()"
   ]
  },
  {
   "cell_type": "code",
   "execution_count": 188,
   "metadata": {},
   "outputs": [
    {
     "data": {
      "application/vnd.microsoft.datawrangler.viewer.v0+json": {
       "columns": [
        {
         "name": "index",
         "rawType": "int64",
         "type": "integer"
        },
        {
         "name": "movie_id",
         "rawType": "object",
         "type": "string"
        },
        {
         "name": "primary_title",
         "rawType": "object",
         "type": "string"
        },
        {
         "name": "original_title",
         "rawType": "object",
         "type": "string"
        },
        {
         "name": "start_year",
         "rawType": "int64",
         "type": "integer"
        },
        {
         "name": "runtime_minutes",
         "rawType": "float64",
         "type": "float"
        },
        {
         "name": "genres",
         "rawType": "object",
         "type": "string"
        }
       ],
       "conversionMethod": "pd.DataFrame",
       "ref": "64eedcde-7d3d-4fa9-90dd-658c27ade52a",
       "rows": [
        [
         "0",
         "tt0063540",
         "Sunghursh",
         "Sunghursh",
         "2013",
         "175.0",
         "Action,Crime,Drama"
        ],
        [
         "1",
         "tt0066787",
         "One Day Before the Rainy Season",
         "Ashad Ka Ek Din",
         "2019",
         "114.0",
         "Biography,Drama"
        ],
        [
         "2",
         "tt0069049",
         "The Other Side of the Wind",
         "The Other Side of the Wind",
         "2018",
         "122.0",
         "Drama"
        ],
        [
         "3",
         "tt0069204",
         "Sabse Bada Sukh",
         "Sabse Bada Sukh",
         "2018",
         null,
         "Comedy,Drama"
        ],
        [
         "4",
         "tt0100275",
         "The Wandering Soap Opera",
         "La Telenovela Errante",
         "2017",
         "80.0",
         "Comedy,Drama,Fantasy"
        ]
       ],
       "shape": {
        "columns": 6,
        "rows": 5
       }
      },
      "text/html": [
       "<div>\n",
       "<style scoped>\n",
       "    .dataframe tbody tr th:only-of-type {\n",
       "        vertical-align: middle;\n",
       "    }\n",
       "\n",
       "    .dataframe tbody tr th {\n",
       "        vertical-align: top;\n",
       "    }\n",
       "\n",
       "    .dataframe thead th {\n",
       "        text-align: right;\n",
       "    }\n",
       "</style>\n",
       "<table border=\"1\" class=\"dataframe\">\n",
       "  <thead>\n",
       "    <tr style=\"text-align: right;\">\n",
       "      <th></th>\n",
       "      <th>movie_id</th>\n",
       "      <th>primary_title</th>\n",
       "      <th>original_title</th>\n",
       "      <th>start_year</th>\n",
       "      <th>runtime_minutes</th>\n",
       "      <th>genres</th>\n",
       "    </tr>\n",
       "  </thead>\n",
       "  <tbody>\n",
       "    <tr>\n",
       "      <th>0</th>\n",
       "      <td>tt0063540</td>\n",
       "      <td>Sunghursh</td>\n",
       "      <td>Sunghursh</td>\n",
       "      <td>2013</td>\n",
       "      <td>175.0</td>\n",
       "      <td>Action,Crime,Drama</td>\n",
       "    </tr>\n",
       "    <tr>\n",
       "      <th>1</th>\n",
       "      <td>tt0066787</td>\n",
       "      <td>One Day Before the Rainy Season</td>\n",
       "      <td>Ashad Ka Ek Din</td>\n",
       "      <td>2019</td>\n",
       "      <td>114.0</td>\n",
       "      <td>Biography,Drama</td>\n",
       "    </tr>\n",
       "    <tr>\n",
       "      <th>2</th>\n",
       "      <td>tt0069049</td>\n",
       "      <td>The Other Side of the Wind</td>\n",
       "      <td>The Other Side of the Wind</td>\n",
       "      <td>2018</td>\n",
       "      <td>122.0</td>\n",
       "      <td>Drama</td>\n",
       "    </tr>\n",
       "    <tr>\n",
       "      <th>3</th>\n",
       "      <td>tt0069204</td>\n",
       "      <td>Sabse Bada Sukh</td>\n",
       "      <td>Sabse Bada Sukh</td>\n",
       "      <td>2018</td>\n",
       "      <td>NaN</td>\n",
       "      <td>Comedy,Drama</td>\n",
       "    </tr>\n",
       "    <tr>\n",
       "      <th>4</th>\n",
       "      <td>tt0100275</td>\n",
       "      <td>The Wandering Soap Opera</td>\n",
       "      <td>La Telenovela Errante</td>\n",
       "      <td>2017</td>\n",
       "      <td>80.0</td>\n",
       "      <td>Comedy,Drama,Fantasy</td>\n",
       "    </tr>\n",
       "  </tbody>\n",
       "</table>\n",
       "</div>"
      ],
      "text/plain": [
       "    movie_id                    primary_title              original_title  \\\n",
       "0  tt0063540                        Sunghursh                   Sunghursh   \n",
       "1  tt0066787  One Day Before the Rainy Season             Ashad Ka Ek Din   \n",
       "2  tt0069049       The Other Side of the Wind  The Other Side of the Wind   \n",
       "3  tt0069204                  Sabse Bada Sukh             Sabse Bada Sukh   \n",
       "4  tt0100275         The Wandering Soap Opera       La Telenovela Errante   \n",
       "\n",
       "   start_year  runtime_minutes                genres  \n",
       "0        2013            175.0    Action,Crime,Drama  \n",
       "1        2019            114.0       Biography,Drama  \n",
       "2        2018            122.0                 Drama  \n",
       "3        2018              NaN          Comedy,Drama  \n",
       "4        2017             80.0  Comedy,Drama,Fantasy  "
      ]
     },
     "execution_count": 188,
     "metadata": {},
     "output_type": "execute_result"
    }
   ],
   "source": [
    "# Load data from the movie_basics table\n",
    "imdb_basics = pd.read_sql(\"SELECT * FROM movie_basics\", conn)\n",
    "imdb_basics.head()"
   ]
  },
  {
   "cell_type": "code",
   "execution_count": 189,
   "metadata": {},
   "outputs": [
    {
     "name": "stdout",
     "output_type": "stream",
     "text": [
      "    movie_id                    primary_title              original_title  \\\n",
      "0  tt0063540                        Sunghursh                   Sunghursh   \n",
      "1  tt0066787  One Day Before the Rainy Season             Ashad Ka Ek Din   \n",
      "2  tt0069049       The Other Side of the Wind  The Other Side of the Wind   \n",
      "3  tt0069204                  Sabse Bada Sukh             Sabse Bada Sukh   \n",
      "4  tt0100275         The Wandering Soap Opera       La Telenovela Errante   \n",
      "5  tt0111414                      A Thin Life                 A Thin Life   \n",
      "6  tt0112502                          Bigfoot                     Bigfoot   \n",
      "7  tt0137204                  Joe Finds Grace             Joe Finds Grace   \n",
      "8  tt0139613                       O Silêncio                  O Silêncio   \n",
      "9  tt0144449            Nema aviona za Zagreb       Nema aviona za Zagreb   \n",
      "\n",
      "   start_year  runtime_minutes                      genres  \n",
      "0        2013            175.0          Action,Crime,Drama  \n",
      "1        2019            114.0             Biography,Drama  \n",
      "2        2018            122.0                       Drama  \n",
      "3        2018              NaN                Comedy,Drama  \n",
      "4        2017             80.0        Comedy,Drama,Fantasy  \n",
      "5        2018             75.0                      Comedy  \n",
      "6        2017              NaN             Horror,Thriller  \n",
      "7        2017             83.0  Adventure,Animation,Comedy  \n",
      "8        2012              NaN         Documentary,History  \n",
      "9        2012             82.0                   Biography  \n",
      "     movie_id  averagerating  numvotes\n",
      "0  tt10356526            8.3        31\n",
      "1  tt10384606            8.9       559\n",
      "2   tt1042974            6.4        20\n",
      "3   tt1043726            4.2     50352\n",
      "4   tt1060240            6.5        21\n",
      "5   tt1069246            6.2       326\n",
      "6   tt1094666            7.0      1613\n",
      "7   tt1130982            6.4       571\n",
      "8   tt1156528            7.2       265\n",
      "9   tt1161457            4.2       148\n",
      "    movie_id  person_id\n",
      "0  tt0285252  nm0899854\n",
      "1  tt0462036  nm1940585\n",
      "2  tt0835418  nm0151540\n",
      "3  tt0835418  nm0151540\n",
      "4  tt0878654  nm0089502\n",
      "5  tt0878654  nm2291498\n",
      "6  tt0878654  nm2292011\n",
      "7  tt0879859  nm2416460\n",
      "8  tt0996958  nm2286991\n",
      "9  tt0996958  nm2286991\n",
      "    movie_id  person_id\n",
      "0  tt0285252  nm0899854\n",
      "1  tt0438973  nm0175726\n",
      "2  tt0438973  nm1802864\n",
      "3  tt0462036  nm1940585\n",
      "4  tt0835418  nm0310087\n",
      "5  tt0835418  nm0841532\n",
      "6  tt0878654  nm0284943\n",
      "7  tt0878654  nm0284943\n",
      "8  tt0878654  nm0284943\n",
      "9  tt0996958  nm2286991\n",
      "   person_id       primary_name  birth_year  death_year  \\\n",
      "0  nm0061671  Mary Ellen Bauder         NaN         NaN   \n",
      "1  nm0061865       Joseph Bauer         NaN         NaN   \n",
      "2  nm0062070         Bruce Baum         NaN         NaN   \n",
      "3  nm0062195       Axel Baumann         NaN         NaN   \n",
      "4  nm0062798        Pete Baxter         NaN         NaN   \n",
      "5  nm0062879     Ruel S. Bayani         NaN         NaN   \n",
      "6  nm0063198              Bayou         NaN         NaN   \n",
      "7  nm0063432      Stevie Be-Zet         NaN         NaN   \n",
      "8  nm0063618          Jeff Beal      1963.0         NaN   \n",
      "9  nm0063750    Lindsay Beamish         NaN         NaN   \n",
      "\n",
      "                                 primary_profession  \n",
      "0         miscellaneous,production_manager,producer  \n",
      "1        composer,music_department,sound_department  \n",
      "2                        miscellaneous,actor,writer  \n",
      "3  camera_department,cinematographer,art_department  \n",
      "4  production_designer,art_department,set_decorator  \n",
      "5         director,production_manager,miscellaneous  \n",
      "6                                             actor  \n",
      "7                               composer,soundtrack  \n",
      "8              composer,music_department,soundtrack  \n",
      "9                             actress,miscellaneous  \n"
     ]
    },
    {
     "data": {
      "text/plain": [
       "(None, '\\n')"
      ]
     },
     "execution_count": 189,
     "metadata": {},
     "output_type": "execute_result"
    }
   ],
   "source": [
    "# retrieve data from various tables\n",
    "movie_basics = pd.read_sql_query(\"SELECT * FROM movie_basics\", conn)\n",
    "movie_ratings = pd.read_sql_query(\"SELECT * FROM movie_ratings\", conn)\n",
    "directors = pd.read_sql_query(\"SELECT * FROM directors\", conn)\n",
    "writers = pd.read_sql_query(\"SELECT * FROM writers\", conn)\n",
    "persons = pd.read_sql_query(\"SELECT * FROM persons\", conn)\n",
    "\n",
    "#preview the first few rows of each table\n",
    "print(movie_basics.head(10)), \"\\n\"\n",
    "print(movie_ratings.head(10)), \"\\n\"\n",
    "print(directors.head(10)), \"\\n\"\n",
    "print(writers.head(10)), \"\\n\"\n",
    "print(persons.head(10)), \"\\n\""
   ]
  },
  {
   "cell_type": "code",
   "execution_count": 190,
   "metadata": {},
   "outputs": [],
   "source": [
    "# Load Bom.movie_gross dataset\n",
    "box_df = pd.read_csv(r'../zipped-data/bom.movie_gross.csv/bom.movie_gross.csv')\n",
    "# Connect to IMDB SQLite database\n",
    "conn = sqlite3.connect(r'C:\\Users\\ADMIN\\Documents\\box-office-movie-insights\\zipped-data\\im.db\\im.db')"
   ]
  },
  {
   "cell_type": "markdown",
   "metadata": {},
   "source": [
    "### **🧹DATA CLEANING.** ###\n",
    "since we have understood the basic data structure and the data types, we now clean the dataset before we can perform Explorative Data Analysis. \n",
    "\n",
    "### *Dropping duplicates* ###"
   ]
  },
  {
   "cell_type": "code",
   "execution_count": 191,
   "metadata": {},
   "outputs": [
    {
     "name": "stdout",
     "output_type": "stream",
     "text": [
      "Checking duplicates in box_df: 0 duplicates found.\n",
      "After dropping duplicates, box_df has shape: (3387, 5)\n",
      "Checking duplicates in movie_basics: 0 duplicates found.\n",
      "After dropping duplicates, movie_basics has shape: (146144, 6)\n",
      "Checking duplicates in movie_ratings: 0 duplicates found.\n",
      "After dropping duplicates, movie_ratings has shape: (73856, 3)\n",
      "Checking duplicates in directors: 127639 duplicates found.\n",
      "After dropping duplicates, directors has shape: (163535, 2)\n",
      "Checking duplicates in writers: 77521 duplicates found.\n",
      "After dropping duplicates, writers has shape: (178352, 2)\n",
      "Checking duplicates in persons: 0 duplicates found.\n",
      "After dropping duplicates, persons has shape: (606648, 5)\n"
     ]
    }
   ],
   "source": [
    "# Check and drop duplicates in each DataFrame\n",
    "datasets = {\n",
    "    \"box_df\": box_df,\n",
    "    \"movie_basics\": movie_basics,\n",
    "    \"movie_ratings\": movie_ratings,\n",
    "    \"directors\": directors,\n",
    "    \"writers\": writers,\n",
    "    \"persons\": persons\n",
    "}\n",
    "\n",
    "for name, df in datasets.items():\n",
    "    print(f\"Checking duplicates in {name}: {df.duplicated().sum()} duplicates found.\")\n",
    "    datasets[name] = df.drop_duplicates()\n",
    "    print(f\"After dropping duplicates, {name} has shape: {datasets[name].shape}\")\n"
   ]
  },
  {
   "cell_type": "markdown",
   "metadata": {},
   "source": [
    "### *🛠️Handling missing values.* ###\n",
    "\n",
    "1. Detecting missing values.\n",
    "2. Handling missing values.\n",
    "   - filling missing values.\n",
    "   - Dropping missing values."
   ]
  },
  {
   "cell_type": "code",
   "execution_count": 192,
   "metadata": {},
   "outputs": [
    {
     "name": "stdout",
     "output_type": "stream",
     "text": [
      "Missing values in box_df:\n",
      "title                0\n",
      "studio               5\n",
      "domestic_gross      28\n",
      "foreign_gross     1350\n",
      "year                 0\n",
      "dtype: int64\n",
      "\n",
      "\n",
      "After dropping missing values, box_df has shape: (2007, 5)\n",
      "Missing values in movie_basics:\n",
      "movie_id               0\n",
      "primary_title          0\n",
      "original_title        21\n",
      "start_year             0\n",
      "runtime_minutes    31739\n",
      "genres              5408\n",
      "dtype: int64\n",
      "\n",
      "\n",
      "After dropping missing values, movie_basics has shape: (112232, 6)\n",
      "Missing values in movie_ratings:\n",
      "movie_id         0\n",
      "averagerating    0\n",
      "numvotes         0\n",
      "dtype: int64\n",
      "\n",
      "\n",
      "After dropping missing values, movie_ratings has shape: (73856, 3)\n",
      "Missing values in directors:\n",
      "movie_id     0\n",
      "person_id    0\n",
      "dtype: int64\n",
      "\n",
      "\n",
      "After dropping missing values, directors has shape: (163535, 2)\n",
      "Missing values in writers:\n",
      "movie_id     0\n",
      "person_id    0\n",
      "dtype: int64\n",
      "\n",
      "\n",
      "After dropping missing values, writers has shape: (178352, 2)\n",
      "Missing values in persons:\n",
      "person_id                  0\n",
      "primary_name               0\n",
      "birth_year            523912\n",
      "death_year            599865\n",
      "primary_profession     51340\n",
      "dtype: int64\n",
      "\n",
      "\n",
      "After dropping missing values, persons has shape: (5547, 5)\n"
     ]
    }
   ],
   "source": [
    "# handling missing values in the datasets.\n",
    "for name, df in datasets.items():\n",
    "    print(f\"Missing values in {name}:\")\n",
    "    print(df.isnull().sum())\n",
    "    print(\"\\n\")\n",
    "    # Drop rows with missing values\n",
    "    datasets[name] = df.dropna()\n",
    "    print(f\"After dropping missing values, {name} has shape: {datasets[name].shape}\")\n",
    "    "
   ]
  },
  {
   "cell_type": "code",
   "execution_count": 193,
   "metadata": {},
   "outputs": [],
   "source": [
    "# \n",
    "def filling_missing(df):\n",
    "    # Dropping duplicate rows\n",
    "    df = df.drop_duplicates()\n",
    "\n",
    "    # Dropping columns with more than 50% missing values\n",
    "    df = df.dropna(thresh=0.3 * len(df), axis=1)\n",
    "\n",
    "\n",
    "    # Filling missing values in numeric columns\n",
    "    for col in df.select_dtypes(include=['number']).columns:\n",
    "        if df[col].isna().sum() > 0:\n",
    "            skewness = df[col].skew()\n",
    "            fill_value = df[col].mean() if abs(skewness) < 0.5 else df[col].median()\n",
    "            df[col].fillna(fill_value, inplace=True)\n",
    "    \n",
    "    # Filling missing values in categorical columns\n",
    "    for col in df.select_dtypes(exclude=['number']).columns:\n",
    "        if df[col].isna().sum() > 0:\n",
    "            most_frequent = df[col].mode()[0] if not df[col].mode().empty else \"Unknown\"\n",
    "            df[col].fillna(most_frequent, inplace=True)\n",
    "\n",
    "    return df\n",
    "# Apply filling_missing function to all DataFrames\n",
    "\n",
    "box_df = filling_missing(box_df)\n",
    "movie_basics = filling_missing(movie_basics)\n",
    "movie_ratings = filling_missing(movie_ratings)\n",
    "directors = filling_missing(directors)\n",
    "writers = filling_missing(writers)\n",
    "persons = filling_missing(persons)\n",
    "\n",
    "# Convert gross columns to numeric\n",
    "box_df['domestic_gross'] = pd.to_numeric(box_df['domestic_gross'], errors='coerce')\n",
    "box_df['foreign_gross'] = pd.to_numeric(box_df['foreign_gross'], errors='coerce')\n"
   ]
  },
  {
   "cell_type": "code",
   "execution_count": 194,
   "metadata": {},
   "outputs": [
    {
     "name": "stdout",
     "output_type": "stream",
     "text": [
      "--- box_df ---\n",
      "Missing Values:\n",
      "title             0\n",
      "studio            0\n",
      "domestic_gross    0\n",
      "foreign_gross     0\n",
      "year              0\n",
      "dtype: int64\n",
      "\n",
      "Percentage of Missing Values:\n",
      "title             0.0\n",
      "studio            0.0\n",
      "domestic_gross    0.0\n",
      "foreign_gross     0.0\n",
      "year              0.0\n",
      "dtype: float64%\n",
      "\n",
      "Number of Duplicates: 0\n",
      "\n",
      "--- movie_basics ---\n",
      "Missing Values:\n",
      "movie_id           0\n",
      "primary_title      0\n",
      "original_title     0\n",
      "start_year         0\n",
      "runtime_minutes    0\n",
      "genres             0\n",
      "dtype: int64\n",
      "\n",
      "Percentage of Missing Values:\n",
      "movie_id           0.0\n",
      "primary_title      0.0\n",
      "original_title     0.0\n",
      "start_year         0.0\n",
      "runtime_minutes    0.0\n",
      "genres             0.0\n",
      "dtype: float64%\n",
      "\n",
      "Number of Duplicates: 0\n",
      "\n",
      "--- movie_ratings ---\n",
      "Missing Values:\n",
      "movie_id         0\n",
      "averagerating    0\n",
      "numvotes         0\n",
      "dtype: int64\n",
      "\n",
      "Percentage of Missing Values:\n",
      "movie_id         0.0\n",
      "averagerating    0.0\n",
      "numvotes         0.0\n",
      "dtype: float64%\n",
      "\n",
      "Number of Duplicates: 0\n",
      "\n",
      "--- directors ---\n",
      "Missing Values:\n",
      "movie_id     0\n",
      "person_id    0\n",
      "dtype: int64\n",
      "\n",
      "Percentage of Missing Values:\n",
      "movie_id     0.0\n",
      "person_id    0.0\n",
      "dtype: float64%\n",
      "\n",
      "Number of Duplicates: 0\n",
      "\n",
      "--- writers ---\n",
      "Missing Values:\n",
      "movie_id     0\n",
      "person_id    0\n",
      "dtype: int64\n",
      "\n",
      "Percentage of Missing Values:\n",
      "movie_id     0.0\n",
      "person_id    0.0\n",
      "dtype: float64%\n",
      "\n",
      "Number of Duplicates: 0\n",
      "\n",
      "--- persons ---\n",
      "Missing Values:\n",
      "person_id             0\n",
      "primary_name          0\n",
      "birth_year            0\n",
      "death_year            0\n",
      "primary_profession    0\n",
      "dtype: int64\n",
      "\n",
      "Percentage of Missing Values:\n",
      "person_id             0.0\n",
      "primary_name          0.0\n",
      "birth_year            0.0\n",
      "death_year            0.0\n",
      "primary_profession    0.0\n",
      "dtype: float64%\n",
      "\n",
      "Number of Duplicates: 0\n",
      "\n"
     ]
    }
   ],
   "source": [
    "# check for missing values and duplicates after cleaning\n",
    "def check_duplicates_missing(df, name):\n",
    "    print(f\"--- {name} ---\")\n",
    "    print(f\"Missing Values:\\n{df.isnull().sum()}\\n\")\n",
    "    print(f\"Percentage of Missing Values:\\n{(df.isnull().mean() * 100).round(2)}%\\n\")\n",
    "    print(f\"Number of Duplicates: {df.duplicated().sum()}\\n\")\n",
    "\n",
    "# Apply the function to all datasets\n",
    "for name, df in datasets.items():\n",
    "    check_duplicates_missing(df, name)"
   ]
  },
  {
   "cell_type": "markdown",
   "metadata": {},
   "source": [
    "### *Removing outliers* ###\n",
    "The IQR method identifies outliers by determining the spread of the middle 50% of the data. It calculates the first quartile (Q1) and third quartile (Q3) and defines outliers as data points that fall below Q1 - 1.5 * IQR or above Q3 + 1.5 * IQR."
   ]
  },
  {
   "cell_type": "code",
   "execution_count": 195,
   "metadata": {},
   "outputs": [],
   "source": [
    "# removing outliers from the dataset using IQR method.\n",
    "def remove_outliers(df, columns):\n",
    "    for col in columns:\n",
    "        if col in df.select_dtypes(include=['number']).columns:\n",
    "        # Calculating  Quartiles.\n",
    "            Q1 = df[col].quantile(0.25)\n",
    "            Q3 = df[col].quantile(0.75)\n",
    "            IQR = Q3 - Q1\n",
    "        # Determining Boundaries.\n",
    "            lower_bound = Q1 - 1.5 * IQR\n",
    "            upper_bound = Q3 + 1.5 * IQR\n",
    "            df = df[(df[col] >= lower_bound) & (df[col] <= upper_bound)]\n",
    "    return df\n",
    "\n",
    "movie_ratings = remove_outliers(movie_ratings, ['averagerating', 'numvotes'])\n",
    "box_df = remove_outliers(box_df, ['domestic_gross', 'foreign_gross'])\n",
    "movie_basics = remove_outliers(movie_basics, ['runtime_minutes'])\n",
    "movie_ratings = remove_outliers(movie_ratings, ['averagerating', 'numvotes'])\n"
   ]
  },
  {
   "cell_type": "markdown",
   "metadata": {},
   "source": [
    "### 🔗Merging Datasets ###\n",
    "\n",
    "Merging datasets allows you to combine information from different sources into a cohesive structure. "
   ]
  },
  {
   "cell_type": "code",
   "execution_count": 196,
   "metadata": {},
   "outputs": [
    {
     "name": "stdout",
     "output_type": "stream",
     "text": [
      "<class 'pandas.core.frame.DataFrame'>\n",
      "Int64Index: 2143 entries, 0 to 6277\n",
      "Data columns (total 15 columns):\n",
      " #   Column           Non-Null Count  Dtype  \n",
      "---  ------           --------------  -----  \n",
      " 0   title            2143 non-null   object \n",
      " 1   studio           2143 non-null   object \n",
      " 2   domestic_gross   2143 non-null   float64\n",
      " 3   foreign_gross    2143 non-null   float64\n",
      " 4   year             2143 non-null   int64  \n",
      " 5   movie_id         2143 non-null   object \n",
      " 6   primary_title    2143 non-null   object \n",
      " 7   original_title   2143 non-null   object \n",
      " 8   start_year       2143 non-null   object \n",
      " 9   runtime_minutes  2143 non-null   object \n",
      " 10  genres           2143 non-null   object \n",
      " 11  averagerating    2143 non-null   object \n",
      " 12  numvotes         2143 non-null   object \n",
      " 13  person_id_x      2143 non-null   object \n",
      " 14  person_id_y      2143 non-null   object \n",
      "dtypes: float64(2), int64(1), object(12)\n",
      "memory usage: 267.9+ KB\n"
     ]
    }
   ],
   "source": [
    "# Merge BOM DataFrame with Movie Basics DataFrame based on title and primary_title\n",
    "merged_df = pd.merge(box_df, movie_basics, left_on='title', right_on='primary_title', how='left')\n",
    "\n",
    "# merging with movie_ratings\n",
    "final_df = pd.merge(merged_df, movie_ratings, on='movie_id', how='left')\n",
    "\n",
    "# Merging with directors\n",
    "final_df = pd.merge(final_df, directors, on='movie_id', how='left')\n",
    "\n",
    "# Merging with writers\n",
    "final_df = pd.merge(final_df, writers, on='movie_id', how='left')\n",
    "\n",
    "# Drop duplicates\n",
    "final_df = final_df.drop_duplicates(subset=['movie_id'])\n",
    "\n",
    "# Fill missing values\n",
    "final_df.fillna('Unknown', inplace=True)\n",
    "# Final check\n",
    "final_df.info()\n",
    "\n"
   ]
  },
  {
   "cell_type": "code",
   "execution_count": 197,
   "metadata": {},
   "outputs": [],
   "source": [
    "# Create a new column for total_gross\n",
    "final_df['total_gross'] = final_df['domestic_gross'] + final_df['foreign_gross']"
   ]
  },
  {
   "cell_type": "code",
   "execution_count": 198,
   "metadata": {},
   "outputs": [
    {
     "data": {
      "application/vnd.microsoft.datawrangler.viewer.v0+json": {
       "columns": [
        {
         "name": "index",
         "rawType": "int64",
         "type": "integer"
        },
        {
         "name": "title",
         "rawType": "object",
         "type": "string"
        },
        {
         "name": "studio",
         "rawType": "object",
         "type": "string"
        },
        {
         "name": "domestic_gross",
         "rawType": "float64",
         "type": "float"
        },
        {
         "name": "foreign_gross",
         "rawType": "float64",
         "type": "float"
        },
        {
         "name": "year",
         "rawType": "int64",
         "type": "integer"
        },
        {
         "name": "movie_id",
         "rawType": "object",
         "type": "string"
        },
        {
         "name": "primary_title",
         "rawType": "object",
         "type": "string"
        },
        {
         "name": "original_title",
         "rawType": "object",
         "type": "string"
        },
        {
         "name": "start_year",
         "rawType": "object",
         "type": "string"
        },
        {
         "name": "runtime_minutes",
         "rawType": "object",
         "type": "string"
        },
        {
         "name": "genres",
         "rawType": "object",
         "type": "string"
        },
        {
         "name": "averagerating",
         "rawType": "object",
         "type": "string"
        },
        {
         "name": "numvotes",
         "rawType": "object",
         "type": "string"
        },
        {
         "name": "person_id_x",
         "rawType": "object",
         "type": "string"
        },
        {
         "name": "person_id_y",
         "rawType": "object",
         "type": "string"
        },
        {
         "name": "total_gross",
         "rawType": "float64",
         "type": "float"
        }
       ],
       "conversionMethod": "pd.DataFrame",
       "ref": "41bc5b6d-e516-49dd-a456-29c6bc32e4a6",
       "rows": [
        [
         "0",
         "Get Him to the Greek",
         "Uni.",
         "61000000.0",
         "30300000.0",
         "2010",
         "tt1226229",
         "Get Him to the Greek",
         "Get Him to the Greek",
         "2010.0",
         "109.0",
         "Adventure,Comedy,Music",
         "Unknown",
         "Unknown",
         "nm0831557",
         "nm0831557",
         "91300000.0"
        ],
        [
         "2",
         "The Last Song",
         "BV",
         "63000000.0",
         "26100000.0",
         "2010",
         "tt1294226",
         "The Last Song",
         "The Last Song",
         "2010.0",
         "107.0",
         "Drama,Music,Romance",
         "Unknown",
         "Unknown",
         "nm1455688",
         "nm0817023",
         "89100000.0"
        ],
        [
         "4",
         "Letters to Juliet",
         "Sum.",
         "53000000.0",
         "26100000.0",
         "2010",
         "tt0892318",
         "Letters to Juliet",
         "Letters to Juliet",
         "2010.0",
         "105.0",
         "Adventure,Comedy,Drama",
         "Unknown",
         "Unknown",
         "nm0935095",
         "nm1433580",
         "79100000.0"
        ],
        [
         "6",
         "Diary of a Wimpy Kid",
         "Fox",
         "64000000.0",
         "11700000.0",
         "2010",
         "tt1196141",
         "Diary of a Wimpy Kid",
         "Diary of a Wimpy Kid",
         "2010.0",
         "94.0",
         "Comedy,Drama,Family",
         "Unknown",
         "Unknown",
         "nm0294457",
         "nm0066851",
         "75700000.0"
        ],
        [
         "11",
         "Easy A",
         "SGem",
         "58400000.0",
         "16600000.0",
         "2010",
         "tt1282140",
         "Easy A",
         "Easy A",
         "2010.0",
         "92.0",
         "Comedy,Drama,Romance",
         "Unknown",
         "Unknown",
         "nm0323239",
         "nm1421629",
         "75000000.0"
        ]
       ],
       "shape": {
        "columns": 16,
        "rows": 5
       }
      },
      "text/html": [
       "<div>\n",
       "<style scoped>\n",
       "    .dataframe tbody tr th:only-of-type {\n",
       "        vertical-align: middle;\n",
       "    }\n",
       "\n",
       "    .dataframe tbody tr th {\n",
       "        vertical-align: top;\n",
       "    }\n",
       "\n",
       "    .dataframe thead th {\n",
       "        text-align: right;\n",
       "    }\n",
       "</style>\n",
       "<table border=\"1\" class=\"dataframe\">\n",
       "  <thead>\n",
       "    <tr style=\"text-align: right;\">\n",
       "      <th></th>\n",
       "      <th>title</th>\n",
       "      <th>studio</th>\n",
       "      <th>domestic_gross</th>\n",
       "      <th>foreign_gross</th>\n",
       "      <th>year</th>\n",
       "      <th>movie_id</th>\n",
       "      <th>primary_title</th>\n",
       "      <th>original_title</th>\n",
       "      <th>start_year</th>\n",
       "      <th>runtime_minutes</th>\n",
       "      <th>genres</th>\n",
       "      <th>averagerating</th>\n",
       "      <th>numvotes</th>\n",
       "      <th>person_id_x</th>\n",
       "      <th>person_id_y</th>\n",
       "      <th>total_gross</th>\n",
       "    </tr>\n",
       "  </thead>\n",
       "  <tbody>\n",
       "    <tr>\n",
       "      <th>0</th>\n",
       "      <td>Get Him to the Greek</td>\n",
       "      <td>Uni.</td>\n",
       "      <td>61000000.0</td>\n",
       "      <td>30300000.0</td>\n",
       "      <td>2010</td>\n",
       "      <td>tt1226229</td>\n",
       "      <td>Get Him to the Greek</td>\n",
       "      <td>Get Him to the Greek</td>\n",
       "      <td>2010</td>\n",
       "      <td>109</td>\n",
       "      <td>Adventure,Comedy,Music</td>\n",
       "      <td>Unknown</td>\n",
       "      <td>Unknown</td>\n",
       "      <td>nm0831557</td>\n",
       "      <td>nm0831557</td>\n",
       "      <td>91300000.0</td>\n",
       "    </tr>\n",
       "    <tr>\n",
       "      <th>2</th>\n",
       "      <td>The Last Song</td>\n",
       "      <td>BV</td>\n",
       "      <td>63000000.0</td>\n",
       "      <td>26100000.0</td>\n",
       "      <td>2010</td>\n",
       "      <td>tt1294226</td>\n",
       "      <td>The Last Song</td>\n",
       "      <td>The Last Song</td>\n",
       "      <td>2010</td>\n",
       "      <td>107</td>\n",
       "      <td>Drama,Music,Romance</td>\n",
       "      <td>Unknown</td>\n",
       "      <td>Unknown</td>\n",
       "      <td>nm1455688</td>\n",
       "      <td>nm0817023</td>\n",
       "      <td>89100000.0</td>\n",
       "    </tr>\n",
       "    <tr>\n",
       "      <th>4</th>\n",
       "      <td>Letters to Juliet</td>\n",
       "      <td>Sum.</td>\n",
       "      <td>53000000.0</td>\n",
       "      <td>26100000.0</td>\n",
       "      <td>2010</td>\n",
       "      <td>tt0892318</td>\n",
       "      <td>Letters to Juliet</td>\n",
       "      <td>Letters to Juliet</td>\n",
       "      <td>2010</td>\n",
       "      <td>105</td>\n",
       "      <td>Adventure,Comedy,Drama</td>\n",
       "      <td>Unknown</td>\n",
       "      <td>Unknown</td>\n",
       "      <td>nm0935095</td>\n",
       "      <td>nm1433580</td>\n",
       "      <td>79100000.0</td>\n",
       "    </tr>\n",
       "    <tr>\n",
       "      <th>6</th>\n",
       "      <td>Diary of a Wimpy Kid</td>\n",
       "      <td>Fox</td>\n",
       "      <td>64000000.0</td>\n",
       "      <td>11700000.0</td>\n",
       "      <td>2010</td>\n",
       "      <td>tt1196141</td>\n",
       "      <td>Diary of a Wimpy Kid</td>\n",
       "      <td>Diary of a Wimpy Kid</td>\n",
       "      <td>2010</td>\n",
       "      <td>94</td>\n",
       "      <td>Comedy,Drama,Family</td>\n",
       "      <td>Unknown</td>\n",
       "      <td>Unknown</td>\n",
       "      <td>nm0294457</td>\n",
       "      <td>nm0066851</td>\n",
       "      <td>75700000.0</td>\n",
       "    </tr>\n",
       "    <tr>\n",
       "      <th>11</th>\n",
       "      <td>Easy A</td>\n",
       "      <td>SGem</td>\n",
       "      <td>58400000.0</td>\n",
       "      <td>16600000.0</td>\n",
       "      <td>2010</td>\n",
       "      <td>tt1282140</td>\n",
       "      <td>Easy A</td>\n",
       "      <td>Easy A</td>\n",
       "      <td>2010</td>\n",
       "      <td>92</td>\n",
       "      <td>Comedy,Drama,Romance</td>\n",
       "      <td>Unknown</td>\n",
       "      <td>Unknown</td>\n",
       "      <td>nm0323239</td>\n",
       "      <td>nm1421629</td>\n",
       "      <td>75000000.0</td>\n",
       "    </tr>\n",
       "  </tbody>\n",
       "</table>\n",
       "</div>"
      ],
      "text/plain": [
       "                   title studio  domestic_gross  foreign_gross  year  \\\n",
       "0   Get Him to the Greek   Uni.      61000000.0     30300000.0  2010   \n",
       "2          The Last Song     BV      63000000.0     26100000.0  2010   \n",
       "4      Letters to Juliet   Sum.      53000000.0     26100000.0  2010   \n",
       "6   Diary of a Wimpy Kid    Fox      64000000.0     11700000.0  2010   \n",
       "11                Easy A   SGem      58400000.0     16600000.0  2010   \n",
       "\n",
       "     movie_id         primary_title        original_title start_year  \\\n",
       "0   tt1226229  Get Him to the Greek  Get Him to the Greek       2010   \n",
       "2   tt1294226         The Last Song         The Last Song       2010   \n",
       "4   tt0892318     Letters to Juliet     Letters to Juliet       2010   \n",
       "6   tt1196141  Diary of a Wimpy Kid  Diary of a Wimpy Kid       2010   \n",
       "11  tt1282140                Easy A                Easy A       2010   \n",
       "\n",
       "   runtime_minutes                  genres averagerating numvotes person_id_x  \\\n",
       "0              109  Adventure,Comedy,Music       Unknown  Unknown   nm0831557   \n",
       "2              107     Drama,Music,Romance       Unknown  Unknown   nm1455688   \n",
       "4              105  Adventure,Comedy,Drama       Unknown  Unknown   nm0935095   \n",
       "6               94     Comedy,Drama,Family       Unknown  Unknown   nm0294457   \n",
       "11              92    Comedy,Drama,Romance       Unknown  Unknown   nm0323239   \n",
       "\n",
       "   person_id_y  total_gross  \n",
       "0    nm0831557   91300000.0  \n",
       "2    nm0817023   89100000.0  \n",
       "4    nm1433580   79100000.0  \n",
       "6    nm0066851   75700000.0  \n",
       "11   nm1421629   75000000.0  "
      ]
     },
     "execution_count": 198,
     "metadata": {},
     "output_type": "execute_result"
    }
   ],
   "source": [
    "final_df.head()"
   ]
  },
  {
   "cell_type": "markdown",
   "metadata": {},
   "source": [
    "### Visualizations ###\n",
    "Data visualization is a pivotal aspect of data analysis, transforming complex datasets into comprehensible visual formats. By employing various graphical representations, analysts can uncover patterns, trends, and insights that might remain hidden in raw data.​\n",
    "\n"
   ]
  },
  {
   "cell_type": "code",
   "execution_count": 199,
   "metadata": {},
   "outputs": [
    {
     "name": "stdout",
     "output_type": "stream",
     "text": [
      "genres\n",
      "Drama                           308\n",
      "Documentary                     147\n",
      "Comedy,Drama                    111\n",
      "Comedy,Drama,Romance            100\n",
      "Drama,Romance                    85\n",
      "                               ... \n",
      "Biography,Comedy,Documentary      1\n",
      "Biography,Comedy                  1\n",
      "Animation,Family                  1\n",
      "Animation,Drama,Sci-Fi            1\n",
      "Western                           1\n",
      "Length: 290, dtype: int64\n"
     ]
    }
   ],
   "source": [
    "# Group movies by genres\n",
    "grouped_by_genres = final_df.groupby('genres')\n",
    "\n",
    "# Display the number of movies in each genre\n",
    "movies_per_genre = grouped_by_genres.size().sort_values(ascending=False)\n",
    "print(movies_per_genre)"
   ]
  },
  {
   "cell_type": "code",
   "execution_count": 220,
   "metadata": {},
   "outputs": [],
   "source": [
    "# the top 15 genres by total gross.\n",
    "grouped_by_genres = final_df.groupby('genres')['total_gross'].sum().sort_values(ascending=False)\n",
    "\n",
    "top_15_genres = grouped_by_genres.head(15)"
   ]
  },
  {
   "cell_type": "code",
   "execution_count": null,
   "metadata": {},
   "outputs": [
    {
     "data": {
      "image/png": "[encoded data removed]",
      "text/plain": [
       "<Figure size 1008x504 with 1 Axes>"
      ]
     },
     "metadata": {
      "needs_background": "light"
     },
     "output_type": "display_data"
    }
   ],
   "source": [
    "# Total gross against top 15 movie genres.\n",
    "plt.figure(figsize=(14, 7))\n",
    "plt.title('Total Gross against Movie Genres (Top 15)')\n",
    "sns.barplot(x=top_15_genres.index, y=top_15_genres.values, ci=None)\n",
    "plt.xlabel('Genres')\n",
    "plt.ylabel('Total Gross')\n",
    "plt.xticks(rotation=90)\n",
    "plt.show()"
   ]
  },
  {
   "cell_type": "markdown",
   "metadata": {},
   "source": []
  },
  {
   "cell_type": "code",
   "execution_count": null,
   "metadata": {},
   "outputs": [
    {
     "data": {
      "image/png": "[encoded data removed]",
      "text/plain": [
       "<Figure size 1008x504 with 1 Axes>"
      ]
     },
     "metadata": {
      "needs_background": "light"
     },
     "output_type": "display_data"
    }
   ],
   "source": [
    "# Total gross over years.\n",
    "plt.figure(figsize=(14, 7))\n",
    "sns.lineplot(data=final_df, x='year', y='total_gross', estimator='mean')\n",
    "plt.title('Total Gross Over Years')\n",
    "plt.xlabel('Year')\n",
    "plt.ylabel('total_gross')\n",
    "plt.xticks(rotation=0)\n",
    "plt.grid()\n",
    "plt.show()"
   ]
  },
  {
   "cell_type": "code",
   "execution_count": null,
   "metadata": {},
   "outputs": [],
   "source": [
    "# "
   ]
  }
 ],
 "metadata": {
  "kernelspec": {
   "display_name": "learn-env",
   "language": "python",
   "name": "python3"
  },
  "language_info": {
   "codemirror_mode": {
    "name": "ipython",
    "version": 3
   },
   "file_extension": ".py",
   "mimetype": "text/x-python",
   "name": "python",
   "nbconvert_exporter": "python",
   "pygments_lexer": "ipython3",
   "version": "3.8.5"
  }
 },
 "nbformat": 4,
 "nbformat_minor": 4
}
