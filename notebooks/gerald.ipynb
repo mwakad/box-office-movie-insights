{
 "cells": [
  {
   "cell_type": "markdown",
   "metadata": {},
   "source": [
    "Student Name: Gerald Wanjala\n",
    "Student Pace: DSF-FT12-Hybrid\n",
    "Instructor Name: Samuel Karu"
   ]
  },
  {
   "cell_type": "markdown",
   "metadata": {},
   "source": []
  },
  {
   "cell_type": "markdown",
   "metadata": {},
   "source": [
    "# Data Science Project: Analyzing Box Office Film Success\n",
    "\n",
    "##  Business Understanding\n",
    "\n",
    "### Objective\n",
    "To help a new movie studio make informed decisions about the types of movies to produce in order to maximize box office returns.\n",
    "\n",
    "### Business Problem\n",
    "The company needs insights into what characteristics contribute most to a film's box office success. By analyzing historical data on box office earnings and production budgets, we aim to identify patterns that can guide production and investment strategies.\n",
    "\n",
    "### Main Questions\n",
    "- Do higher production budgets result in higher box office returns?\n",
    "- Which genres or studios consistently generate high grossing films?\n",
    "- Is there a correlation between budget and return on investment (ROI)?\n",
    "\n",
    "### Hypothesis\n",
    "> Movies with higher production budgets tend to earn more at the box office and achieve a better ROI.\n"
   ]
  },
  {
   "cell_type": "markdown",
   "metadata": {},
   "source": [
    "##  Data Understanding\n",
    "\n",
    "We will use the following datasets:\n",
    "- `bom.movie_gross.csv.gz` — Domestic and foreign gross by movie and studio.\n",
    "- `tn.movie_budgets.csv.gz` — Production budgets and box office data by movie.\n"
   ]
  },
  {
   "cell_type": "code",
   "execution_count": 1,
   "metadata": {},
   "outputs": [
    {
     "name": "stdout",
     "output_type": "stream",
     "text": [
      "                                         title studio  domestic_gross  \\\n",
      "0                                  Toy Story 3     BV     415000000.0   \n",
      "1                   Alice in Wonderland (2010)     BV     334200000.0   \n",
      "2  Harry Potter and the Deathly Hallows Part 1     WB     296000000.0   \n",
      "3                                    Inception     WB     292600000.0   \n",
      "4                          Shrek Forever After   P/DW     238700000.0   \n",
      "\n",
      "  foreign_gross  year  \n",
      "0     652000000  2010  \n",
      "1     691300000  2010  \n",
      "2     664300000  2010  \n",
      "3     535700000  2010  \n",
      "4     513900000  2010  \n",
      "    movie_id                    primary_title              original_title  \\\n",
      "0  tt0063540                        Sunghursh                   Sunghursh   \n",
      "1  tt0066787  One Day Before the Rainy Season             Ashad Ka Ek Din   \n",
      "2  tt0069049       The Other Side of the Wind  The Other Side of the Wind   \n",
      "3  tt0069204                  Sabse Bada Sukh             Sabse Bada Sukh   \n",
      "4  tt0100275         The Wandering Soap Opera       La Telenovela Errante   \n",
      "\n",
      "   start_year  runtime_minutes                genres  \n",
      "0        2013            175.0    Action,Crime,Drama  \n",
      "1        2019            114.0       Biography,Drama  \n",
      "2        2018            122.0                 Drama  \n",
      "3        2018              NaN          Comedy,Drama  \n",
      "4        2017             80.0  Comedy,Drama,Fantasy  \n",
      "     movie_id  averagerating  numvotes\n",
      "0  tt10356526            8.3        31\n",
      "1  tt10384606            8.9       559\n",
      "2   tt1042974            6.4        20\n",
      "3   tt1043726            4.2     50352\n",
      "4   tt1060240            6.5        21\n"
     ]
    }
   ],
   "source": [
    "import pandas as pd\n",
    "import sqlite3\n",
    "\n",
    "# Load BOM dataset\n",
    "bom_df = pd.read_csv('../zipped-data/bom.movie_gross.csv.gz')\n",
    "print(bom_df.head())\n",
    "\n",
    "# Connect to IMDB SQLite database\n",
    "conn = sqlite3.connect('../zipped-data/im.db')\n",
    "\n",
    "# Load key tables\n",
    "movie_basics = pd.read_sql_query(\"SELECT * FROM movie_basics\", conn)\n",
    "movie_ratings = pd.read_sql_query(\"SELECT * FROM movie_ratings\", conn)\n",
    "directors = pd.read_sql_query(\"SELECT * FROM directors\", conn)\n",
    "writers = pd.read_sql_query(\"SELECT * FROM writers\", conn)\n",
    "persons = pd.read_sql_query(\"SELECT * FROM persons\", conn)\n",
    "\n",
    "# Preview basics\n",
    "print(movie_basics.head())\n",
    "print(movie_ratings.head())\n"
   ]
  }
 ],
 "metadata": {
  "kernelspec": {
   "display_name": "base",
   "language": "python",
   "name": "python3"
  },
  "language_info": {
   "codemirror_mode": {
    "name": "ipython",
    "version": 3
   },
   "file_extension": ".py",
   "mimetype": "text/x-python",
   "name": "python",
   "nbconvert_exporter": "python",
   "pygments_lexer": "ipython3",
   "version": "3.12.7"
  }
 },
 "nbformat": 4,
 "nbformat_minor": 4
}
