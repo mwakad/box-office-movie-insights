{
 "cells": [
  {
   "cell_type": "markdown",
   "metadata": {},
   "source": [
    "Student Name: Abdirahman Yussuf\n",
    "Student Pace: DSF-FT12-Hybrid\n",
    "Instructor Name: Samuel Karu"
   ]
  },
  {
   "cell_type": "markdown",
   "metadata": {},
   "source": [
    " Box Office Performance Analysis for New Movie Studio"
   ]
  },
  {
   "cell_type": "markdown",
   "metadata": {},
   "source": [
    "##  Business Problem\n",
    "The company needs insights into what characteristics contribute most to a film's box office success. By analyzing historical data on box office earnings and production budgets, we aim to identify patterns that can guide production and investment strategies.\n",
    "\n",
    "Main Questions\n",
    "Do higher production budgets result in higher box office returns?\n",
    "Which genres or studios consistently generate high grossing films?\n",
    "Is there a correlation between budget and return on investment (ROI)"
   ]
  },
  {
   "cell_type": "markdown",
   "metadata": {},
   "source": [
    "1. **Importing Libraries:**\n",
    "   - `pandas` is used for data manipulation and analysis.\n",
    "   - `sqlite3` is used to connect and query the SQLite database.\n",
    "\n",
    "2. **Loading the BOM Dataset:**\n",
    "   - The **Box Office Movie Gross dataset** is loaded from a compressed CSV file (`bom.movie_gross.csv.gz`) into a pandas DataFrame called `bom_df`.\n",
    "\n",
    "3. **Connecting to the IMDB Database:**\n",
    "   - A connection to the **IMDB SQLite database** (`im.db`) is established using `sqlite3.connect`.\n",
    "\n",
    "4. **Loading Key Tables from IMDB Database:**\n",
    "   - SQL queries are executed to load five important tables from the IMDB database:\n",
    "     - `movie_basics`: Contains basic movie information.\n",
    "     - `movie_ratings`: Contains the ratings for the movies.\n",
    "     - `directors`: Contains information about directors.\n",
    "     - `writers`: Contains information about writers.\n",
    "     - `persons`: Contains information about individuals involved in the movies.\n",
    "\n",
    "5. **Previewing Data:**\n",
    "   - The `movie_basics` table is previewed, which holds essential information about the movies.\n",
    "\n",
    "This code sets up the data for further analysis by combining Box Office performance with movie details from IMDB.\n"
   ]
  },
  {
   "cell_type": "code",
   "execution_count": 140,
   "metadata": {},
   "outputs": [],
   "source": [
    "import pandas as pd\n",
    "import sqlite3\n",
    "\n",
    "# Load BOM dataset\n",
    "bom_df = pd.read_csv('../zipped-data/bom.movie_gross.csv.gz')\n",
    "\n",
    "# Connect to IMDB SQLite database\n",
    "conn = sqlite3.connect('../zipped-data/im.db')\n",
    "\n",
    "# Load key tables\n",
    "movie_basics = pd.read_sql_query(\"SELECT * FROM movie_basics\", conn)\n",
    "movie_ratings = pd.read_sql_query(\"SELECT * FROM movie_ratings\", conn)\n",
    "directors = pd.read_sql_query(\"SELECT * FROM directors\", conn)\n",
    "writers = pd.read_sql_query(\"SELECT * FROM writers\", conn)\n",
    "persons = pd.read_sql_query(\"SELECT * FROM persons\", conn)\n",
    "\n",
    "# Preview basics"
   ]
  },
  {
   "cell_type": "code",
   "execution_count": 141,
   "metadata": {},
   "outputs": [],
   "source": [
    "# Merge BOM data with movie basics\n",
    "merged_df = pd.merge(bom_df, movie_basics, left_on='title', right_on='primary_title', how='left')\n",
    "\n",
    "# Merge with movie ratings\n",
    "merged_df = pd.merge(merged_df, movie_ratings, on='movie_id', how='left')\n",
    "\n",
    "# Merge directors with persons to get director names\n",
    "directors_full = pd.merge(directors, persons, on='person_id')\n",
    "\n",
    "# Merge director names into merged_df\n",
    "merged_df = pd.merge(merged_df, directors_full[['movie_id', 'primary_name']], on='movie_id', how='left')\n",
    "\n",
    "# Rename 'primary_name' to 'director_name'\n",
    "merged_df.rename(columns={'primary_name': 'director_name'}, inplace=True)\n"
   ]
  },
  {
   "cell_type": "markdown",
   "metadata": {},
   "source": [
    "### 🔗 Merging Datasets\n",
    "\n",
    "In this step, we combine multiple sources of information into one cohesive DataFrame:\n",
    "- Merge the Box Office Mojo data (`bom_df`) with IMDB movie basics (`movie_basics`) using the movie titles.\n",
    "- Merge the result with the movie ratings (`movie_ratings`) using the `movie_id`.\n",
    "- Merge the directors table with the persons table to get director names.\n",
    "- Merge the director names into the main merged DataFrame.\n",
    "- Rename the `primary_name` column to `director_name` for better clarity.\n",
    "\n",
    "This merging process allows us to have all important movie attributes — titles, genres, studios, grosses, ratings, and director names — in one unified dataset ready for analysis.\n"
   ]
  },
  {
   "cell_type": "code",
   "execution_count": 142,
   "metadata": {},
   "outputs": [
    {
     "name": "stdout",
     "output_type": "stream",
     "text": [
      "title                 0\n",
      "studio                7\n",
      "domestic_gross       64\n",
      "foreign_gross      3502\n",
      "year                  0\n",
      "movie_id            781\n",
      "primary_title       781\n",
      "original_title      781\n",
      "start_year          781\n",
      "runtime_minutes    1174\n",
      "genres              830\n",
      "averagerating      1272\n",
      "numvotes           1272\n",
      "director_name       828\n",
      "dtype: int64\n"
     ]
    }
   ],
   "source": [
    "# Check missing values\n",
    "print(merged_df.isnull().sum())\n"
   ]
  },
  {
   "cell_type": "code",
   "execution_count": 143,
   "metadata": {},
   "outputs": [],
   "source": [
    "#  Drop rows with missing values in the 'studio' column\n",
    "merged_df_clean.dropna(subset=['studio'], inplace=True)"
   ]
  },
  {
   "cell_type": "code",
   "execution_count": 144,
   "metadata": {},
   "outputs": [
    {
     "name": "stdout",
     "output_type": "stream",
     "text": [
      "\n",
      "Data types of each column:\n",
      "title               object\n",
      "studio              object\n",
      "domestic_gross     float64\n",
      "foreign_gross      float64\n",
      "year                 int64\n",
      "movie_id            object\n",
      "primary_title       object\n",
      "original_title      object\n",
      "start_year         float64\n",
      "runtime_minutes    float64\n",
      "genres              object\n",
      "averagerating      float64\n",
      "numvotes           float64\n",
      "director_name       object\n",
      "total_gross        float64\n",
      "dtype: object\n"
     ]
    }
   ],
   "source": [
    "# 3. Check data types of the DataFrame\n",
    "print(\"\\nData types of each column:\")\n",
    "print(merged_df_clean.dtypes)\n"
   ]
  },
  {
   "cell_type": "code",
   "execution_count": 145,
   "metadata": {},
   "outputs": [],
   "source": [
    "#  Convert `foreign_gross` from object to `float64`\n",
    "merged_df_clean['foreign_gross'] = pd.to_numeric(merged_df_clean['foreign_gross'], errors='coerce')\n"
   ]
  },
  {
   "cell_type": "code",
   "execution_count": 146,
   "metadata": {},
   "outputs": [
    {
     "name": "stdout",
     "output_type": "stream",
     "text": [
      "       domestic_gross  foreign_gross          year    start_year  \\\n",
      "count    1.363300e+04   1.353400e+04  13633.000000  13633.000000   \n",
      "mean     7.455630e+07   1.240939e+08   2013.744004   2013.747744   \n",
      "std      1.098932e+08   1.803438e+08      2.585205      2.572475   \n",
      "min      4.000000e+02   6.000000e+02   2010.000000   2010.000000   \n",
      "25%      3.000000e+06   8.000000e+06   2011.000000   2011.000000   \n",
      "50%      3.120000e+07   4.320000e+07   2014.000000   2014.000000   \n",
      "75%      9.480000e+07   1.622000e+08   2016.000000   2016.000000   \n",
      "max      7.001000e+08   9.464000e+08   2018.000000   2019.000000   \n",
      "\n",
      "       runtime_minutes  averagerating      numvotes   total_gross  \n",
      "count     13284.000000   13262.000000  1.326200e+04  1.353400e+04  \n",
      "mean        108.006850       6.482099  1.284903e+05  1.946047e+08  \n",
      "std          21.653504       1.035206  1.769527e+05  2.699962e+08  \n",
      "min           3.000000       1.600000  5.000000e+00  1.080000e+04  \n",
      "25%          94.000000       5.900000  1.171200e+04  1.743700e+07  \n",
      "50%         105.000000       6.600000  6.013900e+04  7.710000e+07  \n",
      "75%         119.000000       7.200000  1.613430e+05  2.438000e+08  \n",
      "max         623.000000       9.200000  1.841066e+06  1.405400e+09  \n"
     ]
    }
   ],
   "source": [
    "# Get descriptive statistics for numerical columns\n",
    "print(merged_df_clean.describe())\n"
   ]
  },
  {
   "cell_type": "code",
   "execution_count": 147,
   "metadata": {},
   "outputs": [
    {
     "data": {
      "text/plain": [
       "(5877, 14)"
      ]
     },
     "execution_count": 147,
     "metadata": {},
     "output_type": "execute_result"
    }
   ],
   "source": [
    "# Drop rows where important fields are missing\n",
    "merged_df_clean = merged_df.dropna(subset=['genres', 'studio', 'domestic_gross', 'foreign_gross', 'director_name'])\n",
    "\n",
    "# Check the shape after cleaning\n",
    "merged_df_clean.shape\n"
   ]
  },
  {
   "cell_type": "code",
   "execution_count": 148,
   "metadata": {},
   "outputs": [],
   "source": [
    "# Drop rows with missing values in the 'studio' column\n",
    "merged_df_clean = merged_df_clean.dropna(subset=['studio'])\n"
   ]
  },
  {
   "cell_type": "code",
   "execution_count": 149,
   "metadata": {},
   "outputs": [
    {
     "name": "stdout",
     "output_type": "stream",
     "text": [
      "title               object\n",
      "studio              object\n",
      "domestic_gross     float64\n",
      "foreign_gross       object\n",
      "year                 int64\n",
      "movie_id            object\n",
      "primary_title       object\n",
      "original_title      object\n",
      "start_year         float64\n",
      "runtime_minutes    float64\n",
      "genres              object\n",
      "averagerating      float64\n",
      "numvotes           float64\n",
      "director_name       object\n",
      "dtype: object\n"
     ]
    }
   ],
   "source": [
    "# Check data types\n",
    "print(merged_df_clean.dtypes)\n"
   ]
  },
  {
   "cell_type": "markdown",
   "metadata": {},
   "source": [
    "###  Cleaning the Merged Dataset\n",
    "\n",
    "After merging, we observed missing values in several critical columns.  \n",
    "For our analysis, we will drop rows that have missing values in the following key columns:\n",
    "- `genres`: Needed for genre-based analysis.\n",
    "- `studio`: Needed for studio-based insights.\n",
    "- `domestic_gross` and `foreign_gross`: Needed for grossing performance analysis.\n",
    "- `director_name`: Needed for director-based analysis.\n",
    "\n",
    "\n",
    "\n"
   ]
  },
  {
   "cell_type": "code",
   "execution_count": 150,
   "metadata": {},
   "outputs": [
    {
     "data": {
      "text/plain": [
       "33"
      ]
     },
     "execution_count": 150,
     "metadata": {},
     "output_type": "execute_result"
    }
   ],
   "source": [
    "# Make a deep copy of the dataframe to avoid working with a view\n",
    "merged_df_clean = merged_df_clean.copy()\n",
    "\n",
    "# Convert to numeric, forcing errors to NaN (if any string values are present)\n",
    "merged_df_clean.loc[:, 'domestic_gross'] = pd.to_numeric(merged_df_clean['domestic_gross'], errors='coerce')\n",
    "merged_df_clean.loc[:, 'foreign_gross'] = pd.to_numeric(merged_df_clean['foreign_gross'], errors='coerce')\n",
    "\n",
    "# Add a new column for total gross (domestic + foreign gross)\n",
    "merged_df_clean.loc[:, 'total_gross'] = merged_df_clean['domestic_gross'] + merged_df_clean['foreign_gross']\n",
    "\n",
    "# Check for any remaining NaNs in the 'total_gross' column\n",
    "merged_df_clean['total_gross'].isnull().sum()\n"
   ]
  },
  {
   "cell_type": "markdown",
   "metadata": {},
   "source": [
    "###  DataFrame Modifications and Calculation of Total Gross\n",
    "\n",
    "To ensure accurate calculations:\n",
    "1. We created a **deep copy** of the `merged_df_clean` DataFrame to work with an independent version of the data.\n",
    "2. We then converted the `domestic_gross` and `foreign_gross` columns to numeric values using `pd.to_numeric()`, coercing any errors to `NaN`.\n",
    "3. Finally, we calculated the `total_gross` by summing the `domestic_gross` and `foreign_gross` columns to create a new column.\n",
    "\n",
    "\n"
   ]
  },
  {
   "cell_type": "markdown",
   "metadata": {},
   "source": [
    "### Splitting and Analyzing Movie Genres Based on Total Gross\n",
    "\n",
    "In this step, we will focus on splitting the genres for each movie to handle cases where a movie belongs to multiple genres. We'll then perform an analysis to calculate the total gross revenue per genre and display the top genres based on their total gross earnings.\n",
    "\n",
    "1. **Splitting the 'genres' Column**: \n",
    "   - First, we split the `genres` column to account for multiple genres per movie. This is done by converting the genre values into a list of genres.\n",
    "After splitting the genres, we use the explode method to create a new row for each genre, ensuring that each genre is treated as a separate row for aggregation.\n",
    "\n",
    "Next, we calculate the total gross revenue for each genre by grouping the expanded data by the genres column and summing the total_gross for each genre.\n",
    "\n",
    "To identify the highest-grossing genres, we sort the genre_gross DataFrame in descending order by the total_gross column.\n",
    "\n",
    "Finally, we display the top genres with the highest total gross earnings.\n",
    "\n"
   ]
  },
  {
   "cell_type": "code",
   "execution_count": 151,
   "metadata": {},
   "outputs": [
    {
     "data": {
      "text/html": [
       "<div>\n",
       "<style scoped>\n",
       "    .dataframe tbody tr th:only-of-type {\n",
       "        vertical-align: middle;\n",
       "    }\n",
       "\n",
       "    .dataframe tbody tr th {\n",
       "        vertical-align: top;\n",
       "    }\n",
       "\n",
       "    .dataframe thead th {\n",
       "        text-align: right;\n",
       "    }\n",
       "</style>\n",
       "<table border=\"1\" class=\"dataframe\">\n",
       "  <thead>\n",
       "    <tr style=\"text-align: right;\">\n",
       "      <th></th>\n",
       "      <th>genres</th>\n",
       "      <th>total_gross</th>\n",
       "    </tr>\n",
       "  </thead>\n",
       "  <tbody>\n",
       "    <tr>\n",
       "      <th>1</th>\n",
       "      <td>Adventure</td>\n",
       "      <td>6.410406e+11</td>\n",
       "    </tr>\n",
       "    <tr>\n",
       "      <th>0</th>\n",
       "      <td>Action</td>\n",
       "      <td>4.421946e+11</td>\n",
       "    </tr>\n",
       "    <tr>\n",
       "      <th>4</th>\n",
       "      <td>Comedy</td>\n",
       "      <td>4.324368e+11</td>\n",
       "    </tr>\n",
       "    <tr>\n",
       "      <th>2</th>\n",
       "      <td>Animation</td>\n",
       "      <td>2.878683e+11</td>\n",
       "    </tr>\n",
       "    <tr>\n",
       "      <th>7</th>\n",
       "      <td>Drama</td>\n",
       "      <td>1.710801e+11</td>\n",
       "    </tr>\n",
       "  </tbody>\n",
       "</table>\n",
       "</div>"
      ],
      "text/plain": [
       "      genres   total_gross\n",
       "1  Adventure  6.410406e+11\n",
       "0     Action  4.421946e+11\n",
       "4     Comedy  4.324368e+11\n",
       "2  Animation  2.878683e+11\n",
       "7      Drama  1.710801e+11"
      ]
     },
     "execution_count": 151,
     "metadata": {},
     "output_type": "execute_result"
    }
   ],
   "source": [
    "# Split the 'genres' column in case there are multiple genres per movie\n",
    "merged_df_clean['genres'] = merged_df_clean['genres'].str.split(',')\n",
    "\n",
    "# Explode the genres list to have one genre per row\n",
    "genres_expanded = merged_df_clean.explode('genres')\n",
    "\n",
    "# Calculate total gross by genre\n",
    "genre_gross = genres_expanded.groupby('genres')['total_gross'].sum().reset_index()\n",
    "\n",
    "# Sort the genres by total gross in descending order\n",
    "genre_gross = genre_gross.sort_values(by='total_gross', ascending=False)\n",
    "\n",
    "# Display the top genres with the highest grossing films\n",
    "genre_gross.head()\n"
   ]
  },
  {
   "cell_type": "markdown",
   "metadata": {},
   "source": [
    "### Grouping Data by Studio and Calculating Total Gross Revenue\n",
    "\n",
    "In this section of the analysis, we perform the following steps:\n",
    "\n",
    "1. **Group the Data by Studio**: \n",
    "   We group the dataset by the `studio` column to calculate the total gross revenue for each studio. The `.groupby('studio')` function is used to group the data based on the studio name.\n",
    "\n",
    "2. **Calculate Total Gross Revenue**:\n",
    "   After grouping, the `.sum()` function is applied to the `total_gross` column for each group to compute the total gross revenue for each studio. This gives us the sum of the `total_gross` values for each unique studio.\n",
    "\n",
    "3. **Sort the Studios by Total Gross**:\n",
    "   The studios are sorted by their total gross revenue in descending order using the `.sort_values(by='total_gross', ascending=False)` method. This allows us to see which studios are generating the most revenue.\n",
    "\n",
    "4. **Preview the Result**:\n",
    "   The top studios by total gross revenue are displayed using the `head()` function to get a quick preview of the first few rows of the sorted data.\n",
    "\n",
    "This gives a clear picture of the performance of different movie studios based on their total gross earnings.\n"
   ]
  },
  {
   "cell_type": "code",
   "execution_count": 152,
   "metadata": {},
   "outputs": [
    {
     "name": "stdout",
     "output_type": "stream",
     "text": [
      "    studio   total_gross\n",
      "20      BV  2.830534e+11\n",
      "49     Fox  1.230827e+11\n",
      "138     WB  1.008841e+11\n",
      "130   Uni.  8.750416e+10\n",
      "120   Sony  8.116774e+10\n"
     ]
    }
   ],
   "source": [
    "# Group the data by studio and calculate the total gross revenue for each studio\n",
    "studio_gross = merged_df_clean.groupby('studio')['total_gross'].sum().reset_index()\n",
    "\n",
    "# Sort the studios by total gross in descending order\n",
    "studio_gross = studio_gross.sort_values(by='total_gross', ascending=False)\n",
    "\n",
    "# Preview the result\n",
    "print(studio_gross.head())\n"
   ]
  },
  {
   "cell_type": "markdown",
   "metadata": {},
   "source": [
    "### Grouping Data by Director and Calculating Total Gross Revenue\n",
    "\n",
    "In this step, the data is grouped by the `director_name` column to calculate the total gross revenue for each director. The process involves the following steps:\n",
    "\n",
    "1. **Group the Data by Director**:\n",
    "   The dataset is grouped by the `director_name` column using `.groupby('director_name')`. This operation ensures that all movies directed by the same director are considered together.\n",
    "\n",
    "2. **Calculate Total Gross Revenue**:\n",
    "   After grouping the data, the `.sum()` function is applied to the `total_gross` column. This calculates the total revenue for each director by summing the `total_gross` values of all their films.\n",
    "\n",
    "3. **Sort Directors by Total Gross**:\n",
    "   The resulting dataset is sorted by the total gross revenue in descending order with `.sort_values(by='total_gross', ascending=False)`. This enables us to identify the highest-grossing directors based on their collective movie earnings.\n",
    "\n",
    "4. **Preview the Result**:\n",
    "   The top directors with the highest total gross revenue are displayed by using the `head()` function, which shows the first few rows of the sorted data.\n",
    "\n",
    "This analysis provides insight into which directors have contributed the most to the box office through their collective film earnings.\n"
   ]
  },
  {
   "cell_type": "code",
   "execution_count": 153,
   "metadata": {},
   "outputs": [
    {
     "name": "stdout",
     "output_type": "stream",
     "text": [
      "      director_name   total_gross\n",
      "661      James Gunn  2.038350e+10\n",
      "1680    Zack Snyder  1.596680e+10\n",
      "1294     Rich Moore  1.572240e+10\n",
      "1232  Peter Jackson  1.467750e+10\n",
      "125   Anthony Russo  1.191990e+10\n"
     ]
    }
   ],
   "source": [
    "# Group the data by director and calculate the total gross revenue for each director\n",
    "director_gross = merged_df_clean.groupby('director_name')['total_gross'].sum().reset_index()\n",
    "\n",
    "# Sort the directors by total gross in descending order\n",
    "director_gross = director_gross.sort_values(by='total_gross', ascending=False)\n",
    "# Preview the result\n",
    "print(director_gross.head())\n"
   ]
  },
  {
   "cell_type": "markdown",
   "metadata": {},
   "source": [
    "### Correlation Between Domestic and Foreign Gross by Genre\n",
    "The output presents the correlation between domestic gross and foreign gross for different movie genres. The correlation values indicate the strength and direction of the relationship between these two variables:\n",
    "\n",
    "Action: 0.81 — A strong positive correlation, suggesting that as domestic gross increases, foreign gross tends to increase proportionally.\n",
    "\n",
    "Adventure: 0.85 — A very strong positive correlation, indicating a consistent relationship between domestic and foreign gross.\n",
    "\n",
    "Animation: 0.88 — The strongest positive correlation, showing a high degree of parallel growth in both domestic and foreign revenues.\n",
    "\n",
    "Biography: 0.60 — A moderate positive correlation, reflecting a less consistent relationship between domestic and foreign gross in this genre.\n",
    "\n",
    "Comedy: 0.87 — A strong positive correlation, similar to adventure and animation genres.\n",
    "\n",
    "These correlations help identify how revenue from domestic and foreign markets are related within each genre. Genres with higher correlations, such as Animation and Adventure, tend to experience similar trends in both markets, while genres like Biography show more variability."
   ]
  },
  {
   "cell_type": "code",
   "execution_count": 154,
   "metadata": {},
   "outputs": [
    {
     "name": "stdout",
     "output_type": "stream",
     "text": [
      "      genres  correlation\n",
      "0     Action     0.812644\n",
      "1  Adventure     0.851213\n",
      "2  Animation     0.877132\n",
      "3  Biography     0.597831\n",
      "4     Comedy     0.868475\n"
     ]
    }
   ],
   "source": [
    "# Ensure the columns are numeric\n",
    "merged_df_clean['domestic_gross'] = pd.to_numeric(merged_df_clean['domestic_gross'], errors='coerce')\n",
    "merged_df_clean['foreign_gross'] = pd.to_numeric(merged_df_clean['foreign_gross'], errors='coerce')\n",
    "\n",
    "# Check if 'genres' is in list format and explode if needed\n",
    "if isinstance(merged_df_clean['genres'].iloc[0], list):\n",
    "    merged_df_clean = merged_df_clean.explode('genres')\n",
    "\n",
    "# Group by genre and calculate the correlation between domestic and foreign gross\n",
    "genre_gross = merged_df_clean.groupby('genres').apply(\n",
    "    lambda x: x['domestic_gross'].corr(x['foreign_gross'])\n",
    ").reset_index(name='correlation')\n",
    "\n",
    "# Preview the correlation results\n",
    "print(genre_gross.head())\n"
   ]
  },
  {
   "cell_type": "markdown",
   "metadata": {},
   "source": [
    "## VISUALIZATION"
   ]
  },
  {
   "cell_type": "code",
   "execution_count": 156,
   "metadata": {},
   "outputs": [
    {
     "data": {
      "image/png": "[encoded data removed]",
      "text/plain": [
       "<Figure size 864x576 with 1 Axes>"
      ]
     },
     "metadata": {},
     "output_type": "display_data"
    }
   ],
   "source": [
    "# Set style for better visualization\n",
    "sns.set(style=\"whitegrid\")\n",
    "\n",
    "# Create a bar plot for studios and their total gross\n",
    "plt.figure(figsize=(12, 8))\n",
    "sns.barplot(x='studio', y='total_gross', data=studio_gross, palette='magma')\n",
    "\n",
    "# Adding titles and labels\n",
    "plt.title('Highest Grossing Movie Studios', fontsize=16)\n",
    "plt.xlabel('studios', fontsize=12)\n",
    "plt.ylabel('Total Gross Revenue(in Billions)', fontsize=12)\n",
    "\n",
    "# Display the plot\n",
    "plt.show()\n"
   ]
  },
  {
   "cell_type": "code",
   "execution_count": 157,
   "metadata": {},
   "outputs": [
    {
     "data": {
      "image/png": "[encoded data removed]",
      "text/plain": [
       "<Figure size 720x432 with 1 Axes>"
      ]
     },
     "metadata": {},
     "output_type": "display_data"
    }
   ],
   "source": [
    "# Create a bar plot for directors and their total gross revenue\n",
    "plt.figure(figsize=(10, 6))\n",
    "sns.barplot(x='total_gross', y='director_name', data=director_gross.head(10), palette='viridis')\n",
    "\n",
    "# Adding titles and labels\n",
    "plt.title('Top 10 Highest Grossing Movie Directors', fontsize=16)\n",
    "plt.xlabel('Total Gross Revenue (in Billions)', fontsize=12)\n",
    "plt.ylabel('Directors', fontsize=12)\n",
    "\n",
    "# Display the plot\n",
    "plt.show()"
   ]
  },
  {
   "cell_type": "code",
   "execution_count": 158,
   "metadata": {},
   "outputs": [
    {
     "data": {
      "image/png": "[encoded data removed]",
      "text/plain": [
       "<Figure size 720x432 with 1 Axes>"
      ]
     },
     "metadata": {},
     "output_type": "display_data"
    }
   ],
   "source": [
    "# Set the style for the plot\n",
    "sns.set(style=\"whitegrid\")\n",
    "\n",
    "# Create the bar plot\n",
    "plt.figure(figsize=(10, 6))\n",
    "sns.barplot(x='correlation', y='genres', data=genre_gross, palette='viridis')\n",
    "\n",
    "# Add titles and labels\n",
    "plt.title('Correlation Between Domestic and Foreign Gross by Genre', fontsize=16)\n",
    "plt.xlabel('Correlation', fontsize=12)\n",
    "plt.ylabel('Genres', fontsize=12)\n",
    "\n",
    "# Show the plot\n",
    "plt.show()\n"
   ]
  }
 ],
 "metadata": {
  "kernelspec": {
   "display_name": "learn-env",
   "language": "python",
   "name": "python3"
  },
  "language_info": {
   "codemirror_mode": {
    "name": "ipython",
    "version": 3
   },
   "file_extension": ".py",
   "mimetype": "text/x-python",
   "name": "python",
   "nbconvert_exporter": "python",
   "pygments_lexer": "ipython3",
   "version": "3.8.5"
  }
 },
 "nbformat": 4,
 "nbformat_minor": 4
}
