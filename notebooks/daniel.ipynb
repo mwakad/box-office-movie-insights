{
 "cells": [
  {
   "cell_type": "markdown",
   "metadata": {},
   "source": [
    "* Student Name: Daniel Mwaka\n",
    "* Student Pace: DSF-FT12-Hybrid\n",
    "* Instructor Name: Samuel Karu"
   ]
  },
  {
   "cell_type": "markdown",
   "metadata": {},
   "source": [
    "# Box Office Performance Analysis for New Movie Studio"
   ]
  },
  {
   "cell_type": "markdown",
   "metadata": {},
   "source": [
    "## Introduction "
   ]
  },
  {
   "cell_type": "markdown",
   "metadata": {},
   "source": [
    "The ever-increasing adoption and embracement of internet-hosted, media-sharing platforms exposes audiences to a diverse, highly-dense entertainment alternatives. This claim is justified by the rising number of companies entering the video streaming sector. Additionally, long-video content is increasingly facing stiff competition from social media and video-hosting platforms such as Youtube. Although venturing into the movie production sector is a potentially profitable portfolio diversification strategy; data-driven decision making is vital in orienting the company to conform with market trends and meet target audience expectations."
   ]
  },
  {
   "cell_type": "markdown",
   "metadata": {},
   "source": [
    "## Problem Statement"
   ]
  },
  {
   "cell_type": "markdown",
   "metadata": {},
   "source": [
    "The company plans to diversify its portfolio by launching a new division for movie production. Designing, implementing, sourcing talent, and operational expenses for running a new studio is a costly endevour. To ensure that the produces profitable movies, the company seeks data-driven insights to support appropriate corporate decisions."
   ]
  },
  {
   "cell_type": "markdown",
   "metadata": {},
   "source": [
    "## Objectives"
   ]
  },
  {
   "cell_type": "markdown",
   "metadata": {},
   "source": [
    "<strong> 1: </strong> To determine factors that have a statistically significant relationship to a movie's total grossing. \n",
    "\n",
    "<strong> 2: </strong> To determine which movie genres have the highest grossing films\n",
    "\n",
    "<strong> 3: </strong> To identify key potential competitors based on the cumulative grossing of a studio's movies."
   ]
  },
  {
   "cell_type": "markdown",
   "metadata": {},
   "source": [
    "## Data Understanding"
   ]
  },
  {
   "cell_type": "code",
   "execution_count": 1,
   "metadata": {},
   "outputs": [],
   "source": [
    "# Importing necessary libraries\n",
    "import pandas as pd\n",
    "import numpy as np\n",
    "import sqlite3\n",
    "import matplotlib.pyplot as plt\n",
    "import seaborn as sns\n",
    "from scipy import stats\n",
    "from scipy.stats import ttest_ind\n",
    "import statsmodels.api as sm\n",
    "from statsmodels.formula.api import ols\n",
    "import random\n",
    "%matplotlib inline\n"
   ]
  },
  {
   "cell_type": "markdown",
   "metadata": {},
   "source": [
    "* Loading and cleaning the bom.movie.movie_gross.csv dataset"
   ]
  },
  {
   "cell_type": "code",
   "execution_count": 2,
   "metadata": {},
   "outputs": [
    {
     "data": {
      "text/html": [
       "<div>\n",
       "<style scoped>\n",
       "    .dataframe tbody tr th:only-of-type {\n",
       "        vertical-align: middle;\n",
       "    }\n",
       "\n",
       "    .dataframe tbody tr th {\n",
       "        vertical-align: top;\n",
       "    }\n",
       "\n",
       "    .dataframe thead th {\n",
       "        text-align: right;\n",
       "    }\n",
       "</style>\n",
       "<table border=\"1\" class=\"dataframe\">\n",
       "  <thead>\n",
       "    <tr style=\"text-align: right;\">\n",
       "      <th></th>\n",
       "      <th>title</th>\n",
       "      <th>studio</th>\n",
       "      <th>domestic_gross</th>\n",
       "      <th>foreign_gross</th>\n",
       "      <th>year</th>\n",
       "    </tr>\n",
       "  </thead>\n",
       "  <tbody>\n",
       "    <tr>\n",
       "      <th>0</th>\n",
       "      <td>Toy Story 3</td>\n",
       "      <td>BV</td>\n",
       "      <td>415000000.0</td>\n",
       "      <td>652000000</td>\n",
       "      <td>2010</td>\n",
       "    </tr>\n",
       "    <tr>\n",
       "      <th>1</th>\n",
       "      <td>Alice in Wonderland (2010)</td>\n",
       "      <td>BV</td>\n",
       "      <td>334200000.0</td>\n",
       "      <td>691300000</td>\n",
       "      <td>2010</td>\n",
       "    </tr>\n",
       "    <tr>\n",
       "      <th>2</th>\n",
       "      <td>Harry Potter and the Deathly Hallows Part 1</td>\n",
       "      <td>WB</td>\n",
       "      <td>296000000.0</td>\n",
       "      <td>664300000</td>\n",
       "      <td>2010</td>\n",
       "    </tr>\n",
       "    <tr>\n",
       "      <th>3</th>\n",
       "      <td>Inception</td>\n",
       "      <td>WB</td>\n",
       "      <td>292600000.0</td>\n",
       "      <td>535700000</td>\n",
       "      <td>2010</td>\n",
       "    </tr>\n",
       "    <tr>\n",
       "      <th>4</th>\n",
       "      <td>Shrek Forever After</td>\n",
       "      <td>P/DW</td>\n",
       "      <td>238700000.0</td>\n",
       "      <td>513900000</td>\n",
       "      <td>2010</td>\n",
       "    </tr>\n",
       "  </tbody>\n",
       "</table>\n",
       "</div>"
      ],
      "text/plain": [
       "                                         title studio  domestic_gross  \\\n",
       "0                                  Toy Story 3     BV     415000000.0   \n",
       "1                   Alice in Wonderland (2010)     BV     334200000.0   \n",
       "2  Harry Potter and the Deathly Hallows Part 1     WB     296000000.0   \n",
       "3                                    Inception     WB     292600000.0   \n",
       "4                          Shrek Forever After   P/DW     238700000.0   \n",
       "\n",
       "  foreign_gross  year  \n",
       "0     652000000  2010  \n",
       "1     691300000  2010  \n",
       "2     664300000  2010  \n",
       "3     535700000  2010  \n",
       "4     513900000  2010  "
      ]
     },
     "execution_count": 2,
     "metadata": {},
     "output_type": "execute_result"
    }
   ],
   "source": [
    "# Load the data from the .csv file as a DataFrame and display first five rows\n",
    "movie_gross_data = pd.read_csv('../zipped-data/bom.movie_gross.csv')\n",
    "movie_gross_data.head()"
   ]
  },
  {
   "cell_type": "code",
   "execution_count": 3,
   "metadata": {},
   "outputs": [
    {
     "name": "stdout",
     "output_type": "stream",
     "text": [
      "DataFrame consists of 3387 rows\n",
      "DataFrame consists of 5 columns\n"
     ]
    }
   ],
   "source": [
    "# Check the DataFrame's shape\n",
    "movie_gross_data.shape\n",
    "print(f\"DataFrame consists of {movie_gross_data.shape[0]} rows\")\n",
    "print(f\"DataFrame consists of {movie_gross_data.shape[1]} columns\")"
   ]
  },
  {
   "cell_type": "code",
   "execution_count": 4,
   "metadata": {},
   "outputs": [
    {
     "name": "stdout",
     "output_type": "stream",
     "text": [
      "<class 'pandas.core.frame.DataFrame'>\n",
      "RangeIndex: 3387 entries, 0 to 3386\n",
      "Data columns (total 5 columns):\n",
      " #   Column          Non-Null Count  Dtype  \n",
      "---  ------          --------------  -----  \n",
      " 0   title           3387 non-null   object \n",
      " 1   studio          3382 non-null   object \n",
      " 2   domestic_gross  3359 non-null   float64\n",
      " 3   foreign_gross   2037 non-null   object \n",
      " 4   year            3387 non-null   int64  \n",
      "dtypes: float64(1), int64(1), object(3)\n",
      "memory usage: 132.4+ KB\n"
     ]
    }
   ],
   "source": [
    "# Check column attributes\n",
    "movie_gross_data.info()"
   ]
  },
  {
   "cell_type": "markdown",
   "metadata": {},
   "source": [
    "There are multiple rows entries with missing data values for the `studio`, `domestic_gross`, and `foreign_gross` columns.  "
   ]
  },
  {
   "cell_type": "code",
   "execution_count": 5,
   "metadata": {},
   "outputs": [],
   "source": [
    "# Create a copy of the data DataFrame to perform data cleaning\n",
    "gross_data = movie_gross_data.copy()"
   ]
  },
  {
   "cell_type": "code",
   "execution_count": 6,
   "metadata": {},
   "outputs": [
    {
     "data": {
      "text/plain": [
       "IFC      166\n",
       "Uni.     147\n",
       "WB       140\n",
       "Fox      136\n",
       "Magn.    136\n",
       "        ... \n",
       "ALP        1\n",
       "Zee        1\n",
       "AGF        1\n",
       "UHE        1\n",
       "CLF        1\n",
       "Name: studio, Length: 257, dtype: int64"
      ]
     },
     "execution_count": 6,
     "metadata": {},
     "output_type": "execute_result"
    }
   ],
   "source": [
    "# Check unique values for the `studio` column\n",
    "gross_data['studio'].value_counts()"
   ]
  },
  {
   "cell_type": "code",
   "execution_count": 7,
   "metadata": {},
   "outputs": [],
   "source": [
    "# Drop row entries with missing values for the 'studio' column\n",
    "gross_data = gross_data.dropna(subset=['studio'])"
   ]
  },
  {
   "cell_type": "code",
   "execution_count": 8,
   "metadata": {},
   "outputs": [
    {
     "data": {
      "text/plain": [
       "title              object\n",
       "studio             object\n",
       "domestic_gross    float64\n",
       "foreign_gross      object\n",
       "year                int64\n",
       "dtype: object"
      ]
     },
     "execution_count": 8,
     "metadata": {},
     "output_type": "execute_result"
    }
   ],
   "source": [
    "# Check data types of the DataFrame\n",
    "gross_data.dtypes\n"
   ]
  },
  {
   "cell_type": "code",
   "execution_count": 9,
   "metadata": {},
   "outputs": [],
   "source": [
    "# convert the foreign_gross from object to float64\n",
    "\n",
    "# Remove commas\n",
    "gross_data['foreign_gross'] = gross_data['foreign_gross'].astype(str).str.replace(',', '') \n",
    "\n",
    "# Convert to float datatype\n",
    "gross_data['foreign_gross'] = pd.to_numeric(gross_data['foreign_gross'], errors='coerce')  "
   ]
  },
  {
   "cell_type": "code",
   "execution_count": 10,
   "metadata": {},
   "outputs": [
    {
     "data": {
      "text/plain": [
       "title              object\n",
       "studio             object\n",
       "domestic_gross    float64\n",
       "foreign_gross     float64\n",
       "year                int64\n",
       "dtype: object"
      ]
     },
     "execution_count": 10,
     "metadata": {},
     "output_type": "execute_result"
    }
   ],
   "source": [
    "# Confirm the columns are in the appropriate datatype\n",
    "gross_data.dtypes"
   ]
  },
  {
   "cell_type": "code",
   "execution_count": 11,
   "metadata": {},
   "outputs": [
    {
     "name": "stdout",
     "output_type": "stream",
     "text": [
      "DataFrame consists of 3382 rows\n",
      "DataFrame consists of 5 columns\n"
     ]
    }
   ],
   "source": [
    "# Check shape \n",
    "gross_data.shape\n",
    "print(f\"DataFrame consists of {gross_data.shape[0]} rows\")\n",
    "print(f\"DataFrame consists of {gross_data.shape[1]} columns\")"
   ]
  },
  {
   "cell_type": "code",
   "execution_count": 12,
   "metadata": {},
   "outputs": [
    {
     "name": "stdout",
     "output_type": "stream",
     "text": [
      "<class 'pandas.core.frame.DataFrame'>\n",
      "Int64Index: 3382 entries, 0 to 3386\n",
      "Data columns (total 5 columns):\n",
      " #   Column          Non-Null Count  Dtype  \n",
      "---  ------          --------------  -----  \n",
      " 0   title           3382 non-null   object \n",
      " 1   studio          3382 non-null   object \n",
      " 2   domestic_gross  3356 non-null   float64\n",
      " 3   foreign_gross   2033 non-null   float64\n",
      " 4   year            3382 non-null   int64  \n",
      "dtypes: float64(2), int64(1), object(2)\n",
      "memory usage: 158.5+ KB\n"
     ]
    }
   ],
   "source": [
    "# Check column attributes\n",
    "gross_data.info()"
   ]
  },
  {
   "cell_type": "code",
   "execution_count": 13,
   "metadata": {},
   "outputs": [
    {
     "data": {
      "text/plain": [
       "count    3.356000e+03\n",
       "mean     2.877149e+07\n",
       "std      6.700694e+07\n",
       "min      1.000000e+02\n",
       "25%      1.200000e+05\n",
       "50%      1.400000e+06\n",
       "75%      2.795000e+07\n",
       "max      9.367000e+08\n",
       "Name: domestic_gross, dtype: float64"
      ]
     },
     "execution_count": 13,
     "metadata": {},
     "output_type": "execute_result"
    }
   ],
   "source": [
    "# Compute descriptive statistics for columns with numerical values\n",
    "gross_data['domestic_gross'].describe()"
   ]
  },
  {
   "cell_type": "code",
   "execution_count": 14,
   "metadata": {},
   "outputs": [
    {
     "data": {
      "text/plain": [
       "count    2.033000e+03\n",
       "mean     7.495490e+07\n",
       "std      1.375145e+08\n",
       "min      6.000000e+02\n",
       "25%      3.700000e+06\n",
       "50%      1.870000e+07\n",
       "75%      7.490000e+07\n",
       "max      9.605000e+08\n",
       "Name: foreign_gross, dtype: float64"
      ]
     },
     "execution_count": 14,
     "metadata": {},
     "output_type": "execute_result"
    }
   ],
   "source": [
    "# Compute descriptive statistics for columns with numerical values\n",
    "gross_data['foreign_gross'].describe()"
   ]
  },
  {
   "cell_type": "code",
   "execution_count": 15,
   "metadata": {},
   "outputs": [],
   "source": [
    "# Imputing the missing values with the respective median for each column is the most appropriate alternative.\n",
    "\n",
    "# Calculate the medians\n",
    "domestic_gross_median = gross_data['domestic_gross'].median()\n",
    "foreign_gross_median = gross_data['foreign_gross'].median()\n",
    "\n",
    "# Impute missing values with medians\n",
    "gross_data['domestic_gross'].fillna(domestic_gross_median, inplace=True)\n",
    "gross_data['foreign_gross'].fillna(foreign_gross_median, inplace=True)"
   ]
  },
  {
   "cell_type": "code",
   "execution_count": 16,
   "metadata": {},
   "outputs": [
    {
     "name": "stdout",
     "output_type": "stream",
     "text": [
      "DataFrame consists of 3382 rows\n",
      "DataFrame consists of 5 columns\n"
     ]
    }
   ],
   "source": [
    "# Check shape after cleaning\n",
    "gross_data.shape\n",
    "print(f\"DataFrame consists of {gross_data.shape[0]} rows\")\n",
    "print(f\"DataFrame consists of {gross_data.shape[1]} columns\")"
   ]
  },
  {
   "cell_type": "markdown",
   "metadata": {},
   "source": [
    "* Connecting the im.db dataset, loading and cleaning the `movie_basics` table."
   ]
  },
  {
   "cell_type": "code",
   "execution_count": 17,
   "metadata": {},
   "outputs": [],
   "source": [
    "# Create a connection to DataBase\n",
    "conn = sqlite3.connect('../zipped-data/im.db')"
   ]
  },
  {
   "cell_type": "code",
   "execution_count": 18,
   "metadata": {},
   "outputs": [
    {
     "data": {
      "text/html": [
       "<div>\n",
       "<style scoped>\n",
       "    .dataframe tbody tr th:only-of-type {\n",
       "        vertical-align: middle;\n",
       "    }\n",
       "\n",
       "    .dataframe tbody tr th {\n",
       "        vertical-align: top;\n",
       "    }\n",
       "\n",
       "    .dataframe thead th {\n",
       "        text-align: right;\n",
       "    }\n",
       "</style>\n",
       "<table border=\"1\" class=\"dataframe\">\n",
       "  <thead>\n",
       "    <tr style=\"text-align: right;\">\n",
       "      <th></th>\n",
       "      <th>movie_id</th>\n",
       "      <th>primary_title</th>\n",
       "      <th>original_title</th>\n",
       "      <th>start_year</th>\n",
       "      <th>runtime_minutes</th>\n",
       "      <th>genres</th>\n",
       "    </tr>\n",
       "  </thead>\n",
       "  <tbody>\n",
       "    <tr>\n",
       "      <th>0</th>\n",
       "      <td>tt0063540</td>\n",
       "      <td>Sunghursh</td>\n",
       "      <td>Sunghursh</td>\n",
       "      <td>2013</td>\n",
       "      <td>175.0</td>\n",
       "      <td>Action,Crime,Drama</td>\n",
       "    </tr>\n",
       "    <tr>\n",
       "      <th>1</th>\n",
       "      <td>tt0066787</td>\n",
       "      <td>One Day Before the Rainy Season</td>\n",
       "      <td>Ashad Ka Ek Din</td>\n",
       "      <td>2019</td>\n",
       "      <td>114.0</td>\n",
       "      <td>Biography,Drama</td>\n",
       "    </tr>\n",
       "    <tr>\n",
       "      <th>2</th>\n",
       "      <td>tt0069049</td>\n",
       "      <td>The Other Side of the Wind</td>\n",
       "      <td>The Other Side of the Wind</td>\n",
       "      <td>2018</td>\n",
       "      <td>122.0</td>\n",
       "      <td>Drama</td>\n",
       "    </tr>\n",
       "    <tr>\n",
       "      <th>3</th>\n",
       "      <td>tt0069204</td>\n",
       "      <td>Sabse Bada Sukh</td>\n",
       "      <td>Sabse Bada Sukh</td>\n",
       "      <td>2018</td>\n",
       "      <td>NaN</td>\n",
       "      <td>Comedy,Drama</td>\n",
       "    </tr>\n",
       "    <tr>\n",
       "      <th>4</th>\n",
       "      <td>tt0100275</td>\n",
       "      <td>The Wandering Soap Opera</td>\n",
       "      <td>La Telenovela Errante</td>\n",
       "      <td>2017</td>\n",
       "      <td>80.0</td>\n",
       "      <td>Comedy,Drama,Fantasy</td>\n",
       "    </tr>\n",
       "  </tbody>\n",
       "</table>\n",
       "</div>"
      ],
      "text/plain": [
       "    movie_id                    primary_title              original_title  \\\n",
       "0  tt0063540                        Sunghursh                   Sunghursh   \n",
       "1  tt0066787  One Day Before the Rainy Season             Ashad Ka Ek Din   \n",
       "2  tt0069049       The Other Side of the Wind  The Other Side of the Wind   \n",
       "3  tt0069204                  Sabse Bada Sukh             Sabse Bada Sukh   \n",
       "4  tt0100275         The Wandering Soap Opera       La Telenovela Errante   \n",
       "\n",
       "   start_year  runtime_minutes                genres  \n",
       "0        2013            175.0    Action,Crime,Drama  \n",
       "1        2019            114.0       Biography,Drama  \n",
       "2        2018            122.0                 Drama  \n",
       "3        2018              NaN          Comedy,Drama  \n",
       "4        2017             80.0  Comedy,Drama,Fantasy  "
      ]
     },
     "execution_count": 18,
     "metadata": {},
     "output_type": "execute_result"
    }
   ],
   "source": [
    "# Load data from the movie_basics table\n",
    "imdb_basics = pd.read_sql(\"SELECT * FROM movie_basics\", conn)\n",
    "imdb_basics.head()"
   ]
  },
  {
   "cell_type": "code",
   "execution_count": 19,
   "metadata": {},
   "outputs": [
    {
     "name": "stdout",
     "output_type": "stream",
     "text": [
      "DataFrame consists of 146144 rows\n",
      "DataFrame consists of 6 columns\n"
     ]
    }
   ],
   "source": [
    "imdb_basics.shape\n",
    "print(f\"DataFrame consists of {imdb_basics.shape[0]} rows\")\n",
    "print(f\"DataFrame consists of {imdb_basics.shape[1]} columns\")"
   ]
  },
  {
   "cell_type": "code",
   "execution_count": 20,
   "metadata": {},
   "outputs": [
    {
     "name": "stdout",
     "output_type": "stream",
     "text": [
      "<class 'pandas.core.frame.DataFrame'>\n",
      "RangeIndex: 146144 entries, 0 to 146143\n",
      "Data columns (total 6 columns):\n",
      " #   Column           Non-Null Count   Dtype  \n",
      "---  ------           --------------   -----  \n",
      " 0   movie_id         146144 non-null  object \n",
      " 1   primary_title    146144 non-null  object \n",
      " 2   original_title   146123 non-null  object \n",
      " 3   start_year       146144 non-null  int64  \n",
      " 4   runtime_minutes  114405 non-null  float64\n",
      " 5   genres           140736 non-null  object \n",
      "dtypes: float64(1), int64(1), object(4)\n",
      "memory usage: 6.7+ MB\n"
     ]
    }
   ],
   "source": [
    "imdb_basics.info()"
   ]
  },
  {
   "cell_type": "code",
   "execution_count": 21,
   "metadata": {},
   "outputs": [],
   "source": [
    "# Create a copy of the data DataFrame to perform data cleaning\n",
    "imdb_basics_cleaned = imdb_basics.copy()"
   ]
  },
  {
   "cell_type": "markdown",
   "metadata": {},
   "source": [
    "Dropping the `original_title` since they are redundant to the `primary_title` and for entries they are not; they are the translated version of movie titles from English to other languages. "
   ]
  },
  {
   "cell_type": "code",
   "execution_count": 22,
   "metadata": {},
   "outputs": [],
   "source": [
    "imdb_basics_cleaned = imdb_basics_cleaned.drop(columns=['original_title']) "
   ]
  },
  {
   "cell_type": "code",
   "execution_count": 23,
   "metadata": {},
   "outputs": [],
   "source": [
    "# Drop row entries with missing values for the primary_title, genres, and runtime_minutes columns\n",
    "imdb_basics_cleaned = imdb_basics_cleaned.dropna(subset=['primary_title'])\n",
    "imdb_basics_cleaned = imdb_basics_cleaned.dropna(subset=['genres'])\n",
    "imdb_basics_cleaned = imdb_basics_cleaned.dropna(subset=['runtime_minutes'])"
   ]
  },
  {
   "cell_type": "code",
   "execution_count": 24,
   "metadata": {},
   "outputs": [
    {
     "data": {
      "text/html": [
       "<div>\n",
       "<style scoped>\n",
       "    .dataframe tbody tr th:only-of-type {\n",
       "        vertical-align: middle;\n",
       "    }\n",
       "\n",
       "    .dataframe tbody tr th {\n",
       "        vertical-align: top;\n",
       "    }\n",
       "\n",
       "    .dataframe thead th {\n",
       "        text-align: right;\n",
       "    }\n",
       "</style>\n",
       "<table border=\"1\" class=\"dataframe\">\n",
       "  <thead>\n",
       "    <tr style=\"text-align: right;\">\n",
       "      <th></th>\n",
       "      <th>start_year</th>\n",
       "      <th>runtime_minutes</th>\n",
       "    </tr>\n",
       "  </thead>\n",
       "  <tbody>\n",
       "    <tr>\n",
       "      <th>count</th>\n",
       "      <td>112233.000000</td>\n",
       "      <td>112233.000000</td>\n",
       "    </tr>\n",
       "    <tr>\n",
       "      <th>mean</th>\n",
       "      <td>2014.402101</td>\n",
       "      <td>86.261902</td>\n",
       "    </tr>\n",
       "    <tr>\n",
       "      <th>std</th>\n",
       "      <td>2.639042</td>\n",
       "      <td>167.895938</td>\n",
       "    </tr>\n",
       "    <tr>\n",
       "      <th>min</th>\n",
       "      <td>2010.000000</td>\n",
       "      <td>1.000000</td>\n",
       "    </tr>\n",
       "    <tr>\n",
       "      <th>25%</th>\n",
       "      <td>2012.000000</td>\n",
       "      <td>70.000000</td>\n",
       "    </tr>\n",
       "    <tr>\n",
       "      <th>50%</th>\n",
       "      <td>2014.000000</td>\n",
       "      <td>87.000000</td>\n",
       "    </tr>\n",
       "    <tr>\n",
       "      <th>75%</th>\n",
       "      <td>2017.000000</td>\n",
       "      <td>99.000000</td>\n",
       "    </tr>\n",
       "    <tr>\n",
       "      <th>max</th>\n",
       "      <td>2022.000000</td>\n",
       "      <td>51420.000000</td>\n",
       "    </tr>\n",
       "  </tbody>\n",
       "</table>\n",
       "</div>"
      ],
      "text/plain": [
       "          start_year  runtime_minutes\n",
       "count  112233.000000    112233.000000\n",
       "mean     2014.402101        86.261902\n",
       "std         2.639042       167.895938\n",
       "min      2010.000000         1.000000\n",
       "25%      2012.000000        70.000000\n",
       "50%      2014.000000        87.000000\n",
       "75%      2017.000000        99.000000\n",
       "max      2022.000000     51420.000000"
      ]
     },
     "execution_count": 24,
     "metadata": {},
     "output_type": "execute_result"
    }
   ],
   "source": [
    "# Compute descriptive statistics for the runtime_minutes column\n",
    "imdb_basics_cleaned.describe()"
   ]
  },
  {
   "cell_type": "markdown",
   "metadata": {},
   "source": [
    "Movies typically never exceed three hours. So the 51420 runtime_minute entry alludes the possiblity of outliers in the dataset."
   ]
  },
  {
   "cell_type": "code",
   "execution_count": 25,
   "metadata": {},
   "outputs": [],
   "source": [
    "# Drop all entries with a runtime exceeding three hours by 20 minutes or more\n",
    "imdb_basics_cleaned = imdb_basics_cleaned[imdb_basics_cleaned['runtime_minutes'] <= 200]"
   ]
  },
  {
   "cell_type": "code",
   "execution_count": 26,
   "metadata": {},
   "outputs": [
    {
     "name": "stdout",
     "output_type": "stream",
     "text": [
      "DataFrame consists of 111867 rows\n",
      "DataFrame consists of 5 columns\n"
     ]
    }
   ],
   "source": [
    "# Check shape after cleaning\n",
    "imdb_basics_cleaned.shape\n",
    "print(f\"DataFrame consists of {imdb_basics_cleaned.shape[0]} rows\")\n",
    "print(f\"DataFrame consists of {imdb_basics_cleaned.shape[1]} columns\")"
   ]
  },
  {
   "cell_type": "markdown",
   "metadata": {},
   "source": [
    "* Loading and cleaning the movie_ratings table"
   ]
  },
  {
   "cell_type": "code",
   "execution_count": 27,
   "metadata": {},
   "outputs": [
    {
     "data": {
      "text/html": [
       "<div>\n",
       "<style scoped>\n",
       "    .dataframe tbody tr th:only-of-type {\n",
       "        vertical-align: middle;\n",
       "    }\n",
       "\n",
       "    .dataframe tbody tr th {\n",
       "        vertical-align: top;\n",
       "    }\n",
       "\n",
       "    .dataframe thead th {\n",
       "        text-align: right;\n",
       "    }\n",
       "</style>\n",
       "<table border=\"1\" class=\"dataframe\">\n",
       "  <thead>\n",
       "    <tr style=\"text-align: right;\">\n",
       "      <th></th>\n",
       "      <th>movie_id</th>\n",
       "      <th>averagerating</th>\n",
       "      <th>numvotes</th>\n",
       "    </tr>\n",
       "  </thead>\n",
       "  <tbody>\n",
       "    <tr>\n",
       "      <th>0</th>\n",
       "      <td>tt10356526</td>\n",
       "      <td>8.3</td>\n",
       "      <td>31</td>\n",
       "    </tr>\n",
       "    <tr>\n",
       "      <th>1</th>\n",
       "      <td>tt10384606</td>\n",
       "      <td>8.9</td>\n",
       "      <td>559</td>\n",
       "    </tr>\n",
       "    <tr>\n",
       "      <th>2</th>\n",
       "      <td>tt1042974</td>\n",
       "      <td>6.4</td>\n",
       "      <td>20</td>\n",
       "    </tr>\n",
       "    <tr>\n",
       "      <th>3</th>\n",
       "      <td>tt1043726</td>\n",
       "      <td>4.2</td>\n",
       "      <td>50352</td>\n",
       "    </tr>\n",
       "    <tr>\n",
       "      <th>4</th>\n",
       "      <td>tt1060240</td>\n",
       "      <td>6.5</td>\n",
       "      <td>21</td>\n",
       "    </tr>\n",
       "  </tbody>\n",
       "</table>\n",
       "</div>"
      ],
      "text/plain": [
       "     movie_id  averagerating  numvotes\n",
       "0  tt10356526            8.3        31\n",
       "1  tt10384606            8.9       559\n",
       "2   tt1042974            6.4        20\n",
       "3   tt1043726            4.2     50352\n",
       "4   tt1060240            6.5        21"
      ]
     },
     "execution_count": 27,
     "metadata": {},
     "output_type": "execute_result"
    }
   ],
   "source": [
    "# Load data from the movie_ratings table\n",
    "imdb_ratings = pd.read_sql(\"SELECT * FROM movie_ratings\", conn)\n",
    "imdb_ratings.head()"
   ]
  },
  {
   "cell_type": "code",
   "execution_count": 28,
   "metadata": {},
   "outputs": [
    {
     "name": "stdout",
     "output_type": "stream",
     "text": [
      "DataFrame consists of 73856 rows\n",
      "DataFrame consists of 3 columns\n"
     ]
    }
   ],
   "source": [
    "imdb_ratings.shape\n",
    "print(f\"DataFrame consists of {imdb_ratings.shape[0]} rows\")\n",
    "print(f\"DataFrame consists of {imdb_ratings.shape[1]} columns\")"
   ]
  },
  {
   "cell_type": "code",
   "execution_count": 29,
   "metadata": {},
   "outputs": [
    {
     "name": "stdout",
     "output_type": "stream",
     "text": [
      "<class 'pandas.core.frame.DataFrame'>\n",
      "RangeIndex: 73856 entries, 0 to 73855\n",
      "Data columns (total 3 columns):\n",
      " #   Column         Non-Null Count  Dtype  \n",
      "---  ------         --------------  -----  \n",
      " 0   movie_id       73856 non-null  object \n",
      " 1   averagerating  73856 non-null  float64\n",
      " 2   numvotes       73856 non-null  int64  \n",
      "dtypes: float64(1), int64(1), object(1)\n",
      "memory usage: 1.7+ MB\n"
     ]
    }
   ],
   "source": [
    "# Check column attributes\n",
    "imdb_ratings.info()"
   ]
  },
  {
   "cell_type": "code",
   "execution_count": 30,
   "metadata": {},
   "outputs": [
    {
     "data": {
      "text/plain": [
       "movie_id         0\n",
       "averagerating    0\n",
       "numvotes         0\n",
       "dtype: int64"
      ]
     },
     "execution_count": 30,
     "metadata": {},
     "output_type": "execute_result"
    }
   ],
   "source": [
    "# print the count of missing values \n",
    "imdb_ratings.isna().sum()"
   ]
  },
  {
   "cell_type": "code",
   "execution_count": 31,
   "metadata": {},
   "outputs": [
    {
     "data": {
      "text/plain": [
       "0"
      ]
     },
     "execution_count": 31,
     "metadata": {},
     "output_type": "execute_result"
    }
   ],
   "source": [
    "# checking for duplicates\n",
    "imdb_ratings.duplicated().sum()"
   ]
  },
  {
   "cell_type": "markdown",
   "metadata": {},
   "source": [
    "The imdb_ratings Dataframe neither has missing values nor duplicates and does not require data cleaning."
   ]
  },
  {
   "cell_type": "markdown",
   "metadata": {},
   "source": [
    "### Merging the three DataFrames"
   ]
  },
  {
   "cell_type": "markdown",
   "metadata": {},
   "source": [
    "Perform an inner join on the imdb_basics_cleaned and the imdb_ratings DataFrames. An inner join returns only the rows with matching keys (movie_id) in both DataFrames. The left join is inappropriate since it would lead to NaNs for row entries of the right DataFrame (imdb_ratings) that don't have a matching movie_id key. "
   ]
  },
  {
   "cell_type": "code",
   "execution_count": 32,
   "metadata": {},
   "outputs": [
    {
     "name": "stdout",
     "output_type": "stream",
     "text": [
      "Inner Join:\n"
     ]
    },
    {
     "data": {
      "text/html": [
       "<div>\n",
       "<style scoped>\n",
       "    .dataframe tbody tr th:only-of-type {\n",
       "        vertical-align: middle;\n",
       "    }\n",
       "\n",
       "    .dataframe tbody tr th {\n",
       "        vertical-align: top;\n",
       "    }\n",
       "\n",
       "    .dataframe thead th {\n",
       "        text-align: right;\n",
       "    }\n",
       "</style>\n",
       "<table border=\"1\" class=\"dataframe\">\n",
       "  <thead>\n",
       "    <tr style=\"text-align: right;\">\n",
       "      <th></th>\n",
       "      <th>movie_id</th>\n",
       "      <th>primary_title</th>\n",
       "      <th>start_year</th>\n",
       "      <th>runtime_minutes</th>\n",
       "      <th>genres</th>\n",
       "      <th>averagerating</th>\n",
       "      <th>numvotes</th>\n",
       "    </tr>\n",
       "  </thead>\n",
       "  <tbody>\n",
       "    <tr>\n",
       "      <th>0</th>\n",
       "      <td>tt0063540</td>\n",
       "      <td>Sunghursh</td>\n",
       "      <td>2013</td>\n",
       "      <td>175.0</td>\n",
       "      <td>Action,Crime,Drama</td>\n",
       "      <td>7.0</td>\n",
       "      <td>77</td>\n",
       "    </tr>\n",
       "    <tr>\n",
       "      <th>1</th>\n",
       "      <td>tt0066787</td>\n",
       "      <td>One Day Before the Rainy Season</td>\n",
       "      <td>2019</td>\n",
       "      <td>114.0</td>\n",
       "      <td>Biography,Drama</td>\n",
       "      <td>7.2</td>\n",
       "      <td>43</td>\n",
       "    </tr>\n",
       "    <tr>\n",
       "      <th>2</th>\n",
       "      <td>tt0069049</td>\n",
       "      <td>The Other Side of the Wind</td>\n",
       "      <td>2018</td>\n",
       "      <td>122.0</td>\n",
       "      <td>Drama</td>\n",
       "      <td>6.9</td>\n",
       "      <td>4517</td>\n",
       "    </tr>\n",
       "    <tr>\n",
       "      <th>3</th>\n",
       "      <td>tt0100275</td>\n",
       "      <td>The Wandering Soap Opera</td>\n",
       "      <td>2017</td>\n",
       "      <td>80.0</td>\n",
       "      <td>Comedy,Drama,Fantasy</td>\n",
       "      <td>6.5</td>\n",
       "      <td>119</td>\n",
       "    </tr>\n",
       "    <tr>\n",
       "      <th>4</th>\n",
       "      <td>tt0137204</td>\n",
       "      <td>Joe Finds Grace</td>\n",
       "      <td>2017</td>\n",
       "      <td>83.0</td>\n",
       "      <td>Adventure,Animation,Comedy</td>\n",
       "      <td>8.1</td>\n",
       "      <td>263</td>\n",
       "    </tr>\n",
       "  </tbody>\n",
       "</table>\n",
       "</div>"
      ],
      "text/plain": [
       "    movie_id                    primary_title  start_year  runtime_minutes  \\\n",
       "0  tt0063540                        Sunghursh        2013            175.0   \n",
       "1  tt0066787  One Day Before the Rainy Season        2019            114.0   \n",
       "2  tt0069049       The Other Side of the Wind        2018            122.0   \n",
       "3  tt0100275         The Wandering Soap Opera        2017             80.0   \n",
       "4  tt0137204                  Joe Finds Grace        2017             83.0   \n",
       "\n",
       "                       genres  averagerating  numvotes  \n",
       "0          Action,Crime,Drama            7.0        77  \n",
       "1             Biography,Drama            7.2        43  \n",
       "2                       Drama            6.9      4517  \n",
       "3        Comedy,Drama,Fantasy            6.5       119  \n",
       "4  Adventure,Animation,Comedy            8.1       263  "
      ]
     },
     "execution_count": 32,
     "metadata": {},
     "output_type": "execute_result"
    }
   ],
   "source": [
    "# Inner Join\n",
    "imdb_dataset = pd.merge(imdb_basics_cleaned, imdb_ratings, on='movie_id', how='inner')\n",
    "print(\"Inner Join:\")\n",
    "imdb_dataset.head()"
   ]
  },
  {
   "cell_type": "code",
   "execution_count": 33,
   "metadata": {},
   "outputs": [
    {
     "data": {
      "text/plain": [
       "(65563, 7)"
      ]
     },
     "execution_count": 33,
     "metadata": {},
     "output_type": "execute_result"
    }
   ],
   "source": [
    "imdb_dataset.shape"
   ]
  },
  {
   "cell_type": "markdown",
   "metadata": {},
   "source": [
    "Modify the name of the `primary_title` column name to `title` to become a matching key in both the imdb_dataset and gross_data DataFrames. Creating a matching key allows for the merging of the DataFrames via an inner join. "
   ]
  },
  {
   "cell_type": "code",
   "execution_count": 34,
   "metadata": {},
   "outputs": [],
   "source": [
    "# Modifying the name of the column name primary_title to title\n",
    "imdb_dataset = imdb_dataset.rename(columns={'primary_title': 'title'})"
   ]
  },
  {
   "cell_type": "code",
   "execution_count": 35,
   "metadata": {},
   "outputs": [
    {
     "name": "stdout",
     "output_type": "stream",
     "text": [
      "<class 'pandas.core.frame.DataFrame'>\n",
      "Int64Index: 65563 entries, 0 to 65562\n",
      "Data columns (total 7 columns):\n",
      " #   Column           Non-Null Count  Dtype  \n",
      "---  ------           --------------  -----  \n",
      " 0   movie_id         65563 non-null  object \n",
      " 1   title            65563 non-null  object \n",
      " 2   start_year       65563 non-null  int64  \n",
      " 3   runtime_minutes  65563 non-null  float64\n",
      " 4   genres           65563 non-null  object \n",
      " 5   averagerating    65563 non-null  float64\n",
      " 6   numvotes         65563 non-null  int64  \n",
      "dtypes: float64(2), int64(2), object(3)\n",
      "memory usage: 4.0+ MB\n"
     ]
    }
   ],
   "source": [
    "# Check columns\n",
    "imdb_dataset.info()"
   ]
  },
  {
   "cell_type": "code",
   "execution_count": 36,
   "metadata": {},
   "outputs": [
    {
     "name": "stdout",
     "output_type": "stream",
     "text": [
      "Inner Join:\n"
     ]
    },
    {
     "data": {
      "text/html": [
       "<div>\n",
       "<style scoped>\n",
       "    .dataframe tbody tr th:only-of-type {\n",
       "        vertical-align: middle;\n",
       "    }\n",
       "\n",
       "    .dataframe tbody tr th {\n",
       "        vertical-align: top;\n",
       "    }\n",
       "\n",
       "    .dataframe thead th {\n",
       "        text-align: right;\n",
       "    }\n",
       "</style>\n",
       "<table border=\"1\" class=\"dataframe\">\n",
       "  <thead>\n",
       "    <tr style=\"text-align: right;\">\n",
       "      <th></th>\n",
       "      <th>movie_id</th>\n",
       "      <th>title</th>\n",
       "      <th>start_year</th>\n",
       "      <th>runtime_minutes</th>\n",
       "      <th>genres</th>\n",
       "      <th>averagerating</th>\n",
       "      <th>numvotes</th>\n",
       "      <th>studio</th>\n",
       "      <th>domestic_gross</th>\n",
       "      <th>foreign_gross</th>\n",
       "      <th>year</th>\n",
       "    </tr>\n",
       "  </thead>\n",
       "  <tbody>\n",
       "    <tr>\n",
       "      <th>0</th>\n",
       "      <td>tt0315642</td>\n",
       "      <td>Wazir</td>\n",
       "      <td>2016</td>\n",
       "      <td>103.0</td>\n",
       "      <td>Action,Crime,Drama</td>\n",
       "      <td>7.1</td>\n",
       "      <td>15378</td>\n",
       "      <td>Relbig.</td>\n",
       "      <td>1100000.0</td>\n",
       "      <td>18700000.0</td>\n",
       "      <td>2016</td>\n",
       "    </tr>\n",
       "    <tr>\n",
       "      <th>1</th>\n",
       "      <td>tt0337692</td>\n",
       "      <td>On the Road</td>\n",
       "      <td>2012</td>\n",
       "      <td>124.0</td>\n",
       "      <td>Adventure,Drama,Romance</td>\n",
       "      <td>6.1</td>\n",
       "      <td>37886</td>\n",
       "      <td>IFC</td>\n",
       "      <td>744000.0</td>\n",
       "      <td>8000000.0</td>\n",
       "      <td>2012</td>\n",
       "    </tr>\n",
       "    <tr>\n",
       "      <th>2</th>\n",
       "      <td>tt4339118</td>\n",
       "      <td>On the Road</td>\n",
       "      <td>2014</td>\n",
       "      <td>89.0</td>\n",
       "      <td>Drama</td>\n",
       "      <td>6.0</td>\n",
       "      <td>6</td>\n",
       "      <td>IFC</td>\n",
       "      <td>744000.0</td>\n",
       "      <td>8000000.0</td>\n",
       "      <td>2012</td>\n",
       "    </tr>\n",
       "    <tr>\n",
       "      <th>3</th>\n",
       "      <td>tt5647250</td>\n",
       "      <td>On the Road</td>\n",
       "      <td>2016</td>\n",
       "      <td>121.0</td>\n",
       "      <td>Drama</td>\n",
       "      <td>5.7</td>\n",
       "      <td>127</td>\n",
       "      <td>IFC</td>\n",
       "      <td>744000.0</td>\n",
       "      <td>8000000.0</td>\n",
       "      <td>2012</td>\n",
       "    </tr>\n",
       "    <tr>\n",
       "      <th>4</th>\n",
       "      <td>tt0359950</td>\n",
       "      <td>The Secret Life of Walter Mitty</td>\n",
       "      <td>2013</td>\n",
       "      <td>114.0</td>\n",
       "      <td>Adventure,Comedy,Drama</td>\n",
       "      <td>7.3</td>\n",
       "      <td>275300</td>\n",
       "      <td>Fox</td>\n",
       "      <td>58200000.0</td>\n",
       "      <td>129900000.0</td>\n",
       "      <td>2013</td>\n",
       "    </tr>\n",
       "    <tr>\n",
       "      <th>5</th>\n",
       "      <td>tt0365907</td>\n",
       "      <td>A Walk Among the Tombstones</td>\n",
       "      <td>2014</td>\n",
       "      <td>114.0</td>\n",
       "      <td>Action,Crime,Drama</td>\n",
       "      <td>6.5</td>\n",
       "      <td>105116</td>\n",
       "      <td>Uni.</td>\n",
       "      <td>26300000.0</td>\n",
       "      <td>26900000.0</td>\n",
       "      <td>2014</td>\n",
       "    </tr>\n",
       "    <tr>\n",
       "      <th>6</th>\n",
       "      <td>tt0369610</td>\n",
       "      <td>Jurassic World</td>\n",
       "      <td>2015</td>\n",
       "      <td>124.0</td>\n",
       "      <td>Action,Adventure,Sci-Fi</td>\n",
       "      <td>7.0</td>\n",
       "      <td>539338</td>\n",
       "      <td>Uni.</td>\n",
       "      <td>652300000.0</td>\n",
       "      <td>1019.4</td>\n",
       "      <td>2015</td>\n",
       "    </tr>\n",
       "    <tr>\n",
       "      <th>7</th>\n",
       "      <td>tt0372538</td>\n",
       "      <td>Spy</td>\n",
       "      <td>2011</td>\n",
       "      <td>110.0</td>\n",
       "      <td>Action,Crime,Drama</td>\n",
       "      <td>6.6</td>\n",
       "      <td>78</td>\n",
       "      <td>Fox</td>\n",
       "      <td>110800000.0</td>\n",
       "      <td>124800000.0</td>\n",
       "      <td>2015</td>\n",
       "    </tr>\n",
       "    <tr>\n",
       "      <th>8</th>\n",
       "      <td>tt3079380</td>\n",
       "      <td>Spy</td>\n",
       "      <td>2015</td>\n",
       "      <td>119.0</td>\n",
       "      <td>Action,Comedy,Crime</td>\n",
       "      <td>7.0</td>\n",
       "      <td>213908</td>\n",
       "      <td>Fox</td>\n",
       "      <td>110800000.0</td>\n",
       "      <td>124800000.0</td>\n",
       "      <td>2015</td>\n",
       "    </tr>\n",
       "    <tr>\n",
       "      <th>9</th>\n",
       "      <td>tt0376136</td>\n",
       "      <td>The Rum Diary</td>\n",
       "      <td>2011</td>\n",
       "      <td>119.0</td>\n",
       "      <td>Comedy,Drama</td>\n",
       "      <td>6.2</td>\n",
       "      <td>94787</td>\n",
       "      <td>FD</td>\n",
       "      <td>13100000.0</td>\n",
       "      <td>10800000.0</td>\n",
       "      <td>2011</td>\n",
       "    </tr>\n",
       "  </tbody>\n",
       "</table>\n",
       "</div>"
      ],
      "text/plain": [
       "    movie_id                            title  start_year  runtime_minutes  \\\n",
       "0  tt0315642                            Wazir        2016            103.0   \n",
       "1  tt0337692                      On the Road        2012            124.0   \n",
       "2  tt4339118                      On the Road        2014             89.0   \n",
       "3  tt5647250                      On the Road        2016            121.0   \n",
       "4  tt0359950  The Secret Life of Walter Mitty        2013            114.0   \n",
       "5  tt0365907      A Walk Among the Tombstones        2014            114.0   \n",
       "6  tt0369610                   Jurassic World        2015            124.0   \n",
       "7  tt0372538                              Spy        2011            110.0   \n",
       "8  tt3079380                              Spy        2015            119.0   \n",
       "9  tt0376136                    The Rum Diary        2011            119.0   \n",
       "\n",
       "                    genres  averagerating  numvotes   studio  domestic_gross  \\\n",
       "0       Action,Crime,Drama            7.1     15378  Relbig.       1100000.0   \n",
       "1  Adventure,Drama,Romance            6.1     37886      IFC        744000.0   \n",
       "2                    Drama            6.0         6      IFC        744000.0   \n",
       "3                    Drama            5.7       127      IFC        744000.0   \n",
       "4   Adventure,Comedy,Drama            7.3    275300      Fox      58200000.0   \n",
       "5       Action,Crime,Drama            6.5    105116     Uni.      26300000.0   \n",
       "6  Action,Adventure,Sci-Fi            7.0    539338     Uni.     652300000.0   \n",
       "7       Action,Crime,Drama            6.6        78      Fox     110800000.0   \n",
       "8      Action,Comedy,Crime            7.0    213908      Fox     110800000.0   \n",
       "9             Comedy,Drama            6.2     94787       FD      13100000.0   \n",
       "\n",
       "   foreign_gross  year  \n",
       "0     18700000.0  2016  \n",
       "1      8000000.0  2012  \n",
       "2      8000000.0  2012  \n",
       "3      8000000.0  2012  \n",
       "4    129900000.0  2013  \n",
       "5     26900000.0  2014  \n",
       "6         1019.4  2015  \n",
       "7    124800000.0  2015  \n",
       "8    124800000.0  2015  \n",
       "9     10800000.0  2011  "
      ]
     },
     "execution_count": 36,
     "metadata": {},
     "output_type": "execute_result"
    }
   ],
   "source": [
    "# Using an inner join to merge \n",
    "df = pd.merge(imdb_dataset, gross_data, on='title', how='inner')\n",
    "print(\"Inner Join:\")\n",
    "df.head(10)"
   ]
  },
  {
   "cell_type": "code",
   "execution_count": 37,
   "metadata": {},
   "outputs": [
    {
     "data": {
      "text/plain": [
       "(2971, 11)"
      ]
     },
     "execution_count": 37,
     "metadata": {},
     "output_type": "execute_result"
    }
   ],
   "source": [
    "# Create a copy of the df DataFrame and check shape\n",
    "df_clean = df.copy()\n",
    "df_clean.shape"
   ]
  },
  {
   "cell_type": "markdown",
   "metadata": {},
   "source": [
    "Define a function to check and drop duplicate entries based on a movie's `title`, `studio`, `domestic_gross`, `foreign_gross`, and `year`"
   ]
  },
  {
   "cell_type": "code",
   "execution_count": 38,
   "metadata": {},
   "outputs": [
    {
     "data": {
      "text/html": [
       "<div>\n",
       "<style scoped>\n",
       "    .dataframe tbody tr th:only-of-type {\n",
       "        vertical-align: middle;\n",
       "    }\n",
       "\n",
       "    .dataframe tbody tr th {\n",
       "        vertical-align: top;\n",
       "    }\n",
       "\n",
       "    .dataframe thead th {\n",
       "        text-align: right;\n",
       "    }\n",
       "</style>\n",
       "<table border=\"1\" class=\"dataframe\">\n",
       "  <thead>\n",
       "    <tr style=\"text-align: right;\">\n",
       "      <th></th>\n",
       "      <th>movie_id</th>\n",
       "      <th>title</th>\n",
       "      <th>start_year</th>\n",
       "      <th>runtime_minutes</th>\n",
       "      <th>genres</th>\n",
       "      <th>averagerating</th>\n",
       "      <th>numvotes</th>\n",
       "      <th>studio</th>\n",
       "      <th>domestic_gross</th>\n",
       "      <th>foreign_gross</th>\n",
       "      <th>year</th>\n",
       "    </tr>\n",
       "  </thead>\n",
       "  <tbody>\n",
       "    <tr>\n",
       "      <th>0</th>\n",
       "      <td>tt0315642</td>\n",
       "      <td>Wazir</td>\n",
       "      <td>2016</td>\n",
       "      <td>103.0</td>\n",
       "      <td>Action,Crime,Drama</td>\n",
       "      <td>7.1</td>\n",
       "      <td>15378</td>\n",
       "      <td>Relbig.</td>\n",
       "      <td>1100000.0</td>\n",
       "      <td>18700000.0</td>\n",
       "      <td>2016</td>\n",
       "    </tr>\n",
       "    <tr>\n",
       "      <th>1</th>\n",
       "      <td>tt0337692</td>\n",
       "      <td>On the Road</td>\n",
       "      <td>2012</td>\n",
       "      <td>124.0</td>\n",
       "      <td>Adventure,Drama,Romance</td>\n",
       "      <td>6.1</td>\n",
       "      <td>37886</td>\n",
       "      <td>IFC</td>\n",
       "      <td>744000.0</td>\n",
       "      <td>8000000.0</td>\n",
       "      <td>2012</td>\n",
       "    </tr>\n",
       "    <tr>\n",
       "      <th>4</th>\n",
       "      <td>tt0359950</td>\n",
       "      <td>The Secret Life of Walter Mitty</td>\n",
       "      <td>2013</td>\n",
       "      <td>114.0</td>\n",
       "      <td>Adventure,Comedy,Drama</td>\n",
       "      <td>7.3</td>\n",
       "      <td>275300</td>\n",
       "      <td>Fox</td>\n",
       "      <td>58200000.0</td>\n",
       "      <td>129900000.0</td>\n",
       "      <td>2013</td>\n",
       "    </tr>\n",
       "    <tr>\n",
       "      <th>5</th>\n",
       "      <td>tt0365907</td>\n",
       "      <td>A Walk Among the Tombstones</td>\n",
       "      <td>2014</td>\n",
       "      <td>114.0</td>\n",
       "      <td>Action,Crime,Drama</td>\n",
       "      <td>6.5</td>\n",
       "      <td>105116</td>\n",
       "      <td>Uni.</td>\n",
       "      <td>26300000.0</td>\n",
       "      <td>26900000.0</td>\n",
       "      <td>2014</td>\n",
       "    </tr>\n",
       "    <tr>\n",
       "      <th>6</th>\n",
       "      <td>tt0369610</td>\n",
       "      <td>Jurassic World</td>\n",
       "      <td>2015</td>\n",
       "      <td>124.0</td>\n",
       "      <td>Action,Adventure,Sci-Fi</td>\n",
       "      <td>7.0</td>\n",
       "      <td>539338</td>\n",
       "      <td>Uni.</td>\n",
       "      <td>652300000.0</td>\n",
       "      <td>1019.4</td>\n",
       "      <td>2015</td>\n",
       "    </tr>\n",
       "  </tbody>\n",
       "</table>\n",
       "</div>"
      ],
      "text/plain": [
       "    movie_id                            title  start_year  runtime_minutes  \\\n",
       "0  tt0315642                            Wazir        2016            103.0   \n",
       "1  tt0337692                      On the Road        2012            124.0   \n",
       "4  tt0359950  The Secret Life of Walter Mitty        2013            114.0   \n",
       "5  tt0365907      A Walk Among the Tombstones        2014            114.0   \n",
       "6  tt0369610                   Jurassic World        2015            124.0   \n",
       "\n",
       "                    genres  averagerating  numvotes   studio  domestic_gross  \\\n",
       "0       Action,Crime,Drama            7.1     15378  Relbig.       1100000.0   \n",
       "1  Adventure,Drama,Romance            6.1     37886      IFC        744000.0   \n",
       "4   Adventure,Comedy,Drama            7.3    275300      Fox      58200000.0   \n",
       "5       Action,Crime,Drama            6.5    105116     Uni.      26300000.0   \n",
       "6  Action,Adventure,Sci-Fi            7.0    539338     Uni.     652300000.0   \n",
       "\n",
       "   foreign_gross  year  \n",
       "0     18700000.0  2016  \n",
       "1      8000000.0  2012  \n",
       "4    129900000.0  2013  \n",
       "5     26900000.0  2014  \n",
       "6         1019.4  2015  "
      ]
     },
     "execution_count": 38,
     "metadata": {},
     "output_type": "execute_result"
    }
   ],
   "source": [
    "def drop_duplicate_entries(df):\n",
    "    \"\"\"\n",
    "    Define function to drop duplicate entries based on:\n",
    "    - Marching title\n",
    "    - Produced by studio\n",
    "    - Same domestic_gross\n",
    "    - Same foreign_gross\n",
    "    - Produced same year\n",
    "    \"\"\"\n",
    "    columns_to_check = ['title', 'studio', 'domestic_gross', 'foreign_gross', 'year']\n",
    "    duplicate_removed = df.drop_duplicates(subset=columns_to_check, keep='first')\n",
    "    return duplicate_removed\n",
    "\n",
    "# Call the drop_duplicate function and pass in df_clean as the argument\n",
    "df_clean = drop_duplicate_entries(df_clean)\n",
    "df_clean.head()"
   ]
  },
  {
   "cell_type": "code",
   "execution_count": 39,
   "metadata": {},
   "outputs": [],
   "source": [
    "# Create a new column for total_grossing\n",
    "df_clean['total_grossing'] = df_clean['domestic_gross'] + df_clean['foreign_gross']"
   ]
  },
  {
   "cell_type": "code",
   "execution_count": null,
   "metadata": {},
   "outputs": [],
   "source": [
    "# # Function to extract the first genre from the string\n",
    "\n",
    "# def extract_first_genre(genre_str):\n",
    "#     if isinstance(genre_str, str):  # Check if it's a string\n",
    "#         return genre_str.split(',')[0].strip()\n",
    "#     else:\n",
    "#         return np.nan  # Or some other appropriate missing value representation\n",
    "\n",
    "# df_clean['genres'] = df_clean['genres'].apply(extract_first_genre)"
   ]
  },
  {
   "cell_type": "code",
   "execution_count": 40,
   "metadata": {},
   "outputs": [],
   "source": [
    "# Function to randomly select a genre from the string value for example (Action, Crime, Drama)\n",
    "# Randomly selecting one genre from the string mitigates selection bias \n",
    "\n",
    "def extract_random_genre(genre_str):\n",
    "    if isinstance(genre_str, str):  # Check if it's a string\n",
    "        genres = [genre.strip() for genre in genre_str.split(',')]\n",
    "        if genres:\n",
    "            return random.choice(genres)\n",
    "        else:\n",
    "            return np.nan  # Return NaN if the list of genres is empty\n",
    "    else:\n",
    "        return np.nan  # Or some other appropriate missing value representation\n",
    "\n",
    "df_clean['genres'] = df_clean['genres'].apply(extract_random_genre)"
   ]
  },
  {
   "cell_type": "code",
   "execution_count": 41,
   "metadata": {},
   "outputs": [
    {
     "data": {
      "text/html": [
       "<div>\n",
       "<style scoped>\n",
       "    .dataframe tbody tr th:only-of-type {\n",
       "        vertical-align: middle;\n",
       "    }\n",
       "\n",
       "    .dataframe tbody tr th {\n",
       "        vertical-align: top;\n",
       "    }\n",
       "\n",
       "    .dataframe thead th {\n",
       "        text-align: right;\n",
       "    }\n",
       "</style>\n",
       "<table border=\"1\" class=\"dataframe\">\n",
       "  <thead>\n",
       "    <tr style=\"text-align: right;\">\n",
       "      <th></th>\n",
       "      <th>movie_id</th>\n",
       "      <th>title</th>\n",
       "      <th>start_year</th>\n",
       "      <th>runtime_minutes</th>\n",
       "      <th>genres</th>\n",
       "      <th>averagerating</th>\n",
       "      <th>numvotes</th>\n",
       "      <th>studio</th>\n",
       "      <th>domestic_gross</th>\n",
       "      <th>foreign_gross</th>\n",
       "      <th>year</th>\n",
       "      <th>total_grossing</th>\n",
       "    </tr>\n",
       "  </thead>\n",
       "  <tbody>\n",
       "    <tr>\n",
       "      <th>0</th>\n",
       "      <td>tt0315642</td>\n",
       "      <td>Wazir</td>\n",
       "      <td>2016</td>\n",
       "      <td>103.0</td>\n",
       "      <td>Drama</td>\n",
       "      <td>7.1</td>\n",
       "      <td>15378</td>\n",
       "      <td>Relbig.</td>\n",
       "      <td>1100000.0</td>\n",
       "      <td>18700000.0</td>\n",
       "      <td>2016</td>\n",
       "      <td>19800000.0</td>\n",
       "    </tr>\n",
       "    <tr>\n",
       "      <th>1</th>\n",
       "      <td>tt0337692</td>\n",
       "      <td>On the Road</td>\n",
       "      <td>2012</td>\n",
       "      <td>124.0</td>\n",
       "      <td>Romance</td>\n",
       "      <td>6.1</td>\n",
       "      <td>37886</td>\n",
       "      <td>IFC</td>\n",
       "      <td>744000.0</td>\n",
       "      <td>8000000.0</td>\n",
       "      <td>2012</td>\n",
       "      <td>8744000.0</td>\n",
       "    </tr>\n",
       "    <tr>\n",
       "      <th>4</th>\n",
       "      <td>tt0359950</td>\n",
       "      <td>The Secret Life of Walter Mitty</td>\n",
       "      <td>2013</td>\n",
       "      <td>114.0</td>\n",
       "      <td>Drama</td>\n",
       "      <td>7.3</td>\n",
       "      <td>275300</td>\n",
       "      <td>Fox</td>\n",
       "      <td>58200000.0</td>\n",
       "      <td>129900000.0</td>\n",
       "      <td>2013</td>\n",
       "      <td>188100000.0</td>\n",
       "    </tr>\n",
       "    <tr>\n",
       "      <th>5</th>\n",
       "      <td>tt0365907</td>\n",
       "      <td>A Walk Among the Tombstones</td>\n",
       "      <td>2014</td>\n",
       "      <td>114.0</td>\n",
       "      <td>Crime</td>\n",
       "      <td>6.5</td>\n",
       "      <td>105116</td>\n",
       "      <td>Uni.</td>\n",
       "      <td>26300000.0</td>\n",
       "      <td>26900000.0</td>\n",
       "      <td>2014</td>\n",
       "      <td>53200000.0</td>\n",
       "    </tr>\n",
       "    <tr>\n",
       "      <th>6</th>\n",
       "      <td>tt0369610</td>\n",
       "      <td>Jurassic World</td>\n",
       "      <td>2015</td>\n",
       "      <td>124.0</td>\n",
       "      <td>Sci-Fi</td>\n",
       "      <td>7.0</td>\n",
       "      <td>539338</td>\n",
       "      <td>Uni.</td>\n",
       "      <td>652300000.0</td>\n",
       "      <td>1019.4</td>\n",
       "      <td>2015</td>\n",
       "      <td>652301019.4</td>\n",
       "    </tr>\n",
       "    <tr>\n",
       "      <th>7</th>\n",
       "      <td>tt0372538</td>\n",
       "      <td>Spy</td>\n",
       "      <td>2011</td>\n",
       "      <td>110.0</td>\n",
       "      <td>Action</td>\n",
       "      <td>6.6</td>\n",
       "      <td>78</td>\n",
       "      <td>Fox</td>\n",
       "      <td>110800000.0</td>\n",
       "      <td>124800000.0</td>\n",
       "      <td>2015</td>\n",
       "      <td>235600000.0</td>\n",
       "    </tr>\n",
       "    <tr>\n",
       "      <th>9</th>\n",
       "      <td>tt0376136</td>\n",
       "      <td>The Rum Diary</td>\n",
       "      <td>2011</td>\n",
       "      <td>119.0</td>\n",
       "      <td>Comedy</td>\n",
       "      <td>6.2</td>\n",
       "      <td>94787</td>\n",
       "      <td>FD</td>\n",
       "      <td>13100000.0</td>\n",
       "      <td>10800000.0</td>\n",
       "      <td>2011</td>\n",
       "      <td>23900000.0</td>\n",
       "    </tr>\n",
       "    <tr>\n",
       "      <th>10</th>\n",
       "      <td>tt0376479</td>\n",
       "      <td>American Pastoral</td>\n",
       "      <td>2016</td>\n",
       "      <td>108.0</td>\n",
       "      <td>Drama</td>\n",
       "      <td>6.1</td>\n",
       "      <td>12898</td>\n",
       "      <td>LGF</td>\n",
       "      <td>544000.0</td>\n",
       "      <td>18700000.0</td>\n",
       "      <td>2016</td>\n",
       "      <td>19244000.0</td>\n",
       "    </tr>\n",
       "    <tr>\n",
       "      <th>11</th>\n",
       "      <td>tt0383010</td>\n",
       "      <td>The Three Stooges</td>\n",
       "      <td>2012</td>\n",
       "      <td>92.0</td>\n",
       "      <td>Family</td>\n",
       "      <td>5.1</td>\n",
       "      <td>28570</td>\n",
       "      <td>Fox</td>\n",
       "      <td>44300000.0</td>\n",
       "      <td>10500000.0</td>\n",
       "      <td>2012</td>\n",
       "      <td>54800000.0</td>\n",
       "    </tr>\n",
       "    <tr>\n",
       "      <th>12</th>\n",
       "      <td>tt0398286</td>\n",
       "      <td>Tangled</td>\n",
       "      <td>2010</td>\n",
       "      <td>100.0</td>\n",
       "      <td>Comedy</td>\n",
       "      <td>7.8</td>\n",
       "      <td>366366</td>\n",
       "      <td>BV</td>\n",
       "      <td>200800000.0</td>\n",
       "      <td>391000000.0</td>\n",
       "      <td>2010</td>\n",
       "      <td>591800000.0</td>\n",
       "    </tr>\n",
       "  </tbody>\n",
       "</table>\n",
       "</div>"
      ],
      "text/plain": [
       "     movie_id                            title  start_year  runtime_minutes  \\\n",
       "0   tt0315642                            Wazir        2016            103.0   \n",
       "1   tt0337692                      On the Road        2012            124.0   \n",
       "4   tt0359950  The Secret Life of Walter Mitty        2013            114.0   \n",
       "5   tt0365907      A Walk Among the Tombstones        2014            114.0   \n",
       "6   tt0369610                   Jurassic World        2015            124.0   \n",
       "7   tt0372538                              Spy        2011            110.0   \n",
       "9   tt0376136                    The Rum Diary        2011            119.0   \n",
       "10  tt0376479                American Pastoral        2016            108.0   \n",
       "11  tt0383010                The Three Stooges        2012             92.0   \n",
       "12  tt0398286                          Tangled        2010            100.0   \n",
       "\n",
       "     genres  averagerating  numvotes   studio  domestic_gross  foreign_gross  \\\n",
       "0     Drama            7.1     15378  Relbig.       1100000.0     18700000.0   \n",
       "1   Romance            6.1     37886      IFC        744000.0      8000000.0   \n",
       "4     Drama            7.3    275300      Fox      58200000.0    129900000.0   \n",
       "5     Crime            6.5    105116     Uni.      26300000.0     26900000.0   \n",
       "6    Sci-Fi            7.0    539338     Uni.     652300000.0         1019.4   \n",
       "7    Action            6.6        78      Fox     110800000.0    124800000.0   \n",
       "9    Comedy            6.2     94787       FD      13100000.0     10800000.0   \n",
       "10    Drama            6.1     12898      LGF        544000.0     18700000.0   \n",
       "11   Family            5.1     28570      Fox      44300000.0     10500000.0   \n",
       "12   Comedy            7.8    366366       BV     200800000.0    391000000.0   \n",
       "\n",
       "    year  total_grossing  \n",
       "0   2016      19800000.0  \n",
       "1   2012       8744000.0  \n",
       "4   2013     188100000.0  \n",
       "5   2014      53200000.0  \n",
       "6   2015     652301019.4  \n",
       "7   2015     235600000.0  \n",
       "9   2011      23900000.0  \n",
       "10  2016      19244000.0  \n",
       "11  2012      54800000.0  \n",
       "12  2010     591800000.0  "
      ]
     },
     "execution_count": 41,
     "metadata": {},
     "output_type": "execute_result"
    }
   ],
   "source": [
    "df_clean.head(10)"
   ]
  },
  {
   "cell_type": "markdown",
   "metadata": {},
   "source": [
    "# Data Analysis"
   ]
  },
  {
   "cell_type": "markdown",
   "metadata": {},
   "source": [
    "### z-test"
   ]
  },
  {
   "cell_type": "markdown",
   "metadata": {},
   "source": [
    "Conduct a z-test to compare the averages of `domestic_gross` to `foreign_gross` to determine whether or not the differences could have happened by chance."
   ]
  },
  {
   "cell_type": "code",
   "execution_count": 42,
   "metadata": {},
   "outputs": [
    {
     "data": {
      "text/plain": [
       "(-10.15070046888189, 5.707635743081175e-24)"
      ]
     },
     "execution_count": 42,
     "metadata": {},
     "output_type": "execute_result"
    }
   ],
   "source": [
    "# Assign variables for the z-test\n",
    "domestic_gross = df['domestic_gross']\n",
    "foreign_gross = df['foreign_gross']\n",
    "\n",
    "# Calculate the means\n",
    "mean_domestic = np.mean(domestic_gross)\n",
    "mean_foreign = np.mean(foreign_gross)\n",
    "\n",
    "# Calculate the standard deviations\n",
    "std_domestic = np.std(domestic_gross, ddof=1)  # ddof=1 for sample standard deviation\n",
    "std_foreign = np.std(foreign_gross, ddof=1)\n",
    "\n",
    "# Calculate the sample sizes\n",
    "n_domestic = len(domestic_gross)\n",
    "n_foreign = len(foreign_gross)\n",
    "\n",
    "# Compute \n",
    "t_statistic, p_value = stats.ttest_ind(domestic_gross, foreign_gross, equal_var=False)\n",
    "t_statistic, p_value\n",
    "# Calculate the confidence interval"
   ]
  },
  {
   "cell_type": "markdown",
   "metadata": {},
   "source": [
    "* Since the p-value (5.7 e-24) is less than alpha; the difference between the domestic grossing and foreign grossing is statistically significant and could not have happened by chance. "
   ]
  },
  {
   "cell_type": "markdown",
   "metadata": {},
   "source": [
    "### ANOVA"
   ]
  },
  {
   "cell_type": "markdown",
   "metadata": {},
   "source": [
    "ANOVA is deemed the appropriate statistical test for determining whether a potential predictor factor has a significant influence on the dependent variable. In this case; the target variable is the total grossing of a film. The predictor factors to be examined is the genre of a movie, its runtime, and average rating. Since people have unique genre preferences for movies; this variable is a potential predictor factor for the total grossing of a film. Genre preference is also influenced by pop culture. For instance, in the early 2010s during the peak popularity of the Breaking Bad series triggered a spike in the viewership for Crime genre films. A movie's runtime is also a potential predictor factor on a film's total grossing. For instance, excessively long movies can easily become boring to viewers and film critics especially during the premiere week. Negative perceptions from the audience and criticisms voiced by film critics across platforms such as RottenTomato.com can have a substantial impact on a movie's total grossing in the long-run. Consequently, films with a relatively higher average rating are likelier to outperform their counterparts in the demand for theater tickets and viewership numbers across streaming platforms such as Netflix.     \n",
    "\n",
    "* <Strong> Null Hypothesis: </Strong> A movie's genre, runtime minutes, and average rating don't have an impact on total grossing.\n",
    "\n",
    "* <Strong> Alternative Hypothesis: </Strong> A movie's genre, runtime, and average rating have a significant influence on total grossing. \n",
    "\n",
    "* <strong> Significance level (alpha) = </strong> 0.05"
   ]
  },
  {
   "cell_type": "code",
   "execution_count": 43,
   "metadata": {},
   "outputs": [
    {
     "data": {
      "text/html": [
       "<div>\n",
       "<style scoped>\n",
       "    .dataframe tbody tr th:only-of-type {\n",
       "        vertical-align: middle;\n",
       "    }\n",
       "\n",
       "    .dataframe tbody tr th {\n",
       "        vertical-align: top;\n",
       "    }\n",
       "\n",
       "    .dataframe thead th {\n",
       "        text-align: right;\n",
       "    }\n",
       "</style>\n",
       "<table border=\"1\" class=\"dataframe\">\n",
       "  <thead>\n",
       "    <tr style=\"text-align: right;\">\n",
       "      <th></th>\n",
       "      <th>sum_sq</th>\n",
       "      <th>df</th>\n",
       "      <th>F</th>\n",
       "      <th>PR(&gt;F)</th>\n",
       "    </tr>\n",
       "  </thead>\n",
       "  <tbody>\n",
       "    <tr>\n",
       "      <th>C(genres)</th>\n",
       "      <td>1.457968e+19</td>\n",
       "      <td>21.0</td>\n",
       "      <td>30.224214</td>\n",
       "      <td>4.475662e-107</td>\n",
       "    </tr>\n",
       "    <tr>\n",
       "      <th>runtime_minutes</th>\n",
       "      <td>1.966371e+18</td>\n",
       "      <td>1.0</td>\n",
       "      <td>85.603559</td>\n",
       "      <td>4.487629e-20</td>\n",
       "    </tr>\n",
       "    <tr>\n",
       "      <th>averagerating</th>\n",
       "      <td>1.381368e+18</td>\n",
       "      <td>1.0</td>\n",
       "      <td>60.136167</td>\n",
       "      <td>1.265866e-14</td>\n",
       "    </tr>\n",
       "    <tr>\n",
       "      <th>Residual</th>\n",
       "      <td>5.905759e+19</td>\n",
       "      <td>2571.0</td>\n",
       "      <td>NaN</td>\n",
       "      <td>NaN</td>\n",
       "    </tr>\n",
       "  </tbody>\n",
       "</table>\n",
       "</div>"
      ],
      "text/plain": [
       "                       sum_sq      df          F         PR(>F)\n",
       "C(genres)        1.457968e+19    21.0  30.224214  4.475662e-107\n",
       "runtime_minutes  1.966371e+18     1.0  85.603559   4.487629e-20\n",
       "averagerating    1.381368e+18     1.0  60.136167   1.265866e-14\n",
       "Residual         5.905759e+19  2571.0        NaN            NaN"
      ]
     },
     "execution_count": 43,
     "metadata": {},
     "output_type": "execute_result"
    }
   ],
   "source": [
    "# Perform  ANOVA test \n",
    "formula = 'total_grossing ~ C(genres) + runtime_minutes + averagerating'\n",
    "model = ols(formula, data=df_clean).fit()\n",
    "anova_table = sm.stats.anova_lm(model, typ=2)\n",
    "anova_table"
   ]
  },
  {
   "cell_type": "markdown",
   "metadata": {},
   "source": [
    "Reject the Null Hypothesis because the p-values for `genre`, `runtime_minutes`, and `averagerating` are less than alpha (0.05). Thus, a movie's genre, runtime, and average rating have a statistically significant influence on total grossing.  "
   ]
  },
  {
   "cell_type": "markdown",
   "metadata": {},
   "source": [
    "### Visualizations"
   ]
  },
  {
   "cell_type": "code",
   "execution_count": 44,
   "metadata": {},
   "outputs": [
    {
     "data": {
      "image/png": "[encoded data removed]",
      "text/plain": [
       "<Figure size 1008x576 with 1 Axes>"
      ]
     },
     "metadata": {
      "needs_background": "light"
     },
     "output_type": "display_data"
    }
   ],
   "source": [
    "# Visualize total grossing distribution for different movie genres\n",
    "\n",
    "# Calculate the mean total_grossing for each genre\n",
    "genre_gross = df_clean.groupby('genres')['total_grossing'].mean().sort_values(ascending=False).head(7)\n",
    "\n",
    "# Get the sorted order of genres\n",
    "sorted_genres = genre_gross.index\n",
    "\n",
    "plt.figure(figsize=(14, 8))\n",
    "sns.barplot(x='total_grossing', y='genres', data=df_clean, order=sorted_genres)\n",
    "plt.title('Total Grossing for  (Sorted Descending)')\n",
    "plt.xlabel('Total Grossing')\n",
    "plt.ylabel('Genres')\n",
    "plt.xticks(rotation=0, ha='right')\n",
    "plt.tight_layout()\n",
    "plt.show()"
   ]
  },
  {
   "cell_type": "markdown",
   "metadata": {},
   "source": [
    "* Studios the company can do a case study on or benchmark to see what works"
   ]
  },
  {
   "cell_type": "code",
   "execution_count": 45,
   "metadata": {},
   "outputs": [
    {
     "data": {
      "image/png": "[encoded data removed]",
      "text/plain": [
       "<Figure size 1008x576 with 1 Axes>"
      ]
     },
     "metadata": {
      "needs_background": "light"
     },
     "output_type": "display_data"
    }
   ],
   "source": [
    "# use .groupby() to group studio and total_grossing\n",
    "studio_gross_mean = df_clean.groupby('studio')['total_grossing'].mean().sort_values(ascending=False).head(7)\n",
    "\n",
    "plt.figure(figsize=(14, 8))\n",
    "sns.barplot(x=studio_gross_mean.index, y=studio_gross_mean.values)\n",
    "plt.title('Top 5 Studios by Average Total Grossing')\n",
    "plt.xticks(rotation=0, ha='right')\n",
    "plt.tight_layout()\n",
    "plt.show()"
   ]
  }
 ],
 "metadata": {
  "kernelspec": {
   "display_name": "Python (learn-env)",
   "language": "python",
   "name": "learn-env"
  },
  "language_info": {
   "codemirror_mode": {
    "name": "ipython",
    "version": 3
   },
   "file_extension": ".py",
   "mimetype": "text/x-python",
   "name": "python",
   "nbconvert_exporter": "python",
   "pygments_lexer": "ipython3",
   "version": "3.8.5"
  }
 },
 "nbformat": 4,
 "nbformat_minor": 4
}
